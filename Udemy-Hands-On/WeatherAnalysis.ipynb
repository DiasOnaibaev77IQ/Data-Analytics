{
  "metadata": {
    "kernelspec": {
      "name": "python",
      "display_name": "Python (Pyodide)",
      "language": "python"
    },
    "language_info": {
      "codemirror_mode": {
        "name": "python",
        "version": 3
      },
      "file_extension": ".py",
      "mimetype": "text/x-python",
      "name": "python",
      "nbconvert_exporter": "python",
      "pygments_lexer": "ipython3",
      "version": "3.8"
    }
  },
  "nbformat_minor": 4,
  "nbformat": 4,
  "cells": [
    {
      "cell_type": "markdown",
      "source": "# Working on Real Project with Python ",
      "metadata": {}
    },
    {
      "cell_type": "markdown",
      "source": "# (A part of Big Data Analysis)",
      "metadata": {}
    },
    {
      "cell_type": "markdown",
      "source": "-----",
      "metadata": {}
    },
    {
      "cell_type": "markdown",
      "source": "# The Weather Dataset\n***\nHere, \nThe Weather Dataset is a time-series data set with per-hour information about the weather conditions at a particular location. It records Temperature, Dew Point Temperature, Relative Humidity, Wind Speed, Visibility, Pressure, and Conditions.\n\n\nThis data is available as a CSV file. We are going to analyze this data set using the Pandas DataFrame.",
      "metadata": {}
    },
    {
      "cell_type": "code",
      "source": "import pandas as pd",
      "metadata": {
        "trusted": true
      },
      "outputs": [
        {
          "name": "stderr",
          "text": "<ipython-input-2-7dd3504c366f>:1: DeprecationWarning: \nPyarrow will become a required dependency of pandas in the next major release of pandas (pandas 3.0),\n(to allow more performant data types, such as the Arrow string type, and better interoperability with other libraries)\nbut was not found to be installed on your system.\nIf this would cause problems for you,\nplease provide us feedback at https://github.com/pandas-dev/pandas/issues/54466\n        \n  import pandas as pd\n",
          "output_type": "stream"
        }
      ],
      "execution_count": 2
    },
    {
      "cell_type": "code",
      "source": "data = pd.read_csv(r'csv_files/weather_data.csv')",
      "metadata": {
        "trusted": true
      },
      "outputs": [],
      "execution_count": 3
    },
    {
      "cell_type": "code",
      "source": "data.head(5)",
      "metadata": {
        "trusted": true
      },
      "outputs": [
        {
          "execution_count": 17,
          "output_type": "execute_result",
          "data": {
            "text/plain": "       Date/Time  Temp_C  Dew Point Temp_C  Rel Hum_%  Wind Speed_km/h  \\\n0  1/1/2012 0:00    -1.8              -3.9         86                4   \n1  1/1/2012 1:00    -1.8              -3.7         87                4   \n2  1/1/2012 2:00    -1.8              -3.4         89                7   \n3  1/1/2012 3:00    -1.5              -3.2         88                6   \n4  1/1/2012 4:00    -1.5              -3.3         88                7   \n\n   Visibility_km  Press_kPa               Weather  \n0            8.0     101.24                   Fog  \n1            8.0     101.24                   Fog  \n2            4.0     101.26  Freezing Drizzle,Fog  \n3            4.0     101.27  Freezing Drizzle,Fog  \n4            4.8     101.23                   Fog  ",
            "text/html": "<div>\n<style scoped>\n    .dataframe tbody tr th:only-of-type {\n        vertical-align: middle;\n    }\n\n    .dataframe tbody tr th {\n        vertical-align: top;\n    }\n\n    .dataframe thead th {\n        text-align: right;\n    }\n</style>\n<table border=\"1\" class=\"dataframe\">\n  <thead>\n    <tr style=\"text-align: right;\">\n      <th></th>\n      <th>Date/Time</th>\n      <th>Temp_C</th>\n      <th>Dew Point Temp_C</th>\n      <th>Rel Hum_%</th>\n      <th>Wind Speed_km/h</th>\n      <th>Visibility_km</th>\n      <th>Press_kPa</th>\n      <th>Weather</th>\n    </tr>\n  </thead>\n  <tbody>\n    <tr>\n      <th>0</th>\n      <td>1/1/2012 0:00</td>\n      <td>-1.8</td>\n      <td>-3.9</td>\n      <td>86</td>\n      <td>4</td>\n      <td>8.0</td>\n      <td>101.24</td>\n      <td>Fog</td>\n    </tr>\n    <tr>\n      <th>1</th>\n      <td>1/1/2012 1:00</td>\n      <td>-1.8</td>\n      <td>-3.7</td>\n      <td>87</td>\n      <td>4</td>\n      <td>8.0</td>\n      <td>101.24</td>\n      <td>Fog</td>\n    </tr>\n    <tr>\n      <th>2</th>\n      <td>1/1/2012 2:00</td>\n      <td>-1.8</td>\n      <td>-3.4</td>\n      <td>89</td>\n      <td>7</td>\n      <td>4.0</td>\n      <td>101.26</td>\n      <td>Freezing Drizzle,Fog</td>\n    </tr>\n    <tr>\n      <th>3</th>\n      <td>1/1/2012 3:00</td>\n      <td>-1.5</td>\n      <td>-3.2</td>\n      <td>88</td>\n      <td>6</td>\n      <td>4.0</td>\n      <td>101.27</td>\n      <td>Freezing Drizzle,Fog</td>\n    </tr>\n    <tr>\n      <th>4</th>\n      <td>1/1/2012 4:00</td>\n      <td>-1.5</td>\n      <td>-3.3</td>\n      <td>88</td>\n      <td>7</td>\n      <td>4.8</td>\n      <td>101.23</td>\n      <td>Fog</td>\n    </tr>\n  </tbody>\n</table>\n</div>"
          },
          "metadata": {}
        }
      ],
      "execution_count": 17
    },
    {
      "cell_type": "markdown",
      "source": "# How to Analyze DataFrames ?",
      "metadata": {}
    },
    {
      "cell_type": "markdown",
      "source": "# .head()\nIt shows the first N rows in the data (by default, N=5).",
      "metadata": {}
    },
    {
      "cell_type": "code",
      "source": "data.head(3)",
      "metadata": {
        "trusted": true
      },
      "outputs": [
        {
          "execution_count": 18,
          "output_type": "execute_result",
          "data": {
            "text/plain": "       Date/Time  Temp_C  Dew Point Temp_C  Rel Hum_%  Wind Speed_km/h  \\\n0  1/1/2012 0:00    -1.8              -3.9         86                4   \n1  1/1/2012 1:00    -1.8              -3.7         87                4   \n2  1/1/2012 2:00    -1.8              -3.4         89                7   \n\n   Visibility_km  Press_kPa               Weather  \n0            8.0     101.24                   Fog  \n1            8.0     101.24                   Fog  \n2            4.0     101.26  Freezing Drizzle,Fog  ",
            "text/html": "<div>\n<style scoped>\n    .dataframe tbody tr th:only-of-type {\n        vertical-align: middle;\n    }\n\n    .dataframe tbody tr th {\n        vertical-align: top;\n    }\n\n    .dataframe thead th {\n        text-align: right;\n    }\n</style>\n<table border=\"1\" class=\"dataframe\">\n  <thead>\n    <tr style=\"text-align: right;\">\n      <th></th>\n      <th>Date/Time</th>\n      <th>Temp_C</th>\n      <th>Dew Point Temp_C</th>\n      <th>Rel Hum_%</th>\n      <th>Wind Speed_km/h</th>\n      <th>Visibility_km</th>\n      <th>Press_kPa</th>\n      <th>Weather</th>\n    </tr>\n  </thead>\n  <tbody>\n    <tr>\n      <th>0</th>\n      <td>1/1/2012 0:00</td>\n      <td>-1.8</td>\n      <td>-3.9</td>\n      <td>86</td>\n      <td>4</td>\n      <td>8.0</td>\n      <td>101.24</td>\n      <td>Fog</td>\n    </tr>\n    <tr>\n      <th>1</th>\n      <td>1/1/2012 1:00</td>\n      <td>-1.8</td>\n      <td>-3.7</td>\n      <td>87</td>\n      <td>4</td>\n      <td>8.0</td>\n      <td>101.24</td>\n      <td>Fog</td>\n    </tr>\n    <tr>\n      <th>2</th>\n      <td>1/1/2012 2:00</td>\n      <td>-1.8</td>\n      <td>-3.4</td>\n      <td>89</td>\n      <td>7</td>\n      <td>4.0</td>\n      <td>101.26</td>\n      <td>Freezing Drizzle,Fog</td>\n    </tr>\n  </tbody>\n</table>\n</div>"
          },
          "metadata": {}
        }
      ],
      "execution_count": 18
    },
    {
      "cell_type": "markdown",
      "source": "# .shape\n\nIt shows the total no. of rows and no. of columns of the dataframe",
      "metadata": {}
    },
    {
      "cell_type": "code",
      "source": "data.shape",
      "metadata": {
        "trusted": true
      },
      "outputs": [
        {
          "execution_count": 19,
          "output_type": "execute_result",
          "data": {
            "text/plain": "(8784, 8)"
          },
          "metadata": {}
        }
      ],
      "execution_count": 19
    },
    {
      "cell_type": "markdown",
      "source": "# .index\nThis attribute provides the index of the dataframe",
      "metadata": {}
    },
    {
      "cell_type": "code",
      "source": "data.index",
      "metadata": {
        "trusted": true
      },
      "outputs": [
        {
          "execution_count": 20,
          "output_type": "execute_result",
          "data": {
            "text/plain": "RangeIndex(start=0, stop=8784, step=1)"
          },
          "metadata": {}
        }
      ],
      "execution_count": 20
    },
    {
      "cell_type": "markdown",
      "source": "# .columns\nIt shows the name of each column",
      "metadata": {}
    },
    {
      "cell_type": "code",
      "source": "data.columns",
      "metadata": {
        "trusted": true
      },
      "outputs": [
        {
          "execution_count": 21,
          "output_type": "execute_result",
          "data": {
            "text/plain": "Index(['Date/Time', 'Temp_C', 'Dew Point Temp_C', 'Rel Hum_%',\n       'Wind Speed_km/h', 'Visibility_km', 'Press_kPa', 'Weather'],\n      dtype='object')"
          },
          "metadata": {}
        }
      ],
      "execution_count": 21
    },
    {
      "cell_type": "markdown",
      "source": "# .dtypes\nIt shows the data-type of each column ",
      "metadata": {}
    },
    {
      "cell_type": "code",
      "source": "data.dtypes",
      "metadata": {
        "trusted": true
      },
      "outputs": [
        {
          "execution_count": 22,
          "output_type": "execute_result",
          "data": {
            "text/plain": "Date/Time            object\nTemp_C              float64\nDew Point Temp_C    float64\nRel Hum_%             int64\nWind Speed_km/h       int64\nVisibility_km       float64\nPress_kPa           float64\nWeather              object\ndtype: object"
          },
          "metadata": {}
        }
      ],
      "execution_count": 22
    },
    {
      "cell_type": "markdown",
      "source": "# .unique()\nIn a column, it shows all the unique values. \nIt can be applied on a single column only, not on the whole dataframe.",
      "metadata": {}
    },
    {
      "cell_type": "code",
      "source": "data.Weather.unique()",
      "metadata": {
        "trusted": true
      },
      "outputs": [
        {
          "execution_count": 23,
          "output_type": "execute_result",
          "data": {
            "text/plain": "array(['Fog', 'Freezing Drizzle,Fog', 'Mostly Cloudy', 'Cloudy', 'Rain',\n       'Rain Showers', 'Mainly Clear', 'Snow Showers', 'Snow', 'Clear',\n       'Freezing Rain,Fog', 'Freezing Rain', 'Freezing Drizzle',\n       'Rain,Snow', 'Moderate Snow', 'Freezing Drizzle,Snow',\n       'Freezing Rain,Snow Grains', 'Snow,Blowing Snow', 'Freezing Fog',\n       'Haze', 'Rain,Fog', 'Drizzle,Fog', 'Drizzle',\n       'Freezing Drizzle,Haze', 'Freezing Rain,Haze', 'Snow,Haze',\n       'Snow,Fog', 'Snow,Ice Pellets', 'Rain,Haze', 'Thunderstorms,Rain',\n       'Thunderstorms,Rain Showers', 'Thunderstorms,Heavy Rain Showers',\n       'Thunderstorms,Rain Showers,Fog', 'Thunderstorms',\n       'Thunderstorms,Rain,Fog',\n       'Thunderstorms,Moderate Rain Showers,Fog', 'Rain Showers,Fog',\n       'Rain Showers,Snow Showers', 'Snow Pellets', 'Rain,Snow,Fog',\n       'Moderate Rain,Fog', 'Freezing Rain,Ice Pellets,Fog',\n       'Drizzle,Ice Pellets,Fog', 'Drizzle,Snow', 'Rain,Ice Pellets',\n       'Drizzle,Snow,Fog', 'Rain,Snow Grains', 'Rain,Snow,Ice Pellets',\n       'Snow Showers,Fog', 'Moderate Snow,Blowing Snow'], dtype=object)"
          },
          "metadata": {}
        }
      ],
      "execution_count": 23
    },
    {
      "cell_type": "markdown",
      "source": "# .nunique()\nIt shows the total no. of unique values in each column. \nIt can be applied on a single column as well as on whole dataframe.",
      "metadata": {}
    },
    {
      "cell_type": "code",
      "source": "data.nunique()",
      "metadata": {
        "trusted": true
      },
      "outputs": [
        {
          "execution_count": 24,
          "output_type": "execute_result",
          "data": {
            "text/plain": "Date/Time           8784\nTemp_C               533\nDew Point Temp_C     489\nRel Hum_%             83\nWind Speed_km/h       34\nVisibility_km         24\nPress_kPa            518\nWeather               50\ndtype: int64"
          },
          "metadata": {}
        }
      ],
      "execution_count": 24
    },
    {
      "cell_type": "markdown",
      "source": "# .count \nIt shows the total no. of non-null values in each column. \nIt can be applied on a single column as well as on whole dataframe.",
      "metadata": {}
    },
    {
      "cell_type": "code",
      "source": "data.count()",
      "metadata": {
        "trusted": true
      },
      "outputs": [
        {
          "execution_count": 25,
          "output_type": "execute_result",
          "data": {
            "text/plain": "Date/Time           8784\nTemp_C              8784\nDew Point Temp_C    8784\nRel Hum_%           8784\nWind Speed_km/h     8784\nVisibility_km       8784\nPress_kPa           8784\nWeather             8784\ndtype: int64"
          },
          "metadata": {}
        }
      ],
      "execution_count": 25
    },
    {
      "cell_type": "markdown",
      "source": "# .value_counts\nIn a column, it shows all the unique values with their count. It can be applied on single column only.",
      "metadata": {}
    },
    {
      "cell_type": "code",
      "source": "data.Weather.value_counts()",
      "metadata": {
        "trusted": true
      },
      "outputs": [
        {
          "execution_count": 26,
          "output_type": "execute_result",
          "data": {
            "text/plain": "Weather\nMainly Clear                               2106\nMostly Cloudy                              2069\nCloudy                                     1728\nClear                                      1326\nSnow                                        390\nRain                                        306\nRain Showers                                188\nFog                                         150\nRain,Fog                                    116\nDrizzle,Fog                                  80\nSnow Showers                                 60\nDrizzle                                      41\nSnow,Fog                                     37\nSnow,Blowing Snow                            19\nRain,Snow                                    18\nThunderstorms,Rain Showers                   16\nHaze                                         16\nDrizzle,Snow,Fog                             15\nFreezing Rain                                14\nFreezing Drizzle,Snow                        11\nFreezing Drizzle                              7\nSnow,Ice Pellets                              6\nFreezing Drizzle,Fog                          6\nSnow,Haze                                     5\nFreezing Fog                                  4\nSnow Showers,Fog                              4\nModerate Snow                                 4\nRain,Snow,Ice Pellets                         4\nFreezing Rain,Fog                             4\nFreezing Drizzle,Haze                         3\nRain,Haze                                     3\nThunderstorms,Rain                            3\nThunderstorms,Rain Showers,Fog                3\nFreezing Rain,Haze                            2\nDrizzle,Snow                                  2\nRain Showers,Snow Showers                     2\nThunderstorms                                 2\nModerate Snow,Blowing Snow                    2\nRain Showers,Fog                              1\nThunderstorms,Moderate Rain Showers,Fog       1\nSnow Pellets                                  1\nRain,Snow,Fog                                 1\nModerate Rain,Fog                             1\nFreezing Rain,Ice Pellets,Fog                 1\nDrizzle,Ice Pellets,Fog                       1\nThunderstorms,Rain,Fog                        1\nRain,Ice Pellets                              1\nRain,Snow Grains                              1\nThunderstorms,Heavy Rain Showers              1\nFreezing Rain,Snow Grains                     1\nName: count, dtype: int64"
          },
          "metadata": {}
        }
      ],
      "execution_count": 26
    },
    {
      "cell_type": "markdown",
      "source": "# .info()\nProvides basic information about the dataframe.",
      "metadata": {}
    },
    {
      "cell_type": "code",
      "source": "data.info()",
      "metadata": {
        "trusted": true
      },
      "outputs": [
        {
          "name": "stdout",
          "text": "<class 'pandas.core.frame.DataFrame'>\nRangeIndex: 8784 entries, 0 to 8783\nData columns (total 8 columns):\n #   Column            Non-Null Count  Dtype  \n---  ------            --------------  -----  \n 0   Date/Time         8784 non-null   object \n 1   Temp_C            8784 non-null   float64\n 2   Dew Point Temp_C  8784 non-null   float64\n 3   Rel Hum_%         8784 non-null   int64  \n 4   Wind Speed_km/h   8784 non-null   int64  \n 5   Visibility_km     8784 non-null   float64\n 6   Press_kPa         8784 non-null   float64\n 7   Weather           8784 non-null   object \ndtypes: float64(4), int64(2), object(2)\nmemory usage: 480.4+ KB\n",
          "output_type": "stream"
        }
      ],
      "execution_count": 27
    },
    {
      "cell_type": "markdown",
      "source": "-----",
      "metadata": {}
    },
    {
      "cell_type": "markdown",
      "source": "# Q) 1.  Find all the unique 'Wind Speed' values in the data.",
      "metadata": {}
    },
    {
      "cell_type": "code",
      "source": "data.head(3)",
      "metadata": {
        "trusted": true
      },
      "outputs": [
        {
          "execution_count": 28,
          "output_type": "execute_result",
          "data": {
            "text/plain": "       Date/Time  Temp_C  Dew Point Temp_C  Rel Hum_%  Wind Speed_km/h  \\\n0  1/1/2012 0:00    -1.8              -3.9         86                4   \n1  1/1/2012 1:00    -1.8              -3.7         87                4   \n2  1/1/2012 2:00    -1.8              -3.4         89                7   \n\n   Visibility_km  Press_kPa               Weather  \n0            8.0     101.24                   Fog  \n1            8.0     101.24                   Fog  \n2            4.0     101.26  Freezing Drizzle,Fog  ",
            "text/html": "<div>\n<style scoped>\n    .dataframe tbody tr th:only-of-type {\n        vertical-align: middle;\n    }\n\n    .dataframe tbody tr th {\n        vertical-align: top;\n    }\n\n    .dataframe thead th {\n        text-align: right;\n    }\n</style>\n<table border=\"1\" class=\"dataframe\">\n  <thead>\n    <tr style=\"text-align: right;\">\n      <th></th>\n      <th>Date/Time</th>\n      <th>Temp_C</th>\n      <th>Dew Point Temp_C</th>\n      <th>Rel Hum_%</th>\n      <th>Wind Speed_km/h</th>\n      <th>Visibility_km</th>\n      <th>Press_kPa</th>\n      <th>Weather</th>\n    </tr>\n  </thead>\n  <tbody>\n    <tr>\n      <th>0</th>\n      <td>1/1/2012 0:00</td>\n      <td>-1.8</td>\n      <td>-3.9</td>\n      <td>86</td>\n      <td>4</td>\n      <td>8.0</td>\n      <td>101.24</td>\n      <td>Fog</td>\n    </tr>\n    <tr>\n      <th>1</th>\n      <td>1/1/2012 1:00</td>\n      <td>-1.8</td>\n      <td>-3.7</td>\n      <td>87</td>\n      <td>4</td>\n      <td>8.0</td>\n      <td>101.24</td>\n      <td>Fog</td>\n    </tr>\n    <tr>\n      <th>2</th>\n      <td>1/1/2012 2:00</td>\n      <td>-1.8</td>\n      <td>-3.4</td>\n      <td>89</td>\n      <td>7</td>\n      <td>4.0</td>\n      <td>101.26</td>\n      <td>Freezing Drizzle,Fog</td>\n    </tr>\n  </tbody>\n</table>\n</div>"
          },
          "metadata": {}
        }
      ],
      "execution_count": 28
    },
    {
      "cell_type": "code",
      "source": "data[\"Wind Speed_km/h\"].unique() # Answer",
      "metadata": {
        "trusted": true
      },
      "outputs": [
        {
          "execution_count": 29,
          "output_type": "execute_result",
          "data": {
            "text/plain": "array([ 4,  7,  6,  9, 15, 13, 20, 22, 19, 24, 30, 35, 39, 32, 33, 26, 44,\n       43, 48, 37, 28, 17, 11,  0, 83, 70, 57, 46, 41, 52, 50, 63, 54,  2],\n      dtype=int64)"
          },
          "metadata": {}
        }
      ],
      "execution_count": 29
    },
    {
      "cell_type": "markdown",
      "source": "# Q) 2. Find the number of times when the 'Weather is exactly Clear'.",
      "metadata": {}
    },
    {
      "cell_type": "code",
      "source": "data.head(3)",
      "metadata": {
        "trusted": true
      },
      "outputs": [
        {
          "execution_count": 30,
          "output_type": "execute_result",
          "data": {
            "text/plain": "       Date/Time  Temp_C  Dew Point Temp_C  Rel Hum_%  Wind Speed_km/h  \\\n0  1/1/2012 0:00    -1.8              -3.9         86                4   \n1  1/1/2012 1:00    -1.8              -3.7         87                4   \n2  1/1/2012 2:00    -1.8              -3.4         89                7   \n\n   Visibility_km  Press_kPa               Weather  \n0            8.0     101.24                   Fog  \n1            8.0     101.24                   Fog  \n2            4.0     101.26  Freezing Drizzle,Fog  ",
            "text/html": "<div>\n<style scoped>\n    .dataframe tbody tr th:only-of-type {\n        vertical-align: middle;\n    }\n\n    .dataframe tbody tr th {\n        vertical-align: top;\n    }\n\n    .dataframe thead th {\n        text-align: right;\n    }\n</style>\n<table border=\"1\" class=\"dataframe\">\n  <thead>\n    <tr style=\"text-align: right;\">\n      <th></th>\n      <th>Date/Time</th>\n      <th>Temp_C</th>\n      <th>Dew Point Temp_C</th>\n      <th>Rel Hum_%</th>\n      <th>Wind Speed_km/h</th>\n      <th>Visibility_km</th>\n      <th>Press_kPa</th>\n      <th>Weather</th>\n    </tr>\n  </thead>\n  <tbody>\n    <tr>\n      <th>0</th>\n      <td>1/1/2012 0:00</td>\n      <td>-1.8</td>\n      <td>-3.9</td>\n      <td>86</td>\n      <td>4</td>\n      <td>8.0</td>\n      <td>101.24</td>\n      <td>Fog</td>\n    </tr>\n    <tr>\n      <th>1</th>\n      <td>1/1/2012 1:00</td>\n      <td>-1.8</td>\n      <td>-3.7</td>\n      <td>87</td>\n      <td>4</td>\n      <td>8.0</td>\n      <td>101.24</td>\n      <td>Fog</td>\n    </tr>\n    <tr>\n      <th>2</th>\n      <td>1/1/2012 2:00</td>\n      <td>-1.8</td>\n      <td>-3.4</td>\n      <td>89</td>\n      <td>7</td>\n      <td>4.0</td>\n      <td>101.26</td>\n      <td>Freezing Drizzle,Fog</td>\n    </tr>\n  </tbody>\n</table>\n</div>"
          },
          "metadata": {}
        }
      ],
      "execution_count": 30
    },
    {
      "cell_type": "code",
      "source": "data.Weather.value_counts()[\"Clear\"] # Answer",
      "metadata": {
        "trusted": true
      },
      "outputs": [
        {
          "execution_count": 34,
          "output_type": "execute_result",
          "data": {
            "text/plain": "1326"
          },
          "metadata": {}
        }
      ],
      "execution_count": 34
    },
    {
      "cell_type": "markdown",
      "source": "# Q) 3. Find the number of times when the 'Wind Speed was exactly 4 km/h'.",
      "metadata": {}
    },
    {
      "cell_type": "code",
      "source": "data.head(3)",
      "metadata": {
        "trusted": true
      },
      "outputs": [
        {
          "execution_count": 35,
          "output_type": "execute_result",
          "data": {
            "text/plain": "       Date/Time  Temp_C  Dew Point Temp_C  Rel Hum_%  Wind Speed_km/h  \\\n0  1/1/2012 0:00    -1.8              -3.9         86                4   \n1  1/1/2012 1:00    -1.8              -3.7         87                4   \n2  1/1/2012 2:00    -1.8              -3.4         89                7   \n\n   Visibility_km  Press_kPa               Weather  \n0            8.0     101.24                   Fog  \n1            8.0     101.24                   Fog  \n2            4.0     101.26  Freezing Drizzle,Fog  ",
            "text/html": "<div>\n<style scoped>\n    .dataframe tbody tr th:only-of-type {\n        vertical-align: middle;\n    }\n\n    .dataframe tbody tr th {\n        vertical-align: top;\n    }\n\n    .dataframe thead th {\n        text-align: right;\n    }\n</style>\n<table border=\"1\" class=\"dataframe\">\n  <thead>\n    <tr style=\"text-align: right;\">\n      <th></th>\n      <th>Date/Time</th>\n      <th>Temp_C</th>\n      <th>Dew Point Temp_C</th>\n      <th>Rel Hum_%</th>\n      <th>Wind Speed_km/h</th>\n      <th>Visibility_km</th>\n      <th>Press_kPa</th>\n      <th>Weather</th>\n    </tr>\n  </thead>\n  <tbody>\n    <tr>\n      <th>0</th>\n      <td>1/1/2012 0:00</td>\n      <td>-1.8</td>\n      <td>-3.9</td>\n      <td>86</td>\n      <td>4</td>\n      <td>8.0</td>\n      <td>101.24</td>\n      <td>Fog</td>\n    </tr>\n    <tr>\n      <th>1</th>\n      <td>1/1/2012 1:00</td>\n      <td>-1.8</td>\n      <td>-3.7</td>\n      <td>87</td>\n      <td>4</td>\n      <td>8.0</td>\n      <td>101.24</td>\n      <td>Fog</td>\n    </tr>\n    <tr>\n      <th>2</th>\n      <td>1/1/2012 2:00</td>\n      <td>-1.8</td>\n      <td>-3.4</td>\n      <td>89</td>\n      <td>7</td>\n      <td>4.0</td>\n      <td>101.26</td>\n      <td>Freezing Drizzle,Fog</td>\n    </tr>\n  </tbody>\n</table>\n</div>"
          },
          "metadata": {}
        }
      ],
      "execution_count": 35
    },
    {
      "cell_type": "code",
      "source": "data.groupby(\"Wind Speed_km/h\").get_group(4) ",
      "metadata": {
        "trusted": true
      },
      "outputs": [
        {
          "execution_count": 37,
          "output_type": "execute_result",
          "data": {
            "text/plain": "             Date/Time  Temp_C  Dew Point Temp_C  Rel Hum_%  Wind Speed_km/h  \\\n0        1/1/2012 0:00    -1.8              -3.9         86                4   \n1        1/1/2012 1:00    -1.8              -3.7         87                4   \n96       1/5/2012 0:00    -8.8             -11.7         79                4   \n101      1/5/2012 5:00    -7.0              -9.5         82                4   \n146      1/7/2012 2:00    -8.1             -11.1         79                4   \n...                ...     ...               ...        ...              ...   \n8768   12/31/2012 8:00    -8.6             -10.3         87                4   \n8769   12/31/2012 9:00    -8.1              -9.6         89                4   \n8770  12/31/2012 10:00    -7.4              -8.9         89                4   \n8772  12/31/2012 12:00    -5.8              -7.5         88                4   \n8773  12/31/2012 13:00    -4.6              -6.6         86                4   \n\n      Visibility_km  Press_kPa       Weather  \n0               8.0     101.24           Fog  \n1               8.0     101.24           Fog  \n96              9.7     100.32          Snow  \n101             4.0     100.19          Snow  \n146            19.3     100.15        Cloudy  \n...             ...        ...           ...  \n8768            3.2     101.14  Snow Showers  \n8769            2.4     101.09          Snow  \n8770            6.4     101.05      Snow,Fog  \n8772           12.9     100.78          Snow  \n8773           12.9     100.63          Snow  \n\n[474 rows x 8 columns]",
            "text/html": "<div>\n<style scoped>\n    .dataframe tbody tr th:only-of-type {\n        vertical-align: middle;\n    }\n\n    .dataframe tbody tr th {\n        vertical-align: top;\n    }\n\n    .dataframe thead th {\n        text-align: right;\n    }\n</style>\n<table border=\"1\" class=\"dataframe\">\n  <thead>\n    <tr style=\"text-align: right;\">\n      <th></th>\n      <th>Date/Time</th>\n      <th>Temp_C</th>\n      <th>Dew Point Temp_C</th>\n      <th>Rel Hum_%</th>\n      <th>Wind Speed_km/h</th>\n      <th>Visibility_km</th>\n      <th>Press_kPa</th>\n      <th>Weather</th>\n    </tr>\n  </thead>\n  <tbody>\n    <tr>\n      <th>0</th>\n      <td>1/1/2012 0:00</td>\n      <td>-1.8</td>\n      <td>-3.9</td>\n      <td>86</td>\n      <td>4</td>\n      <td>8.0</td>\n      <td>101.24</td>\n      <td>Fog</td>\n    </tr>\n    <tr>\n      <th>1</th>\n      <td>1/1/2012 1:00</td>\n      <td>-1.8</td>\n      <td>-3.7</td>\n      <td>87</td>\n      <td>4</td>\n      <td>8.0</td>\n      <td>101.24</td>\n      <td>Fog</td>\n    </tr>\n    <tr>\n      <th>96</th>\n      <td>1/5/2012 0:00</td>\n      <td>-8.8</td>\n      <td>-11.7</td>\n      <td>79</td>\n      <td>4</td>\n      <td>9.7</td>\n      <td>100.32</td>\n      <td>Snow</td>\n    </tr>\n    <tr>\n      <th>101</th>\n      <td>1/5/2012 5:00</td>\n      <td>-7.0</td>\n      <td>-9.5</td>\n      <td>82</td>\n      <td>4</td>\n      <td>4.0</td>\n      <td>100.19</td>\n      <td>Snow</td>\n    </tr>\n    <tr>\n      <th>146</th>\n      <td>1/7/2012 2:00</td>\n      <td>-8.1</td>\n      <td>-11.1</td>\n      <td>79</td>\n      <td>4</td>\n      <td>19.3</td>\n      <td>100.15</td>\n      <td>Cloudy</td>\n    </tr>\n    <tr>\n      <th>...</th>\n      <td>...</td>\n      <td>...</td>\n      <td>...</td>\n      <td>...</td>\n      <td>...</td>\n      <td>...</td>\n      <td>...</td>\n      <td>...</td>\n    </tr>\n    <tr>\n      <th>8768</th>\n      <td>12/31/2012 8:00</td>\n      <td>-8.6</td>\n      <td>-10.3</td>\n      <td>87</td>\n      <td>4</td>\n      <td>3.2</td>\n      <td>101.14</td>\n      <td>Snow Showers</td>\n    </tr>\n    <tr>\n      <th>8769</th>\n      <td>12/31/2012 9:00</td>\n      <td>-8.1</td>\n      <td>-9.6</td>\n      <td>89</td>\n      <td>4</td>\n      <td>2.4</td>\n      <td>101.09</td>\n      <td>Snow</td>\n    </tr>\n    <tr>\n      <th>8770</th>\n      <td>12/31/2012 10:00</td>\n      <td>-7.4</td>\n      <td>-8.9</td>\n      <td>89</td>\n      <td>4</td>\n      <td>6.4</td>\n      <td>101.05</td>\n      <td>Snow,Fog</td>\n    </tr>\n    <tr>\n      <th>8772</th>\n      <td>12/31/2012 12:00</td>\n      <td>-5.8</td>\n      <td>-7.5</td>\n      <td>88</td>\n      <td>4</td>\n      <td>12.9</td>\n      <td>100.78</td>\n      <td>Snow</td>\n    </tr>\n    <tr>\n      <th>8773</th>\n      <td>12/31/2012 13:00</td>\n      <td>-4.6</td>\n      <td>-6.6</td>\n      <td>86</td>\n      <td>4</td>\n      <td>12.9</td>\n      <td>100.63</td>\n      <td>Snow</td>\n    </tr>\n  </tbody>\n</table>\n<p>474 rows × 8 columns</p>\n</div>"
          },
          "metadata": {}
        }
      ],
      "execution_count": 37
    },
    {
      "cell_type": "code",
      "source": "data[\"Wind Speed_km/h\"].value_counts()[4]",
      "metadata": {
        "trusted": true
      },
      "outputs": [
        {
          "execution_count": 38,
          "output_type": "execute_result",
          "data": {
            "text/plain": "474"
          },
          "metadata": {}
        }
      ],
      "execution_count": 38
    },
    {
      "cell_type": "markdown",
      "source": "# Q. 4) Find out all the Null Values in the data.",
      "metadata": {}
    },
    {
      "cell_type": "code",
      "source": "data.isnull().sum()",
      "metadata": {
        "trusted": true
      },
      "outputs": [
        {
          "execution_count": 45,
          "output_type": "execute_result",
          "data": {
            "text/plain": "Date/Time           0\nTemp_C              0\nDew Point Temp_C    0\nRel Hum_%           0\nWind Speed_km/h     0\nVisibility_km       0\nPress_kPa           0\nWeather             0\ndtype: int64"
          },
          "metadata": {}
        }
      ],
      "execution_count": 45
    },
    {
      "cell_type": "code",
      "source": "data.notnull().sum()",
      "metadata": {
        "trusted": true
      },
      "outputs": [
        {
          "execution_count": 46,
          "output_type": "execute_result",
          "data": {
            "text/plain": "Date/Time           8784\nTemp_C              8784\nDew Point Temp_C    8784\nRel Hum_%           8784\nWind Speed_km/h     8784\nVisibility_km       8784\nPress_kPa           8784\nWeather             8784\ndtype: int64"
          },
          "metadata": {}
        }
      ],
      "execution_count": 46
    },
    {
      "cell_type": "markdown",
      "source": "# Q. 5) Rename the column name 'Weather' of the dataframe to 'Weather Condition'.",
      "metadata": {}
    },
    {
      "cell_type": "code",
      "source": "data.head(3)",
      "metadata": {
        "trusted": true
      },
      "outputs": [
        {
          "execution_count": 48,
          "output_type": "execute_result",
          "data": {
            "text/plain": "       Date/Time  Temp_C  Dew Point Temp_C  Rel Hum_%  Wind Speed_km/h  \\\n0  1/1/2012 0:00    -1.8              -3.9         86                4   \n1  1/1/2012 1:00    -1.8              -3.7         87                4   \n2  1/1/2012 2:00    -1.8              -3.4         89                7   \n\n   Visibility_km  Press_kPa               Weather  \n0            8.0     101.24                   Fog  \n1            8.0     101.24                   Fog  \n2            4.0     101.26  Freezing Drizzle,Fog  ",
            "text/html": "<div>\n<style scoped>\n    .dataframe tbody tr th:only-of-type {\n        vertical-align: middle;\n    }\n\n    .dataframe tbody tr th {\n        vertical-align: top;\n    }\n\n    .dataframe thead th {\n        text-align: right;\n    }\n</style>\n<table border=\"1\" class=\"dataframe\">\n  <thead>\n    <tr style=\"text-align: right;\">\n      <th></th>\n      <th>Date/Time</th>\n      <th>Temp_C</th>\n      <th>Dew Point Temp_C</th>\n      <th>Rel Hum_%</th>\n      <th>Wind Speed_km/h</th>\n      <th>Visibility_km</th>\n      <th>Press_kPa</th>\n      <th>Weather</th>\n    </tr>\n  </thead>\n  <tbody>\n    <tr>\n      <th>0</th>\n      <td>1/1/2012 0:00</td>\n      <td>-1.8</td>\n      <td>-3.9</td>\n      <td>86</td>\n      <td>4</td>\n      <td>8.0</td>\n      <td>101.24</td>\n      <td>Fog</td>\n    </tr>\n    <tr>\n      <th>1</th>\n      <td>1/1/2012 1:00</td>\n      <td>-1.8</td>\n      <td>-3.7</td>\n      <td>87</td>\n      <td>4</td>\n      <td>8.0</td>\n      <td>101.24</td>\n      <td>Fog</td>\n    </tr>\n    <tr>\n      <th>2</th>\n      <td>1/1/2012 2:00</td>\n      <td>-1.8</td>\n      <td>-3.4</td>\n      <td>89</td>\n      <td>7</td>\n      <td>4.0</td>\n      <td>101.26</td>\n      <td>Freezing Drizzle,Fog</td>\n    </tr>\n  </tbody>\n</table>\n</div>"
          },
          "metadata": {}
        }
      ],
      "execution_count": 48
    },
    {
      "cell_type": "code",
      "source": "data.rename(columns = {\"Weather\" : \"Weather Condition\"}, inplace = True)",
      "metadata": {
        "trusted": true
      },
      "outputs": [],
      "execution_count": 5
    },
    {
      "cell_type": "code",
      "source": "data.head(1)",
      "metadata": {
        "trusted": true
      },
      "outputs": [
        {
          "execution_count": 54,
          "output_type": "execute_result",
          "data": {
            "text/plain": "       Date/Time  Temp_C  Dew Point Temp_C  Rel Hum_%  Wind Speed_km/h  \\\n0  1/1/2012 0:00    -1.8              -3.9         86                4   \n\n   Visibility_km  Press_kPa Weather Condition  \n0            8.0     101.24               Fog  ",
            "text/html": "<div>\n<style scoped>\n    .dataframe tbody tr th:only-of-type {\n        vertical-align: middle;\n    }\n\n    .dataframe tbody tr th {\n        vertical-align: top;\n    }\n\n    .dataframe thead th {\n        text-align: right;\n    }\n</style>\n<table border=\"1\" class=\"dataframe\">\n  <thead>\n    <tr style=\"text-align: right;\">\n      <th></th>\n      <th>Date/Time</th>\n      <th>Temp_C</th>\n      <th>Dew Point Temp_C</th>\n      <th>Rel Hum_%</th>\n      <th>Wind Speed_km/h</th>\n      <th>Visibility_km</th>\n      <th>Press_kPa</th>\n      <th>Weather Condition</th>\n    </tr>\n  </thead>\n  <tbody>\n    <tr>\n      <th>0</th>\n      <td>1/1/2012 0:00</td>\n      <td>-1.8</td>\n      <td>-3.9</td>\n      <td>86</td>\n      <td>4</td>\n      <td>8.0</td>\n      <td>101.24</td>\n      <td>Fog</td>\n    </tr>\n  </tbody>\n</table>\n</div>"
          },
          "metadata": {}
        }
      ],
      "execution_count": 54
    },
    {
      "cell_type": "markdown",
      "source": "# Q. 6) What is the mean 'Visibility' ?",
      "metadata": {}
    },
    {
      "cell_type": "code",
      "source": "data.head(3)",
      "metadata": {
        "trusted": true
      },
      "outputs": [
        {
          "execution_count": 57,
          "output_type": "execute_result",
          "data": {
            "text/plain": "       Date/Time  Temp_C  Dew Point Temp_C  Rel Hum_%  Wind Speed_km/h  \\\n0  1/1/2012 0:00    -1.8              -3.9         86                4   \n1  1/1/2012 1:00    -1.8              -3.7         87                4   \n2  1/1/2012 2:00    -1.8              -3.4         89                7   \n\n   Visibility_km  Press_kPa     Weather Condition  \n0            8.0     101.24                   Fog  \n1            8.0     101.24                   Fog  \n2            4.0     101.26  Freezing Drizzle,Fog  ",
            "text/html": "<div>\n<style scoped>\n    .dataframe tbody tr th:only-of-type {\n        vertical-align: middle;\n    }\n\n    .dataframe tbody tr th {\n        vertical-align: top;\n    }\n\n    .dataframe thead th {\n        text-align: right;\n    }\n</style>\n<table border=\"1\" class=\"dataframe\">\n  <thead>\n    <tr style=\"text-align: right;\">\n      <th></th>\n      <th>Date/Time</th>\n      <th>Temp_C</th>\n      <th>Dew Point Temp_C</th>\n      <th>Rel Hum_%</th>\n      <th>Wind Speed_km/h</th>\n      <th>Visibility_km</th>\n      <th>Press_kPa</th>\n      <th>Weather Condition</th>\n    </tr>\n  </thead>\n  <tbody>\n    <tr>\n      <th>0</th>\n      <td>1/1/2012 0:00</td>\n      <td>-1.8</td>\n      <td>-3.9</td>\n      <td>86</td>\n      <td>4</td>\n      <td>8.0</td>\n      <td>101.24</td>\n      <td>Fog</td>\n    </tr>\n    <tr>\n      <th>1</th>\n      <td>1/1/2012 1:00</td>\n      <td>-1.8</td>\n      <td>-3.7</td>\n      <td>87</td>\n      <td>4</td>\n      <td>8.0</td>\n      <td>101.24</td>\n      <td>Fog</td>\n    </tr>\n    <tr>\n      <th>2</th>\n      <td>1/1/2012 2:00</td>\n      <td>-1.8</td>\n      <td>-3.4</td>\n      <td>89</td>\n      <td>7</td>\n      <td>4.0</td>\n      <td>101.26</td>\n      <td>Freezing Drizzle,Fog</td>\n    </tr>\n  </tbody>\n</table>\n</div>"
          },
          "metadata": {}
        }
      ],
      "execution_count": 57
    },
    {
      "cell_type": "code",
      "source": "data.Visibility_km.mean()",
      "metadata": {
        "trusted": true
      },
      "outputs": [
        {
          "execution_count": 59,
          "output_type": "execute_result",
          "data": {
            "text/plain": "27.664446721311478"
          },
          "metadata": {}
        }
      ],
      "execution_count": 59
    },
    {
      "cell_type": "markdown",
      "source": "# Q. 7) What is the Standard Deviation of 'Pressure'  in this data?",
      "metadata": {}
    },
    {
      "cell_type": "code",
      "source": "data.head(3)",
      "metadata": {
        "trusted": true
      },
      "outputs": [
        {
          "execution_count": 60,
          "output_type": "execute_result",
          "data": {
            "text/plain": "       Date/Time  Temp_C  Dew Point Temp_C  Rel Hum_%  Wind Speed_km/h  \\\n0  1/1/2012 0:00    -1.8              -3.9         86                4   \n1  1/1/2012 1:00    -1.8              -3.7         87                4   \n2  1/1/2012 2:00    -1.8              -3.4         89                7   \n\n   Visibility_km  Press_kPa     Weather Condition  \n0            8.0     101.24                   Fog  \n1            8.0     101.24                   Fog  \n2            4.0     101.26  Freezing Drizzle,Fog  ",
            "text/html": "<div>\n<style scoped>\n    .dataframe tbody tr th:only-of-type {\n        vertical-align: middle;\n    }\n\n    .dataframe tbody tr th {\n        vertical-align: top;\n    }\n\n    .dataframe thead th {\n        text-align: right;\n    }\n</style>\n<table border=\"1\" class=\"dataframe\">\n  <thead>\n    <tr style=\"text-align: right;\">\n      <th></th>\n      <th>Date/Time</th>\n      <th>Temp_C</th>\n      <th>Dew Point Temp_C</th>\n      <th>Rel Hum_%</th>\n      <th>Wind Speed_km/h</th>\n      <th>Visibility_km</th>\n      <th>Press_kPa</th>\n      <th>Weather Condition</th>\n    </tr>\n  </thead>\n  <tbody>\n    <tr>\n      <th>0</th>\n      <td>1/1/2012 0:00</td>\n      <td>-1.8</td>\n      <td>-3.9</td>\n      <td>86</td>\n      <td>4</td>\n      <td>8.0</td>\n      <td>101.24</td>\n      <td>Fog</td>\n    </tr>\n    <tr>\n      <th>1</th>\n      <td>1/1/2012 1:00</td>\n      <td>-1.8</td>\n      <td>-3.7</td>\n      <td>87</td>\n      <td>4</td>\n      <td>8.0</td>\n      <td>101.24</td>\n      <td>Fog</td>\n    </tr>\n    <tr>\n      <th>2</th>\n      <td>1/1/2012 2:00</td>\n      <td>-1.8</td>\n      <td>-3.4</td>\n      <td>89</td>\n      <td>7</td>\n      <td>4.0</td>\n      <td>101.26</td>\n      <td>Freezing Drizzle,Fog</td>\n    </tr>\n  </tbody>\n</table>\n</div>"
          },
          "metadata": {}
        }
      ],
      "execution_count": 60
    },
    {
      "cell_type": "code",
      "source": "data.Press_kPa.std()",
      "metadata": {
        "trusted": true
      },
      "outputs": [
        {
          "execution_count": 61,
          "output_type": "execute_result",
          "data": {
            "text/plain": "0.8440047459486483"
          },
          "metadata": {}
        }
      ],
      "execution_count": 61
    },
    {
      "cell_type": "markdown",
      "source": "# Q. 8) Whats is the Variance of 'Relative Humidity' in this data ?",
      "metadata": {}
    },
    {
      "cell_type": "code",
      "source": "data.head(3)",
      "metadata": {
        "trusted": true
      },
      "outputs": [
        {
          "execution_count": 62,
          "output_type": "execute_result",
          "data": {
            "text/plain": "       Date/Time  Temp_C  Dew Point Temp_C  Rel Hum_%  Wind Speed_km/h  \\\n0  1/1/2012 0:00    -1.8              -3.9         86                4   \n1  1/1/2012 1:00    -1.8              -3.7         87                4   \n2  1/1/2012 2:00    -1.8              -3.4         89                7   \n\n   Visibility_km  Press_kPa     Weather Condition  \n0            8.0     101.24                   Fog  \n1            8.0     101.24                   Fog  \n2            4.0     101.26  Freezing Drizzle,Fog  ",
            "text/html": "<div>\n<style scoped>\n    .dataframe tbody tr th:only-of-type {\n        vertical-align: middle;\n    }\n\n    .dataframe tbody tr th {\n        vertical-align: top;\n    }\n\n    .dataframe thead th {\n        text-align: right;\n    }\n</style>\n<table border=\"1\" class=\"dataframe\">\n  <thead>\n    <tr style=\"text-align: right;\">\n      <th></th>\n      <th>Date/Time</th>\n      <th>Temp_C</th>\n      <th>Dew Point Temp_C</th>\n      <th>Rel Hum_%</th>\n      <th>Wind Speed_km/h</th>\n      <th>Visibility_km</th>\n      <th>Press_kPa</th>\n      <th>Weather Condition</th>\n    </tr>\n  </thead>\n  <tbody>\n    <tr>\n      <th>0</th>\n      <td>1/1/2012 0:00</td>\n      <td>-1.8</td>\n      <td>-3.9</td>\n      <td>86</td>\n      <td>4</td>\n      <td>8.0</td>\n      <td>101.24</td>\n      <td>Fog</td>\n    </tr>\n    <tr>\n      <th>1</th>\n      <td>1/1/2012 1:00</td>\n      <td>-1.8</td>\n      <td>-3.7</td>\n      <td>87</td>\n      <td>4</td>\n      <td>8.0</td>\n      <td>101.24</td>\n      <td>Fog</td>\n    </tr>\n    <tr>\n      <th>2</th>\n      <td>1/1/2012 2:00</td>\n      <td>-1.8</td>\n      <td>-3.4</td>\n      <td>89</td>\n      <td>7</td>\n      <td>4.0</td>\n      <td>101.26</td>\n      <td>Freezing Drizzle,Fog</td>\n    </tr>\n  </tbody>\n</table>\n</div>"
          },
          "metadata": {}
        }
      ],
      "execution_count": 62
    },
    {
      "cell_type": "code",
      "source": "data[\"Rel Hum_%\"].var()",
      "metadata": {
        "trusted": true
      },
      "outputs": [
        {
          "execution_count": 63,
          "output_type": "execute_result",
          "data": {
            "text/plain": "286.24855019850196"
          },
          "metadata": {}
        }
      ],
      "execution_count": 63
    },
    {
      "cell_type": "markdown",
      "source": "# Q. 9) Find all instances when 'Snow' was recorded.",
      "metadata": {}
    },
    {
      "cell_type": "code",
      "source": "data.head(3)",
      "metadata": {
        "trusted": true
      },
      "outputs": [
        {
          "execution_count": 64,
          "output_type": "execute_result",
          "data": {
            "text/plain": "       Date/Time  Temp_C  Dew Point Temp_C  Rel Hum_%  Wind Speed_km/h  \\\n0  1/1/2012 0:00    -1.8              -3.9         86                4   \n1  1/1/2012 1:00    -1.8              -3.7         87                4   \n2  1/1/2012 2:00    -1.8              -3.4         89                7   \n\n   Visibility_km  Press_kPa     Weather Condition  \n0            8.0     101.24                   Fog  \n1            8.0     101.24                   Fog  \n2            4.0     101.26  Freezing Drizzle,Fog  ",
            "text/html": "<div>\n<style scoped>\n    .dataframe tbody tr th:only-of-type {\n        vertical-align: middle;\n    }\n\n    .dataframe tbody tr th {\n        vertical-align: top;\n    }\n\n    .dataframe thead th {\n        text-align: right;\n    }\n</style>\n<table border=\"1\" class=\"dataframe\">\n  <thead>\n    <tr style=\"text-align: right;\">\n      <th></th>\n      <th>Date/Time</th>\n      <th>Temp_C</th>\n      <th>Dew Point Temp_C</th>\n      <th>Rel Hum_%</th>\n      <th>Wind Speed_km/h</th>\n      <th>Visibility_km</th>\n      <th>Press_kPa</th>\n      <th>Weather Condition</th>\n    </tr>\n  </thead>\n  <tbody>\n    <tr>\n      <th>0</th>\n      <td>1/1/2012 0:00</td>\n      <td>-1.8</td>\n      <td>-3.9</td>\n      <td>86</td>\n      <td>4</td>\n      <td>8.0</td>\n      <td>101.24</td>\n      <td>Fog</td>\n    </tr>\n    <tr>\n      <th>1</th>\n      <td>1/1/2012 1:00</td>\n      <td>-1.8</td>\n      <td>-3.7</td>\n      <td>87</td>\n      <td>4</td>\n      <td>8.0</td>\n      <td>101.24</td>\n      <td>Fog</td>\n    </tr>\n    <tr>\n      <th>2</th>\n      <td>1/1/2012 2:00</td>\n      <td>-1.8</td>\n      <td>-3.4</td>\n      <td>89</td>\n      <td>7</td>\n      <td>4.0</td>\n      <td>101.26</td>\n      <td>Freezing Drizzle,Fog</td>\n    </tr>\n  </tbody>\n</table>\n</div>"
          },
          "metadata": {}
        }
      ],
      "execution_count": 64
    },
    {
      "cell_type": "code",
      "source": "data[data[\"Weather Condition\"].str.contains(\"Snow\")]",
      "metadata": {
        "trusted": true
      },
      "outputs": [
        {
          "execution_count": 68,
          "output_type": "execute_result",
          "data": {
            "text/plain": "             Date/Time  Temp_C  Dew Point Temp_C  Rel Hum_%  Wind Speed_km/h  \\\n41      1/2/2012 17:00    -2.1              -9.5         57               22   \n44      1/2/2012 20:00    -5.6             -13.4         54               24   \n45      1/2/2012 21:00    -5.8             -12.8         58               26   \n47      1/2/2012 23:00    -7.4             -14.1         59               17   \n48       1/3/2012 0:00    -9.0             -16.0         57               28   \n...                ...     ...               ...        ...              ...   \n8779  12/31/2012 19:00     0.1              -2.7         81               30   \n8780  12/31/2012 20:00     0.2              -2.4         83               24   \n8781  12/31/2012 21:00    -0.5              -1.5         93               28   \n8782  12/31/2012 22:00    -0.2              -1.8         89               28   \n8783  12/31/2012 23:00     0.0              -2.1         86               30   \n\n      Visibility_km  Press_kPa Weather Condition  \n41             25.0      99.66      Snow Showers  \n44             25.0     100.07      Snow Showers  \n45             25.0     100.15      Snow Showers  \n47             19.3     100.27      Snow Showers  \n48             25.0     100.35      Snow Showers  \n...             ...        ...               ...  \n8779            9.7     100.13              Snow  \n8780            9.7     100.03              Snow  \n8781            4.8      99.95              Snow  \n8782            9.7      99.91              Snow  \n8783           11.3      99.89              Snow  \n\n[583 rows x 8 columns]",
            "text/html": "<div>\n<style scoped>\n    .dataframe tbody tr th:only-of-type {\n        vertical-align: middle;\n    }\n\n    .dataframe tbody tr th {\n        vertical-align: top;\n    }\n\n    .dataframe thead th {\n        text-align: right;\n    }\n</style>\n<table border=\"1\" class=\"dataframe\">\n  <thead>\n    <tr style=\"text-align: right;\">\n      <th></th>\n      <th>Date/Time</th>\n      <th>Temp_C</th>\n      <th>Dew Point Temp_C</th>\n      <th>Rel Hum_%</th>\n      <th>Wind Speed_km/h</th>\n      <th>Visibility_km</th>\n      <th>Press_kPa</th>\n      <th>Weather Condition</th>\n    </tr>\n  </thead>\n  <tbody>\n    <tr>\n      <th>41</th>\n      <td>1/2/2012 17:00</td>\n      <td>-2.1</td>\n      <td>-9.5</td>\n      <td>57</td>\n      <td>22</td>\n      <td>25.0</td>\n      <td>99.66</td>\n      <td>Snow Showers</td>\n    </tr>\n    <tr>\n      <th>44</th>\n      <td>1/2/2012 20:00</td>\n      <td>-5.6</td>\n      <td>-13.4</td>\n      <td>54</td>\n      <td>24</td>\n      <td>25.0</td>\n      <td>100.07</td>\n      <td>Snow Showers</td>\n    </tr>\n    <tr>\n      <th>45</th>\n      <td>1/2/2012 21:00</td>\n      <td>-5.8</td>\n      <td>-12.8</td>\n      <td>58</td>\n      <td>26</td>\n      <td>25.0</td>\n      <td>100.15</td>\n      <td>Snow Showers</td>\n    </tr>\n    <tr>\n      <th>47</th>\n      <td>1/2/2012 23:00</td>\n      <td>-7.4</td>\n      <td>-14.1</td>\n      <td>59</td>\n      <td>17</td>\n      <td>19.3</td>\n      <td>100.27</td>\n      <td>Snow Showers</td>\n    </tr>\n    <tr>\n      <th>48</th>\n      <td>1/3/2012 0:00</td>\n      <td>-9.0</td>\n      <td>-16.0</td>\n      <td>57</td>\n      <td>28</td>\n      <td>25.0</td>\n      <td>100.35</td>\n      <td>Snow Showers</td>\n    </tr>\n    <tr>\n      <th>...</th>\n      <td>...</td>\n      <td>...</td>\n      <td>...</td>\n      <td>...</td>\n      <td>...</td>\n      <td>...</td>\n      <td>...</td>\n      <td>...</td>\n    </tr>\n    <tr>\n      <th>8779</th>\n      <td>12/31/2012 19:00</td>\n      <td>0.1</td>\n      <td>-2.7</td>\n      <td>81</td>\n      <td>30</td>\n      <td>9.7</td>\n      <td>100.13</td>\n      <td>Snow</td>\n    </tr>\n    <tr>\n      <th>8780</th>\n      <td>12/31/2012 20:00</td>\n      <td>0.2</td>\n      <td>-2.4</td>\n      <td>83</td>\n      <td>24</td>\n      <td>9.7</td>\n      <td>100.03</td>\n      <td>Snow</td>\n    </tr>\n    <tr>\n      <th>8781</th>\n      <td>12/31/2012 21:00</td>\n      <td>-0.5</td>\n      <td>-1.5</td>\n      <td>93</td>\n      <td>28</td>\n      <td>4.8</td>\n      <td>99.95</td>\n      <td>Snow</td>\n    </tr>\n    <tr>\n      <th>8782</th>\n      <td>12/31/2012 22:00</td>\n      <td>-0.2</td>\n      <td>-1.8</td>\n      <td>89</td>\n      <td>28</td>\n      <td>9.7</td>\n      <td>99.91</td>\n      <td>Snow</td>\n    </tr>\n    <tr>\n      <th>8783</th>\n      <td>12/31/2012 23:00</td>\n      <td>0.0</td>\n      <td>-2.1</td>\n      <td>86</td>\n      <td>30</td>\n      <td>11.3</td>\n      <td>99.89</td>\n      <td>Snow</td>\n    </tr>\n  </tbody>\n</table>\n<p>583 rows × 8 columns</p>\n</div>"
          },
          "metadata": {}
        }
      ],
      "execution_count": 68
    },
    {
      "cell_type": "code",
      "source": "data[data[\"Weather Condition\"] == \"Snow\"] # False",
      "metadata": {
        "trusted": true
      },
      "outputs": [
        {
          "execution_count": 65,
          "output_type": "execute_result",
          "data": {
            "text/plain": "             Date/Time  Temp_C  Dew Point Temp_C  Rel Hum_%  Wind Speed_km/h  \\\n55       1/3/2012 7:00   -14.0             -19.5         63               19   \n84      1/4/2012 12:00   -13.7             -21.7         51               11   \n86      1/4/2012 14:00   -11.3             -19.0         53                7   \n87      1/4/2012 15:00   -10.2             -16.3         61               11   \n88      1/4/2012 16:00    -9.4             -15.5         61               13   \n...                ...     ...               ...        ...              ...   \n8779  12/31/2012 19:00     0.1              -2.7         81               30   \n8780  12/31/2012 20:00     0.2              -2.4         83               24   \n8781  12/31/2012 21:00    -0.5              -1.5         93               28   \n8782  12/31/2012 22:00    -0.2              -1.8         89               28   \n8783  12/31/2012 23:00     0.0              -2.1         86               30   \n\n      Visibility_km  Press_kPa Weather Condition  \n55             25.0     100.95              Snow  \n84             24.1     101.25              Snow  \n86             19.3     100.97              Snow  \n87              9.7     100.89              Snow  \n88             19.3     100.79              Snow  \n...             ...        ...               ...  \n8779            9.7     100.13              Snow  \n8780            9.7     100.03              Snow  \n8781            4.8      99.95              Snow  \n8782            9.7      99.91              Snow  \n8783           11.3      99.89              Snow  \n\n[390 rows x 8 columns]",
            "text/html": "<div>\n<style scoped>\n    .dataframe tbody tr th:only-of-type {\n        vertical-align: middle;\n    }\n\n    .dataframe tbody tr th {\n        vertical-align: top;\n    }\n\n    .dataframe thead th {\n        text-align: right;\n    }\n</style>\n<table border=\"1\" class=\"dataframe\">\n  <thead>\n    <tr style=\"text-align: right;\">\n      <th></th>\n      <th>Date/Time</th>\n      <th>Temp_C</th>\n      <th>Dew Point Temp_C</th>\n      <th>Rel Hum_%</th>\n      <th>Wind Speed_km/h</th>\n      <th>Visibility_km</th>\n      <th>Press_kPa</th>\n      <th>Weather Condition</th>\n    </tr>\n  </thead>\n  <tbody>\n    <tr>\n      <th>55</th>\n      <td>1/3/2012 7:00</td>\n      <td>-14.0</td>\n      <td>-19.5</td>\n      <td>63</td>\n      <td>19</td>\n      <td>25.0</td>\n      <td>100.95</td>\n      <td>Snow</td>\n    </tr>\n    <tr>\n      <th>84</th>\n      <td>1/4/2012 12:00</td>\n      <td>-13.7</td>\n      <td>-21.7</td>\n      <td>51</td>\n      <td>11</td>\n      <td>24.1</td>\n      <td>101.25</td>\n      <td>Snow</td>\n    </tr>\n    <tr>\n      <th>86</th>\n      <td>1/4/2012 14:00</td>\n      <td>-11.3</td>\n      <td>-19.0</td>\n      <td>53</td>\n      <td>7</td>\n      <td>19.3</td>\n      <td>100.97</td>\n      <td>Snow</td>\n    </tr>\n    <tr>\n      <th>87</th>\n      <td>1/4/2012 15:00</td>\n      <td>-10.2</td>\n      <td>-16.3</td>\n      <td>61</td>\n      <td>11</td>\n      <td>9.7</td>\n      <td>100.89</td>\n      <td>Snow</td>\n    </tr>\n    <tr>\n      <th>88</th>\n      <td>1/4/2012 16:00</td>\n      <td>-9.4</td>\n      <td>-15.5</td>\n      <td>61</td>\n      <td>13</td>\n      <td>19.3</td>\n      <td>100.79</td>\n      <td>Snow</td>\n    </tr>\n    <tr>\n      <th>...</th>\n      <td>...</td>\n      <td>...</td>\n      <td>...</td>\n      <td>...</td>\n      <td>...</td>\n      <td>...</td>\n      <td>...</td>\n      <td>...</td>\n    </tr>\n    <tr>\n      <th>8779</th>\n      <td>12/31/2012 19:00</td>\n      <td>0.1</td>\n      <td>-2.7</td>\n      <td>81</td>\n      <td>30</td>\n      <td>9.7</td>\n      <td>100.13</td>\n      <td>Snow</td>\n    </tr>\n    <tr>\n      <th>8780</th>\n      <td>12/31/2012 20:00</td>\n      <td>0.2</td>\n      <td>-2.4</td>\n      <td>83</td>\n      <td>24</td>\n      <td>9.7</td>\n      <td>100.03</td>\n      <td>Snow</td>\n    </tr>\n    <tr>\n      <th>8781</th>\n      <td>12/31/2012 21:00</td>\n      <td>-0.5</td>\n      <td>-1.5</td>\n      <td>93</td>\n      <td>28</td>\n      <td>4.8</td>\n      <td>99.95</td>\n      <td>Snow</td>\n    </tr>\n    <tr>\n      <th>8782</th>\n      <td>12/31/2012 22:00</td>\n      <td>-0.2</td>\n      <td>-1.8</td>\n      <td>89</td>\n      <td>28</td>\n      <td>9.7</td>\n      <td>99.91</td>\n      <td>Snow</td>\n    </tr>\n    <tr>\n      <th>8783</th>\n      <td>12/31/2012 23:00</td>\n      <td>0.0</td>\n      <td>-2.1</td>\n      <td>86</td>\n      <td>30</td>\n      <td>11.3</td>\n      <td>99.89</td>\n      <td>Snow</td>\n    </tr>\n  </tbody>\n</table>\n<p>390 rows × 8 columns</p>\n</div>"
          },
          "metadata": {}
        }
      ],
      "execution_count": 65
    },
    {
      "cell_type": "code",
      "source": "data.groupby(\"Weather Condition\").get_group(\"Snow\") # False",
      "metadata": {
        "trusted": true
      },
      "outputs": [
        {
          "execution_count": 67,
          "output_type": "execute_result",
          "data": {
            "text/plain": "             Date/Time  Temp_C  Dew Point Temp_C  Rel Hum_%  Wind Speed_km/h  \\\n55       1/3/2012 7:00   -14.0             -19.5         63               19   \n84      1/4/2012 12:00   -13.7             -21.7         51               11   \n86      1/4/2012 14:00   -11.3             -19.0         53                7   \n87      1/4/2012 15:00   -10.2             -16.3         61               11   \n88      1/4/2012 16:00    -9.4             -15.5         61               13   \n...                ...     ...               ...        ...              ...   \n8779  12/31/2012 19:00     0.1              -2.7         81               30   \n8780  12/31/2012 20:00     0.2              -2.4         83               24   \n8781  12/31/2012 21:00    -0.5              -1.5         93               28   \n8782  12/31/2012 22:00    -0.2              -1.8         89               28   \n8783  12/31/2012 23:00     0.0              -2.1         86               30   \n\n      Visibility_km  Press_kPa Weather Condition  \n55             25.0     100.95              Snow  \n84             24.1     101.25              Snow  \n86             19.3     100.97              Snow  \n87              9.7     100.89              Snow  \n88             19.3     100.79              Snow  \n...             ...        ...               ...  \n8779            9.7     100.13              Snow  \n8780            9.7     100.03              Snow  \n8781            4.8      99.95              Snow  \n8782            9.7      99.91              Snow  \n8783           11.3      99.89              Snow  \n\n[390 rows x 8 columns]",
            "text/html": "<div>\n<style scoped>\n    .dataframe tbody tr th:only-of-type {\n        vertical-align: middle;\n    }\n\n    .dataframe tbody tr th {\n        vertical-align: top;\n    }\n\n    .dataframe thead th {\n        text-align: right;\n    }\n</style>\n<table border=\"1\" class=\"dataframe\">\n  <thead>\n    <tr style=\"text-align: right;\">\n      <th></th>\n      <th>Date/Time</th>\n      <th>Temp_C</th>\n      <th>Dew Point Temp_C</th>\n      <th>Rel Hum_%</th>\n      <th>Wind Speed_km/h</th>\n      <th>Visibility_km</th>\n      <th>Press_kPa</th>\n      <th>Weather Condition</th>\n    </tr>\n  </thead>\n  <tbody>\n    <tr>\n      <th>55</th>\n      <td>1/3/2012 7:00</td>\n      <td>-14.0</td>\n      <td>-19.5</td>\n      <td>63</td>\n      <td>19</td>\n      <td>25.0</td>\n      <td>100.95</td>\n      <td>Snow</td>\n    </tr>\n    <tr>\n      <th>84</th>\n      <td>1/4/2012 12:00</td>\n      <td>-13.7</td>\n      <td>-21.7</td>\n      <td>51</td>\n      <td>11</td>\n      <td>24.1</td>\n      <td>101.25</td>\n      <td>Snow</td>\n    </tr>\n    <tr>\n      <th>86</th>\n      <td>1/4/2012 14:00</td>\n      <td>-11.3</td>\n      <td>-19.0</td>\n      <td>53</td>\n      <td>7</td>\n      <td>19.3</td>\n      <td>100.97</td>\n      <td>Snow</td>\n    </tr>\n    <tr>\n      <th>87</th>\n      <td>1/4/2012 15:00</td>\n      <td>-10.2</td>\n      <td>-16.3</td>\n      <td>61</td>\n      <td>11</td>\n      <td>9.7</td>\n      <td>100.89</td>\n      <td>Snow</td>\n    </tr>\n    <tr>\n      <th>88</th>\n      <td>1/4/2012 16:00</td>\n      <td>-9.4</td>\n      <td>-15.5</td>\n      <td>61</td>\n      <td>13</td>\n      <td>19.3</td>\n      <td>100.79</td>\n      <td>Snow</td>\n    </tr>\n    <tr>\n      <th>...</th>\n      <td>...</td>\n      <td>...</td>\n      <td>...</td>\n      <td>...</td>\n      <td>...</td>\n      <td>...</td>\n      <td>...</td>\n      <td>...</td>\n    </tr>\n    <tr>\n      <th>8779</th>\n      <td>12/31/2012 19:00</td>\n      <td>0.1</td>\n      <td>-2.7</td>\n      <td>81</td>\n      <td>30</td>\n      <td>9.7</td>\n      <td>100.13</td>\n      <td>Snow</td>\n    </tr>\n    <tr>\n      <th>8780</th>\n      <td>12/31/2012 20:00</td>\n      <td>0.2</td>\n      <td>-2.4</td>\n      <td>83</td>\n      <td>24</td>\n      <td>9.7</td>\n      <td>100.03</td>\n      <td>Snow</td>\n    </tr>\n    <tr>\n      <th>8781</th>\n      <td>12/31/2012 21:00</td>\n      <td>-0.5</td>\n      <td>-1.5</td>\n      <td>93</td>\n      <td>28</td>\n      <td>4.8</td>\n      <td>99.95</td>\n      <td>Snow</td>\n    </tr>\n    <tr>\n      <th>8782</th>\n      <td>12/31/2012 22:00</td>\n      <td>-0.2</td>\n      <td>-1.8</td>\n      <td>89</td>\n      <td>28</td>\n      <td>9.7</td>\n      <td>99.91</td>\n      <td>Snow</td>\n    </tr>\n    <tr>\n      <th>8783</th>\n      <td>12/31/2012 23:00</td>\n      <td>0.0</td>\n      <td>-2.1</td>\n      <td>86</td>\n      <td>30</td>\n      <td>11.3</td>\n      <td>99.89</td>\n      <td>Snow</td>\n    </tr>\n  </tbody>\n</table>\n<p>390 rows × 8 columns</p>\n</div>"
          },
          "metadata": {}
        }
      ],
      "execution_count": 67
    },
    {
      "cell_type": "markdown",
      "source": "# Q. 10) Find all instances when 'Wind Speed is above 24' and 'Visibility is 25'.",
      "metadata": {}
    },
    {
      "cell_type": "code",
      "source": "data[(data[\"Wind Speed_km/h\"] > 24) & (data[\"Visibility_km\"] == 25)]",
      "metadata": {
        "trusted": true
      },
      "outputs": [
        {
          "execution_count": 69,
          "output_type": "execute_result",
          "data": {
            "text/plain": "             Date/Time  Temp_C  Dew Point Temp_C  Rel Hum_%  Wind Speed_km/h  \\\n23      1/1/2012 23:00     5.3               2.0         79               30   \n24       1/2/2012 0:00     5.2               1.5         77               35   \n25       1/2/2012 1:00     4.6               0.0         72               39   \n26       1/2/2012 2:00     3.9              -0.9         71               32   \n27       1/2/2012 3:00     3.7              -1.5         69               33   \n...                ...     ...               ...        ...              ...   \n8705  12/28/2012 17:00    -8.6             -12.0         76               26   \n8753  12/30/2012 17:00   -12.1             -15.8         74               28   \n8755  12/30/2012 19:00   -13.4             -16.5         77               26   \n8759  12/30/2012 23:00   -12.1             -15.1         78               28   \n8760   12/31/2012 0:00   -11.1             -14.4         77               26   \n\n      Visibility_km  Press_kPa Weather Condition  \n23             25.0      99.31            Cloudy  \n24             25.0      99.26      Rain Showers  \n25             25.0      99.26            Cloudy  \n26             25.0      99.26     Mostly Cloudy  \n27             25.0      99.30     Mostly Cloudy  \n...             ...        ...               ...  \n8705           25.0     101.34      Mainly Clear  \n8753           25.0     101.26      Mainly Clear  \n8755           25.0     101.47      Mainly Clear  \n8759           25.0     101.52     Mostly Cloudy  \n8760           25.0     101.51            Cloudy  \n\n[308 rows x 8 columns]",
            "text/html": "<div>\n<style scoped>\n    .dataframe tbody tr th:only-of-type {\n        vertical-align: middle;\n    }\n\n    .dataframe tbody tr th {\n        vertical-align: top;\n    }\n\n    .dataframe thead th {\n        text-align: right;\n    }\n</style>\n<table border=\"1\" class=\"dataframe\">\n  <thead>\n    <tr style=\"text-align: right;\">\n      <th></th>\n      <th>Date/Time</th>\n      <th>Temp_C</th>\n      <th>Dew Point Temp_C</th>\n      <th>Rel Hum_%</th>\n      <th>Wind Speed_km/h</th>\n      <th>Visibility_km</th>\n      <th>Press_kPa</th>\n      <th>Weather Condition</th>\n    </tr>\n  </thead>\n  <tbody>\n    <tr>\n      <th>23</th>\n      <td>1/1/2012 23:00</td>\n      <td>5.3</td>\n      <td>2.0</td>\n      <td>79</td>\n      <td>30</td>\n      <td>25.0</td>\n      <td>99.31</td>\n      <td>Cloudy</td>\n    </tr>\n    <tr>\n      <th>24</th>\n      <td>1/2/2012 0:00</td>\n      <td>5.2</td>\n      <td>1.5</td>\n      <td>77</td>\n      <td>35</td>\n      <td>25.0</td>\n      <td>99.26</td>\n      <td>Rain Showers</td>\n    </tr>\n    <tr>\n      <th>25</th>\n      <td>1/2/2012 1:00</td>\n      <td>4.6</td>\n      <td>0.0</td>\n      <td>72</td>\n      <td>39</td>\n      <td>25.0</td>\n      <td>99.26</td>\n      <td>Cloudy</td>\n    </tr>\n    <tr>\n      <th>26</th>\n      <td>1/2/2012 2:00</td>\n      <td>3.9</td>\n      <td>-0.9</td>\n      <td>71</td>\n      <td>32</td>\n      <td>25.0</td>\n      <td>99.26</td>\n      <td>Mostly Cloudy</td>\n    </tr>\n    <tr>\n      <th>27</th>\n      <td>1/2/2012 3:00</td>\n      <td>3.7</td>\n      <td>-1.5</td>\n      <td>69</td>\n      <td>33</td>\n      <td>25.0</td>\n      <td>99.30</td>\n      <td>Mostly Cloudy</td>\n    </tr>\n    <tr>\n      <th>...</th>\n      <td>...</td>\n      <td>...</td>\n      <td>...</td>\n      <td>...</td>\n      <td>...</td>\n      <td>...</td>\n      <td>...</td>\n      <td>...</td>\n    </tr>\n    <tr>\n      <th>8705</th>\n      <td>12/28/2012 17:00</td>\n      <td>-8.6</td>\n      <td>-12.0</td>\n      <td>76</td>\n      <td>26</td>\n      <td>25.0</td>\n      <td>101.34</td>\n      <td>Mainly Clear</td>\n    </tr>\n    <tr>\n      <th>8753</th>\n      <td>12/30/2012 17:00</td>\n      <td>-12.1</td>\n      <td>-15.8</td>\n      <td>74</td>\n      <td>28</td>\n      <td>25.0</td>\n      <td>101.26</td>\n      <td>Mainly Clear</td>\n    </tr>\n    <tr>\n      <th>8755</th>\n      <td>12/30/2012 19:00</td>\n      <td>-13.4</td>\n      <td>-16.5</td>\n      <td>77</td>\n      <td>26</td>\n      <td>25.0</td>\n      <td>101.47</td>\n      <td>Mainly Clear</td>\n    </tr>\n    <tr>\n      <th>8759</th>\n      <td>12/30/2012 23:00</td>\n      <td>-12.1</td>\n      <td>-15.1</td>\n      <td>78</td>\n      <td>28</td>\n      <td>25.0</td>\n      <td>101.52</td>\n      <td>Mostly Cloudy</td>\n    </tr>\n    <tr>\n      <th>8760</th>\n      <td>12/31/2012 0:00</td>\n      <td>-11.1</td>\n      <td>-14.4</td>\n      <td>77</td>\n      <td>26</td>\n      <td>25.0</td>\n      <td>101.51</td>\n      <td>Cloudy</td>\n    </tr>\n  </tbody>\n</table>\n<p>308 rows × 8 columns</p>\n</div>"
          },
          "metadata": {}
        }
      ],
      "execution_count": 69
    },
    {
      "cell_type": "code",
      "source": "data.query('`Wind Speed_km/h` > 24 and Visibility_km == 25')",
      "metadata": {
        "trusted": true
      },
      "outputs": [
        {
          "execution_count": 81,
          "output_type": "execute_result",
          "data": {
            "text/plain": "             Date/Time  Temp_C  Dew Point Temp_C  Rel Hum_%  Wind Speed_km/h  \\\n23      1/1/2012 23:00     5.3               2.0         79               30   \n24       1/2/2012 0:00     5.2               1.5         77               35   \n25       1/2/2012 1:00     4.6               0.0         72               39   \n26       1/2/2012 2:00     3.9              -0.9         71               32   \n27       1/2/2012 3:00     3.7              -1.5         69               33   \n...                ...     ...               ...        ...              ...   \n8705  12/28/2012 17:00    -8.6             -12.0         76               26   \n8753  12/30/2012 17:00   -12.1             -15.8         74               28   \n8755  12/30/2012 19:00   -13.4             -16.5         77               26   \n8759  12/30/2012 23:00   -12.1             -15.1         78               28   \n8760   12/31/2012 0:00   -11.1             -14.4         77               26   \n\n      Visibility_km  Press_kPa Weather Condition  \n23             25.0      99.31            Cloudy  \n24             25.0      99.26      Rain Showers  \n25             25.0      99.26            Cloudy  \n26             25.0      99.26     Mostly Cloudy  \n27             25.0      99.30     Mostly Cloudy  \n...             ...        ...               ...  \n8705           25.0     101.34      Mainly Clear  \n8753           25.0     101.26      Mainly Clear  \n8755           25.0     101.47      Mainly Clear  \n8759           25.0     101.52     Mostly Cloudy  \n8760           25.0     101.51            Cloudy  \n\n[308 rows x 8 columns]",
            "text/html": "<div>\n<style scoped>\n    .dataframe tbody tr th:only-of-type {\n        vertical-align: middle;\n    }\n\n    .dataframe tbody tr th {\n        vertical-align: top;\n    }\n\n    .dataframe thead th {\n        text-align: right;\n    }\n</style>\n<table border=\"1\" class=\"dataframe\">\n  <thead>\n    <tr style=\"text-align: right;\">\n      <th></th>\n      <th>Date/Time</th>\n      <th>Temp_C</th>\n      <th>Dew Point Temp_C</th>\n      <th>Rel Hum_%</th>\n      <th>Wind Speed_km/h</th>\n      <th>Visibility_km</th>\n      <th>Press_kPa</th>\n      <th>Weather Condition</th>\n    </tr>\n  </thead>\n  <tbody>\n    <tr>\n      <th>23</th>\n      <td>1/1/2012 23:00</td>\n      <td>5.3</td>\n      <td>2.0</td>\n      <td>79</td>\n      <td>30</td>\n      <td>25.0</td>\n      <td>99.31</td>\n      <td>Cloudy</td>\n    </tr>\n    <tr>\n      <th>24</th>\n      <td>1/2/2012 0:00</td>\n      <td>5.2</td>\n      <td>1.5</td>\n      <td>77</td>\n      <td>35</td>\n      <td>25.0</td>\n      <td>99.26</td>\n      <td>Rain Showers</td>\n    </tr>\n    <tr>\n      <th>25</th>\n      <td>1/2/2012 1:00</td>\n      <td>4.6</td>\n      <td>0.0</td>\n      <td>72</td>\n      <td>39</td>\n      <td>25.0</td>\n      <td>99.26</td>\n      <td>Cloudy</td>\n    </tr>\n    <tr>\n      <th>26</th>\n      <td>1/2/2012 2:00</td>\n      <td>3.9</td>\n      <td>-0.9</td>\n      <td>71</td>\n      <td>32</td>\n      <td>25.0</td>\n      <td>99.26</td>\n      <td>Mostly Cloudy</td>\n    </tr>\n    <tr>\n      <th>27</th>\n      <td>1/2/2012 3:00</td>\n      <td>3.7</td>\n      <td>-1.5</td>\n      <td>69</td>\n      <td>33</td>\n      <td>25.0</td>\n      <td>99.30</td>\n      <td>Mostly Cloudy</td>\n    </tr>\n    <tr>\n      <th>...</th>\n      <td>...</td>\n      <td>...</td>\n      <td>...</td>\n      <td>...</td>\n      <td>...</td>\n      <td>...</td>\n      <td>...</td>\n      <td>...</td>\n    </tr>\n    <tr>\n      <th>8705</th>\n      <td>12/28/2012 17:00</td>\n      <td>-8.6</td>\n      <td>-12.0</td>\n      <td>76</td>\n      <td>26</td>\n      <td>25.0</td>\n      <td>101.34</td>\n      <td>Mainly Clear</td>\n    </tr>\n    <tr>\n      <th>8753</th>\n      <td>12/30/2012 17:00</td>\n      <td>-12.1</td>\n      <td>-15.8</td>\n      <td>74</td>\n      <td>28</td>\n      <td>25.0</td>\n      <td>101.26</td>\n      <td>Mainly Clear</td>\n    </tr>\n    <tr>\n      <th>8755</th>\n      <td>12/30/2012 19:00</td>\n      <td>-13.4</td>\n      <td>-16.5</td>\n      <td>77</td>\n      <td>26</td>\n      <td>25.0</td>\n      <td>101.47</td>\n      <td>Mainly Clear</td>\n    </tr>\n    <tr>\n      <th>8759</th>\n      <td>12/30/2012 23:00</td>\n      <td>-12.1</td>\n      <td>-15.1</td>\n      <td>78</td>\n      <td>28</td>\n      <td>25.0</td>\n      <td>101.52</td>\n      <td>Mostly Cloudy</td>\n    </tr>\n    <tr>\n      <th>8760</th>\n      <td>12/31/2012 0:00</td>\n      <td>-11.1</td>\n      <td>-14.4</td>\n      <td>77</td>\n      <td>26</td>\n      <td>25.0</td>\n      <td>101.51</td>\n      <td>Cloudy</td>\n    </tr>\n  </tbody>\n</table>\n<p>308 rows × 8 columns</p>\n</div>"
          },
          "metadata": {}
        }
      ],
      "execution_count": 81
    },
    {
      "cell_type": "markdown",
      "source": "# Q. 11) What is the Mean value of each column against each 'Weather Conditon' ?",
      "metadata": {}
    },
    {
      "cell_type": "code",
      "source": "data.groupby(\"Weather Condition\").mean(numeric_only=True)",
      "metadata": {
        "trusted": true
      },
      "outputs": [
        {
          "execution_count": 92,
          "output_type": "execute_result",
          "data": {
            "text/plain": "                                            Temp_C  Dew Point Temp_C  \\\nWeather Condition                                                      \nClear                                     6.825716          0.089367   \nCloudy                                    7.970544          2.375810   \nDrizzle                                   7.353659          5.504878   \nDrizzle,Fog                               8.067500          7.033750   \nDrizzle,Ice Pellets,Fog                   0.400000         -0.700000   \nDrizzle,Snow                              1.050000          0.150000   \nDrizzle,Snow,Fog                          0.693333          0.120000   \nFog                                       4.303333          3.159333   \nFreezing Drizzle                         -5.657143         -8.000000   \nFreezing Drizzle,Fog                     -2.533333         -4.183333   \nFreezing Drizzle,Haze                    -5.433333         -8.000000   \nFreezing Drizzle,Snow                    -5.109091         -7.072727   \nFreezing Fog                             -7.575000         -9.250000   \nFreezing Rain                            -3.885714         -6.078571   \nFreezing Rain,Fog                        -2.225000         -3.750000   \nFreezing Rain,Haze                       -4.900000         -7.450000   \nFreezing Rain,Ice Pellets,Fog            -2.600000         -3.700000   \nFreezing Rain,Snow Grains                -5.000000         -7.300000   \nHaze                                     -0.200000         -2.975000   \nMainly Clear                             12.558927          4.581671   \nModerate Rain,Fog                         1.700000          0.800000   \nModerate Snow                            -5.525000         -7.250000   \nModerate Snow,Blowing Snow               -5.450000         -6.500000   \nMostly Cloudy                            10.574287          3.131174   \nRain                                      9.786275          7.042810   \nRain Showers                             13.722340          9.187766   \nRain Showers,Fog                         12.800000         12.100000   \nRain Showers,Snow Showers                 2.150000         -1.500000   \nRain,Fog                                  8.273276          7.219828   \nRain,Haze                                 4.633333          2.066667   \nRain,Ice Pellets                          0.600000         -0.600000   \nRain,Snow                                 1.055556         -0.566667   \nRain,Snow Grains                          1.900000         -2.100000   \nRain,Snow,Fog                             0.800000          0.300000   \nRain,Snow,Ice Pellets                     1.100000         -0.175000   \nSnow                                     -4.524103         -7.623333   \nSnow Pellets                              0.700000         -6.400000   \nSnow Showers                             -3.506667         -7.866667   \nSnow Showers,Fog                        -10.675000        -11.900000   \nSnow,Blowing Snow                        -5.410526         -7.621053   \nSnow,Fog                                 -5.075676         -6.364865   \nSnow,Haze                                -4.020000         -6.860000   \nSnow,Ice Pellets                         -1.883333         -3.666667   \nThunderstorms                            24.150000         19.750000   \nThunderstorms,Heavy Rain Showers         10.900000          9.000000   \nThunderstorms,Moderate Rain Showers,Fog  19.600000         18.500000   \nThunderstorms,Rain                       20.433333         18.533333   \nThunderstorms,Rain Showers               20.037500         17.618750   \nThunderstorms,Rain Showers,Fog           21.600000         18.700000   \nThunderstorms,Rain,Fog                   20.600000         18.600000   \n\n                                         Rel Hum_%  Wind Speed_km/h  \\\nWeather Condition                                                     \nClear                                    64.497738        10.557315   \nCloudy                                   69.592593        16.127315   \nDrizzle                                  88.243902        16.097561   \nDrizzle,Fog                              93.275000        11.862500   \nDrizzle,Ice Pellets,Fog                  92.000000        20.000000   \nDrizzle,Snow                             93.500000        14.000000   \nDrizzle,Snow,Fog                         95.866667        15.533333   \nFog                                      92.286667         7.946667   \nFreezing Drizzle                         83.571429        16.571429   \nFreezing Drizzle,Fog                     88.500000        17.000000   \nFreezing Drizzle,Haze                    82.000000        10.333333   \nFreezing Drizzle,Snow                    86.090909        16.272727   \nFreezing Fog                             87.750000         4.750000   \nFreezing Rain                            84.642857        19.214286   \nFreezing Rain,Fog                        89.500000        15.500000   \nFreezing Rain,Haze                       82.500000         7.500000   \nFreezing Rain,Ice Pellets,Fog            92.000000        28.000000   \nFreezing Rain,Snow Grains                84.000000        32.000000   \nHaze                                     81.625000        10.437500   \nMainly Clear                             60.667142        14.144824   \nModerate Rain,Fog                        94.000000        17.000000   \nModerate Snow                            87.750000        33.750000   \nModerate Snow,Blowing Snow               92.500000        40.000000   \nMostly Cloudy                            62.102465        15.813920   \nRain                                     83.624183        19.254902   \nRain Showers                             75.159574        17.132979   \nRain Showers,Fog                         96.000000        13.000000   \nRain Showers,Snow Showers                76.500000        22.500000   \nRain,Fog                                 93.189655        14.793103   \nRain,Haze                                83.333333        11.666667   \nRain,Ice Pellets                         92.000000        24.000000   \nRain,Snow                                89.000000        28.388889   \nRain,Snow Grains                         75.000000        26.000000   \nRain,Snow,Fog                            96.000000         9.000000   \nRain,Snow,Ice Pellets                    91.500000        23.250000   \nSnow                                     79.307692        20.038462   \nSnow Pellets                             59.000000        35.000000   \nSnow Showers                             72.350000        19.233333   \nSnow Showers,Fog                         90.750000        13.750000   \nSnow,Blowing Snow                        84.473684        34.842105   \nSnow,Fog                                 90.675676        17.324324   \nSnow,Haze                                80.600000         5.000000   \nSnow,Ice Pellets                         87.666667        23.833333   \nThunderstorms                            77.000000         7.500000   \nThunderstorms,Heavy Rain Showers         88.000000         9.000000   \nThunderstorms,Moderate Rain Showers,Fog  93.000000        15.000000   \nThunderstorms,Rain                       89.000000        15.666667   \nThunderstorms,Rain Showers               86.375000        18.312500   \nThunderstorms,Rain Showers,Fog           84.000000        19.666667   \nThunderstorms,Rain,Fog                   88.000000        19.000000   \n\n                                         Visibility_km   Press_kPa  \nWeather Condition                                                   \nClear                                        30.153243  101.587443  \nCloudy                                       26.625752  100.911441  \nDrizzle                                      17.931707  100.435366  \nDrizzle,Fog                                   5.257500  100.786625  \nDrizzle,Ice Pellets,Fog                       4.000000  100.790000  \nDrizzle,Snow                                 10.500000  100.890000  \nDrizzle,Snow,Fog                              5.513333   99.281333  \nFog                                           6.248000  101.184067  \nFreezing Drizzle                              9.200000  100.202857  \nFreezing Drizzle,Fog                          5.266667  100.441667  \nFreezing Drizzle,Haze                         2.666667  100.316667  \nFreezing Drizzle,Snow                         5.872727  100.520909  \nFreezing Fog                                  0.650000  102.320000  \nFreezing Rain                                 8.242857   99.647143  \nFreezing Rain,Fog                             7.550000   99.945000  \nFreezing Rain,Haze                            2.400000  100.375000  \nFreezing Rain,Ice Pellets,Fog                 8.000000  100.950000  \nFreezing Rain,Snow Grains                     4.800000   98.560000  \nHaze                                          7.831250  101.482500  \nMainly Clear                                 34.264862  101.248832  \nModerate Rain,Fog                             6.400000   99.980000  \nModerate Snow                                 0.750000  100.275000  \nModerate Snow,Blowing Snow                    0.600000  100.570000  \nMostly Cloudy                                31.253842  101.025288  \nRain                                         18.856536  100.233333  \nRain Showers                                 22.816489  100.404043  \nRain Showers,Fog                              6.400000   99.830000  \nRain Showers,Snow Showers                    21.700000  101.100000  \nRain,Fog                                      6.873276  100.500862  \nRain,Haze                                     6.700000  100.540000  \nRain,Ice Pellets                              9.700000  100.120000  \nRain,Snow                                    11.672222   99.951111  \nRain,Snow Grains                             25.000000  100.600000  \nRain,Snow,Fog                                 6.400000  100.730000  \nRain,Snow,Ice Pellets                         6.000000  100.105000  \nSnow                                         11.171795  100.536103  \nSnow Pellets                                  2.400000   99.700000  \nSnow Showers                                 20.158333  100.963500  \nSnow Showers,Fog                              7.025000  101.292500  \nSnow,Blowing Snow                             4.105263   99.704737  \nSnow,Fog                                      4.537838  100.688649  \nSnow,Haze                                     4.640000  100.782000  \nSnow,Ice Pellets                              7.416667  100.548333  \nThunderstorms                                24.550000  100.230000  \nThunderstorms,Heavy Rain Showers              2.400000  100.260000  \nThunderstorms,Moderate Rain Showers,Fog       3.200000  100.010000  \nThunderstorms,Rain                           19.833333  100.420000  \nThunderstorms,Rain Showers                   15.893750  100.233750  \nThunderstorms,Rain Showers,Fog                9.700000  100.063333  \nThunderstorms,Rain,Fog                        4.800000  100.080000  ",
            "text/html": "<div>\n<style scoped>\n    .dataframe tbody tr th:only-of-type {\n        vertical-align: middle;\n    }\n\n    .dataframe tbody tr th {\n        vertical-align: top;\n    }\n\n    .dataframe thead th {\n        text-align: right;\n    }\n</style>\n<table border=\"1\" class=\"dataframe\">\n  <thead>\n    <tr style=\"text-align: right;\">\n      <th></th>\n      <th>Temp_C</th>\n      <th>Dew Point Temp_C</th>\n      <th>Rel Hum_%</th>\n      <th>Wind Speed_km/h</th>\n      <th>Visibility_km</th>\n      <th>Press_kPa</th>\n    </tr>\n    <tr>\n      <th>Weather Condition</th>\n      <th></th>\n      <th></th>\n      <th></th>\n      <th></th>\n      <th></th>\n      <th></th>\n    </tr>\n  </thead>\n  <tbody>\n    <tr>\n      <th>Clear</th>\n      <td>6.825716</td>\n      <td>0.089367</td>\n      <td>64.497738</td>\n      <td>10.557315</td>\n      <td>30.153243</td>\n      <td>101.587443</td>\n    </tr>\n    <tr>\n      <th>Cloudy</th>\n      <td>7.970544</td>\n      <td>2.375810</td>\n      <td>69.592593</td>\n      <td>16.127315</td>\n      <td>26.625752</td>\n      <td>100.911441</td>\n    </tr>\n    <tr>\n      <th>Drizzle</th>\n      <td>7.353659</td>\n      <td>5.504878</td>\n      <td>88.243902</td>\n      <td>16.097561</td>\n      <td>17.931707</td>\n      <td>100.435366</td>\n    </tr>\n    <tr>\n      <th>Drizzle,Fog</th>\n      <td>8.067500</td>\n      <td>7.033750</td>\n      <td>93.275000</td>\n      <td>11.862500</td>\n      <td>5.257500</td>\n      <td>100.786625</td>\n    </tr>\n    <tr>\n      <th>Drizzle,Ice Pellets,Fog</th>\n      <td>0.400000</td>\n      <td>-0.700000</td>\n      <td>92.000000</td>\n      <td>20.000000</td>\n      <td>4.000000</td>\n      <td>100.790000</td>\n    </tr>\n    <tr>\n      <th>Drizzle,Snow</th>\n      <td>1.050000</td>\n      <td>0.150000</td>\n      <td>93.500000</td>\n      <td>14.000000</td>\n      <td>10.500000</td>\n      <td>100.890000</td>\n    </tr>\n    <tr>\n      <th>Drizzle,Snow,Fog</th>\n      <td>0.693333</td>\n      <td>0.120000</td>\n      <td>95.866667</td>\n      <td>15.533333</td>\n      <td>5.513333</td>\n      <td>99.281333</td>\n    </tr>\n    <tr>\n      <th>Fog</th>\n      <td>4.303333</td>\n      <td>3.159333</td>\n      <td>92.286667</td>\n      <td>7.946667</td>\n      <td>6.248000</td>\n      <td>101.184067</td>\n    </tr>\n    <tr>\n      <th>Freezing Drizzle</th>\n      <td>-5.657143</td>\n      <td>-8.000000</td>\n      <td>83.571429</td>\n      <td>16.571429</td>\n      <td>9.200000</td>\n      <td>100.202857</td>\n    </tr>\n    <tr>\n      <th>Freezing Drizzle,Fog</th>\n      <td>-2.533333</td>\n      <td>-4.183333</td>\n      <td>88.500000</td>\n      <td>17.000000</td>\n      <td>5.266667</td>\n      <td>100.441667</td>\n    </tr>\n    <tr>\n      <th>Freezing Drizzle,Haze</th>\n      <td>-5.433333</td>\n      <td>-8.000000</td>\n      <td>82.000000</td>\n      <td>10.333333</td>\n      <td>2.666667</td>\n      <td>100.316667</td>\n    </tr>\n    <tr>\n      <th>Freezing Drizzle,Snow</th>\n      <td>-5.109091</td>\n      <td>-7.072727</td>\n      <td>86.090909</td>\n      <td>16.272727</td>\n      <td>5.872727</td>\n      <td>100.520909</td>\n    </tr>\n    <tr>\n      <th>Freezing Fog</th>\n      <td>-7.575000</td>\n      <td>-9.250000</td>\n      <td>87.750000</td>\n      <td>4.750000</td>\n      <td>0.650000</td>\n      <td>102.320000</td>\n    </tr>\n    <tr>\n      <th>Freezing Rain</th>\n      <td>-3.885714</td>\n      <td>-6.078571</td>\n      <td>84.642857</td>\n      <td>19.214286</td>\n      <td>8.242857</td>\n      <td>99.647143</td>\n    </tr>\n    <tr>\n      <th>Freezing Rain,Fog</th>\n      <td>-2.225000</td>\n      <td>-3.750000</td>\n      <td>89.500000</td>\n      <td>15.500000</td>\n      <td>7.550000</td>\n      <td>99.945000</td>\n    </tr>\n    <tr>\n      <th>Freezing Rain,Haze</th>\n      <td>-4.900000</td>\n      <td>-7.450000</td>\n      <td>82.500000</td>\n      <td>7.500000</td>\n      <td>2.400000</td>\n      <td>100.375000</td>\n    </tr>\n    <tr>\n      <th>Freezing Rain,Ice Pellets,Fog</th>\n      <td>-2.600000</td>\n      <td>-3.700000</td>\n      <td>92.000000</td>\n      <td>28.000000</td>\n      <td>8.000000</td>\n      <td>100.950000</td>\n    </tr>\n    <tr>\n      <th>Freezing Rain,Snow Grains</th>\n      <td>-5.000000</td>\n      <td>-7.300000</td>\n      <td>84.000000</td>\n      <td>32.000000</td>\n      <td>4.800000</td>\n      <td>98.560000</td>\n    </tr>\n    <tr>\n      <th>Haze</th>\n      <td>-0.200000</td>\n      <td>-2.975000</td>\n      <td>81.625000</td>\n      <td>10.437500</td>\n      <td>7.831250</td>\n      <td>101.482500</td>\n    </tr>\n    <tr>\n      <th>Mainly Clear</th>\n      <td>12.558927</td>\n      <td>4.581671</td>\n      <td>60.667142</td>\n      <td>14.144824</td>\n      <td>34.264862</td>\n      <td>101.248832</td>\n    </tr>\n    <tr>\n      <th>Moderate Rain,Fog</th>\n      <td>1.700000</td>\n      <td>0.800000</td>\n      <td>94.000000</td>\n      <td>17.000000</td>\n      <td>6.400000</td>\n      <td>99.980000</td>\n    </tr>\n    <tr>\n      <th>Moderate Snow</th>\n      <td>-5.525000</td>\n      <td>-7.250000</td>\n      <td>87.750000</td>\n      <td>33.750000</td>\n      <td>0.750000</td>\n      <td>100.275000</td>\n    </tr>\n    <tr>\n      <th>Moderate Snow,Blowing Snow</th>\n      <td>-5.450000</td>\n      <td>-6.500000</td>\n      <td>92.500000</td>\n      <td>40.000000</td>\n      <td>0.600000</td>\n      <td>100.570000</td>\n    </tr>\n    <tr>\n      <th>Mostly Cloudy</th>\n      <td>10.574287</td>\n      <td>3.131174</td>\n      <td>62.102465</td>\n      <td>15.813920</td>\n      <td>31.253842</td>\n      <td>101.025288</td>\n    </tr>\n    <tr>\n      <th>Rain</th>\n      <td>9.786275</td>\n      <td>7.042810</td>\n      <td>83.624183</td>\n      <td>19.254902</td>\n      <td>18.856536</td>\n      <td>100.233333</td>\n    </tr>\n    <tr>\n      <th>Rain Showers</th>\n      <td>13.722340</td>\n      <td>9.187766</td>\n      <td>75.159574</td>\n      <td>17.132979</td>\n      <td>22.816489</td>\n      <td>100.404043</td>\n    </tr>\n    <tr>\n      <th>Rain Showers,Fog</th>\n      <td>12.800000</td>\n      <td>12.100000</td>\n      <td>96.000000</td>\n      <td>13.000000</td>\n      <td>6.400000</td>\n      <td>99.830000</td>\n    </tr>\n    <tr>\n      <th>Rain Showers,Snow Showers</th>\n      <td>2.150000</td>\n      <td>-1.500000</td>\n      <td>76.500000</td>\n      <td>22.500000</td>\n      <td>21.700000</td>\n      <td>101.100000</td>\n    </tr>\n    <tr>\n      <th>Rain,Fog</th>\n      <td>8.273276</td>\n      <td>7.219828</td>\n      <td>93.189655</td>\n      <td>14.793103</td>\n      <td>6.873276</td>\n      <td>100.500862</td>\n    </tr>\n    <tr>\n      <th>Rain,Haze</th>\n      <td>4.633333</td>\n      <td>2.066667</td>\n      <td>83.333333</td>\n      <td>11.666667</td>\n      <td>6.700000</td>\n      <td>100.540000</td>\n    </tr>\n    <tr>\n      <th>Rain,Ice Pellets</th>\n      <td>0.600000</td>\n      <td>-0.600000</td>\n      <td>92.000000</td>\n      <td>24.000000</td>\n      <td>9.700000</td>\n      <td>100.120000</td>\n    </tr>\n    <tr>\n      <th>Rain,Snow</th>\n      <td>1.055556</td>\n      <td>-0.566667</td>\n      <td>89.000000</td>\n      <td>28.388889</td>\n      <td>11.672222</td>\n      <td>99.951111</td>\n    </tr>\n    <tr>\n      <th>Rain,Snow Grains</th>\n      <td>1.900000</td>\n      <td>-2.100000</td>\n      <td>75.000000</td>\n      <td>26.000000</td>\n      <td>25.000000</td>\n      <td>100.600000</td>\n    </tr>\n    <tr>\n      <th>Rain,Snow,Fog</th>\n      <td>0.800000</td>\n      <td>0.300000</td>\n      <td>96.000000</td>\n      <td>9.000000</td>\n      <td>6.400000</td>\n      <td>100.730000</td>\n    </tr>\n    <tr>\n      <th>Rain,Snow,Ice Pellets</th>\n      <td>1.100000</td>\n      <td>-0.175000</td>\n      <td>91.500000</td>\n      <td>23.250000</td>\n      <td>6.000000</td>\n      <td>100.105000</td>\n    </tr>\n    <tr>\n      <th>Snow</th>\n      <td>-4.524103</td>\n      <td>-7.623333</td>\n      <td>79.307692</td>\n      <td>20.038462</td>\n      <td>11.171795</td>\n      <td>100.536103</td>\n    </tr>\n    <tr>\n      <th>Snow Pellets</th>\n      <td>0.700000</td>\n      <td>-6.400000</td>\n      <td>59.000000</td>\n      <td>35.000000</td>\n      <td>2.400000</td>\n      <td>99.700000</td>\n    </tr>\n    <tr>\n      <th>Snow Showers</th>\n      <td>-3.506667</td>\n      <td>-7.866667</td>\n      <td>72.350000</td>\n      <td>19.233333</td>\n      <td>20.158333</td>\n      <td>100.963500</td>\n    </tr>\n    <tr>\n      <th>Snow Showers,Fog</th>\n      <td>-10.675000</td>\n      <td>-11.900000</td>\n      <td>90.750000</td>\n      <td>13.750000</td>\n      <td>7.025000</td>\n      <td>101.292500</td>\n    </tr>\n    <tr>\n      <th>Snow,Blowing Snow</th>\n      <td>-5.410526</td>\n      <td>-7.621053</td>\n      <td>84.473684</td>\n      <td>34.842105</td>\n      <td>4.105263</td>\n      <td>99.704737</td>\n    </tr>\n    <tr>\n      <th>Snow,Fog</th>\n      <td>-5.075676</td>\n      <td>-6.364865</td>\n      <td>90.675676</td>\n      <td>17.324324</td>\n      <td>4.537838</td>\n      <td>100.688649</td>\n    </tr>\n    <tr>\n      <th>Snow,Haze</th>\n      <td>-4.020000</td>\n      <td>-6.860000</td>\n      <td>80.600000</td>\n      <td>5.000000</td>\n      <td>4.640000</td>\n      <td>100.782000</td>\n    </tr>\n    <tr>\n      <th>Snow,Ice Pellets</th>\n      <td>-1.883333</td>\n      <td>-3.666667</td>\n      <td>87.666667</td>\n      <td>23.833333</td>\n      <td>7.416667</td>\n      <td>100.548333</td>\n    </tr>\n    <tr>\n      <th>Thunderstorms</th>\n      <td>24.150000</td>\n      <td>19.750000</td>\n      <td>77.000000</td>\n      <td>7.500000</td>\n      <td>24.550000</td>\n      <td>100.230000</td>\n    </tr>\n    <tr>\n      <th>Thunderstorms,Heavy Rain Showers</th>\n      <td>10.900000</td>\n      <td>9.000000</td>\n      <td>88.000000</td>\n      <td>9.000000</td>\n      <td>2.400000</td>\n      <td>100.260000</td>\n    </tr>\n    <tr>\n      <th>Thunderstorms,Moderate Rain Showers,Fog</th>\n      <td>19.600000</td>\n      <td>18.500000</td>\n      <td>93.000000</td>\n      <td>15.000000</td>\n      <td>3.200000</td>\n      <td>100.010000</td>\n    </tr>\n    <tr>\n      <th>Thunderstorms,Rain</th>\n      <td>20.433333</td>\n      <td>18.533333</td>\n      <td>89.000000</td>\n      <td>15.666667</td>\n      <td>19.833333</td>\n      <td>100.420000</td>\n    </tr>\n    <tr>\n      <th>Thunderstorms,Rain Showers</th>\n      <td>20.037500</td>\n      <td>17.618750</td>\n      <td>86.375000</td>\n      <td>18.312500</td>\n      <td>15.893750</td>\n      <td>100.233750</td>\n    </tr>\n    <tr>\n      <th>Thunderstorms,Rain Showers,Fog</th>\n      <td>21.600000</td>\n      <td>18.700000</td>\n      <td>84.000000</td>\n      <td>19.666667</td>\n      <td>9.700000</td>\n      <td>100.063333</td>\n    </tr>\n    <tr>\n      <th>Thunderstorms,Rain,Fog</th>\n      <td>20.600000</td>\n      <td>18.600000</td>\n      <td>88.000000</td>\n      <td>19.000000</td>\n      <td>4.800000</td>\n      <td>100.080000</td>\n    </tr>\n  </tbody>\n</table>\n</div>"
          },
          "metadata": {}
        }
      ],
      "execution_count": 92
    },
    {
      "cell_type": "markdown",
      "source": "# Q. 12) What is the Minimum & Maximum value of each column against each 'Weather Conditon' ?",
      "metadata": {}
    },
    {
      "cell_type": "code",
      "source": "data.groupby(\"Weather Condition\").max(numeric_only = True)",
      "metadata": {
        "trusted": true
      },
      "outputs": [
        {
          "execution_count": 6,
          "output_type": "execute_result",
          "data": {
            "text/plain": "                                         Temp_C  Dew Point Temp_C  Rel Hum_%  \\\nWeather Condition                                                              \nClear                                      32.8              20.4         99   \nCloudy                                     30.5              22.6         99   \nDrizzle                                    18.8              17.7         96   \nDrizzle,Fog                                19.9              19.1        100   \nDrizzle,Ice Pellets,Fog                     0.4              -0.7         92   \nDrizzle,Snow                                1.2               0.2         95   \nDrizzle,Snow,Fog                            1.1               0.6         98   \nFog                                        20.8              19.6        100   \nFreezing Drizzle                           -2.3              -3.3         93   \nFreezing Drizzle,Fog                       -0.3              -2.3         94   \nFreezing Drizzle,Haze                      -5.0              -7.7         83   \nFreezing Drizzle,Snow                      -3.3              -4.6         94   \nFreezing Fog                               -0.1              -0.3         99   \nFreezing Rain                               0.3              -1.7         92   \nFreezing Rain,Fog                           0.1              -0.9         93   \nFreezing Rain,Haze                         -4.9              -7.4         83   \nFreezing Rain,Ice Pellets,Fog              -2.6              -3.7         92   \nFreezing Rain,Snow Grains                  -5.0              -7.3         84   \nHaze                                       14.1              11.1         86   \nMainly Clear                               33.0              21.2         99   \nModerate Rain,Fog                           1.7               0.8         94   \nModerate Snow                              -4.9              -6.7         93   \nModerate Snow,Blowing Snow                 -5.4              -6.4         93   \nMostly Cloudy                              32.4              24.4        100   \nRain                                       22.8              20.4         99   \nRain Showers                               26.4              23.0         97   \nRain Showers,Fog                           12.8              12.1         96   \nRain Showers,Snow Showers                   2.2              -1.2         78   \nRain,Fog                                   21.7              19.5        100   \nRain,Haze                                   5.5               2.9         86   \nRain,Ice Pellets                            0.6              -0.6         92   \nRain,Snow                                   1.7               0.5         94   \nRain,Snow Grains                            1.9              -2.1         75   \nRain,Snow,Fog                               0.8               0.3         96   \nRain,Snow,Ice Pellets                       1.3               0.1         94   \nSnow                                        3.7               0.3         96   \nSnow Pellets                                0.7              -6.4         59   \nSnow Showers                                2.9              -0.7         94   \nSnow Showers,Fog                          -10.0             -11.1         92   \nSnow,Blowing Snow                          -1.4              -2.9         91   \nSnow,Fog                                    1.1               0.8         99   \nSnow,Haze                                  -3.6              -6.4         81   \nSnow,Ice Pellets                            0.8              -1.7         92   \nThunderstorms                              26.7              20.1         87   \nThunderstorms,Heavy Rain Showers           10.9               9.0         88   \nThunderstorms,Moderate Rain Showers,Fog    19.6              18.5         93   \nThunderstorms,Rain                         21.3              19.1         93   \nThunderstorms,Rain Showers                 25.5              23.1         98   \nThunderstorms,Rain Showers,Fog             22.9              21.3         91   \nThunderstorms,Rain,Fog                     20.6              18.6         88   \n\n                                         Wind Speed_km/h  Visibility_km  \\\nWeather Condition                                                         \nClear                                                 33           48.3   \nCloudy                                                54           48.3   \nDrizzle                                               30           25.0   \nDrizzle,Fog                                           28            9.7   \nDrizzle,Ice Pellets,Fog                               20            4.0   \nDrizzle,Snow                                          19           11.3   \nDrizzle,Snow,Fog                                      32            9.7   \nFog                                                   22            9.7   \nFreezing Drizzle                                      26           12.9   \nFreezing Drizzle,Fog                                  33            8.0   \nFreezing Drizzle,Haze                                 11            4.0   \nFreezing Drizzle,Snow                                 24           12.9   \nFreezing Fog                                           9            0.8   \nFreezing Rain                                         28           16.1   \nFreezing Rain,Fog                                     26            9.7   \nFreezing Rain,Haze                                     9            2.8   \nFreezing Rain,Ice Pellets,Fog                         28            8.0   \nFreezing Rain,Snow Grains                             32            4.8   \nHaze                                                  17            9.7   \nMainly Clear                                          63           48.3   \nModerate Rain,Fog                                     17            6.4   \nModerate Snow                                         39            0.8   \nModerate Snow,Blowing Snow                            41            0.6   \nMostly Cloudy                                         83           48.3   \nRain                                                  52           48.3   \nRain Showers                                          41           48.3   \nRain Showers,Fog                                      13            6.4   \nRain Showers,Snow Showers                             28           24.1   \nRain,Fog                                              46            9.7   \nRain,Haze                                             17            9.7   \nRain,Ice Pellets                                      24            9.7   \nRain,Snow                                             52           25.0   \nRain,Snow Grains                                      26           25.0   \nRain,Snow,Fog                                          9            6.4   \nRain,Snow,Ice Pellets                                 28            6.4   \nSnow                                                  57           25.0   \nSnow Pellets                                          35            2.4   \nSnow Showers                                          37           48.3   \nSnow Showers,Fog                                      22            9.7   \nSnow,Blowing Snow                                     48            9.7   \nSnow,Fog                                              35            9.7   \nSnow,Haze                                             15            6.4   \nSnow,Ice Pellets                                      33           11.3   \nThunderstorms                                         15           25.0   \nThunderstorms,Heavy Rain Showers                       9            2.4   \nThunderstorms,Moderate Rain Showers,Fog               15            3.2   \nThunderstorms,Rain                                    30           24.1   \nThunderstorms,Rain Showers                            32           25.0   \nThunderstorms,Rain Showers,Fog                        35            9.7   \nThunderstorms,Rain,Fog                                19            4.8   \n\n                                         Press_kPa  \nWeather Condition                                   \nClear                                       103.63  \nCloudy                                      103.65  \nDrizzle                                     101.56  \nDrizzle,Fog                                 102.07  \nDrizzle,Ice Pellets,Fog                     100.79  \nDrizzle,Snow                                101.15  \nDrizzle,Snow,Fog                            100.15  \nFog                                         103.04  \nFreezing Drizzle                            101.02  \nFreezing Drizzle,Fog                        101.27  \nFreezing Drizzle,Haze                       100.36  \nFreezing Drizzle,Snow                       101.18  \nFreezing Fog                                102.85  \nFreezing Rain                               101.00  \nFreezing Rain,Fog                           101.01  \nFreezing Rain,Haze                          100.41  \nFreezing Rain,Ice Pellets,Fog               100.95  \nFreezing Rain,Snow Grains                    98.56  \nHaze                                        102.97  \nMainly Clear                                103.59  \nModerate Rain,Fog                            99.98  \nModerate Snow                               100.67  \nModerate Snow,Blowing Snow                  100.64  \nMostly Cloudy                               103.65  \nRain                                        102.26  \nRain Showers                                102.31  \nRain Showers,Fog                             99.83  \nRain Showers,Snow Showers                   101.11  \nRain,Fog                                    101.77  \nRain,Haze                                   100.61  \nRain,Ice Pellets                            100.12  \nRain,Snow                                   101.07  \nRain,Snow Grains                            100.60  \nRain,Snow,Fog                               100.73  \nRain,Snow,Ice Pellets                       100.47  \nSnow                                        102.73  \nSnow Pellets                                 99.70  \nSnow Showers                                102.50  \nSnow Showers,Fog                            102.52  \nSnow,Blowing Snow                           100.62  \nSnow,Fog                                    102.07  \nSnow,Haze                                   100.99  \nSnow,Ice Pellets                            100.96  \nThunderstorms                               100.62  \nThunderstorms,Heavy Rain Showers            100.26  \nThunderstorms,Moderate Rain Showers,Fog     100.01  \nThunderstorms,Rain                          100.83  \nThunderstorms,Rain Showers                  101.06  \nThunderstorms,Rain Showers,Fog              100.64  \nThunderstorms,Rain,Fog                      100.08  ",
            "text/html": "<div>\n<style scoped>\n    .dataframe tbody tr th:only-of-type {\n        vertical-align: middle;\n    }\n\n    .dataframe tbody tr th {\n        vertical-align: top;\n    }\n\n    .dataframe thead th {\n        text-align: right;\n    }\n</style>\n<table border=\"1\" class=\"dataframe\">\n  <thead>\n    <tr style=\"text-align: right;\">\n      <th></th>\n      <th>Temp_C</th>\n      <th>Dew Point Temp_C</th>\n      <th>Rel Hum_%</th>\n      <th>Wind Speed_km/h</th>\n      <th>Visibility_km</th>\n      <th>Press_kPa</th>\n    </tr>\n    <tr>\n      <th>Weather Condition</th>\n      <th></th>\n      <th></th>\n      <th></th>\n      <th></th>\n      <th></th>\n      <th></th>\n    </tr>\n  </thead>\n  <tbody>\n    <tr>\n      <th>Clear</th>\n      <td>32.8</td>\n      <td>20.4</td>\n      <td>99</td>\n      <td>33</td>\n      <td>48.3</td>\n      <td>103.63</td>\n    </tr>\n    <tr>\n      <th>Cloudy</th>\n      <td>30.5</td>\n      <td>22.6</td>\n      <td>99</td>\n      <td>54</td>\n      <td>48.3</td>\n      <td>103.65</td>\n    </tr>\n    <tr>\n      <th>Drizzle</th>\n      <td>18.8</td>\n      <td>17.7</td>\n      <td>96</td>\n      <td>30</td>\n      <td>25.0</td>\n      <td>101.56</td>\n    </tr>\n    <tr>\n      <th>Drizzle,Fog</th>\n      <td>19.9</td>\n      <td>19.1</td>\n      <td>100</td>\n      <td>28</td>\n      <td>9.7</td>\n      <td>102.07</td>\n    </tr>\n    <tr>\n      <th>Drizzle,Ice Pellets,Fog</th>\n      <td>0.4</td>\n      <td>-0.7</td>\n      <td>92</td>\n      <td>20</td>\n      <td>4.0</td>\n      <td>100.79</td>\n    </tr>\n    <tr>\n      <th>Drizzle,Snow</th>\n      <td>1.2</td>\n      <td>0.2</td>\n      <td>95</td>\n      <td>19</td>\n      <td>11.3</td>\n      <td>101.15</td>\n    </tr>\n    <tr>\n      <th>Drizzle,Snow,Fog</th>\n      <td>1.1</td>\n      <td>0.6</td>\n      <td>98</td>\n      <td>32</td>\n      <td>9.7</td>\n      <td>100.15</td>\n    </tr>\n    <tr>\n      <th>Fog</th>\n      <td>20.8</td>\n      <td>19.6</td>\n      <td>100</td>\n      <td>22</td>\n      <td>9.7</td>\n      <td>103.04</td>\n    </tr>\n    <tr>\n      <th>Freezing Drizzle</th>\n      <td>-2.3</td>\n      <td>-3.3</td>\n      <td>93</td>\n      <td>26</td>\n      <td>12.9</td>\n      <td>101.02</td>\n    </tr>\n    <tr>\n      <th>Freezing Drizzle,Fog</th>\n      <td>-0.3</td>\n      <td>-2.3</td>\n      <td>94</td>\n      <td>33</td>\n      <td>8.0</td>\n      <td>101.27</td>\n    </tr>\n    <tr>\n      <th>Freezing Drizzle,Haze</th>\n      <td>-5.0</td>\n      <td>-7.7</td>\n      <td>83</td>\n      <td>11</td>\n      <td>4.0</td>\n      <td>100.36</td>\n    </tr>\n    <tr>\n      <th>Freezing Drizzle,Snow</th>\n      <td>-3.3</td>\n      <td>-4.6</td>\n      <td>94</td>\n      <td>24</td>\n      <td>12.9</td>\n      <td>101.18</td>\n    </tr>\n    <tr>\n      <th>Freezing Fog</th>\n      <td>-0.1</td>\n      <td>-0.3</td>\n      <td>99</td>\n      <td>9</td>\n      <td>0.8</td>\n      <td>102.85</td>\n    </tr>\n    <tr>\n      <th>Freezing Rain</th>\n      <td>0.3</td>\n      <td>-1.7</td>\n      <td>92</td>\n      <td>28</td>\n      <td>16.1</td>\n      <td>101.00</td>\n    </tr>\n    <tr>\n      <th>Freezing Rain,Fog</th>\n      <td>0.1</td>\n      <td>-0.9</td>\n      <td>93</td>\n      <td>26</td>\n      <td>9.7</td>\n      <td>101.01</td>\n    </tr>\n    <tr>\n      <th>Freezing Rain,Haze</th>\n      <td>-4.9</td>\n      <td>-7.4</td>\n      <td>83</td>\n      <td>9</td>\n      <td>2.8</td>\n      <td>100.41</td>\n    </tr>\n    <tr>\n      <th>Freezing Rain,Ice Pellets,Fog</th>\n      <td>-2.6</td>\n      <td>-3.7</td>\n      <td>92</td>\n      <td>28</td>\n      <td>8.0</td>\n      <td>100.95</td>\n    </tr>\n    <tr>\n      <th>Freezing Rain,Snow Grains</th>\n      <td>-5.0</td>\n      <td>-7.3</td>\n      <td>84</td>\n      <td>32</td>\n      <td>4.8</td>\n      <td>98.56</td>\n    </tr>\n    <tr>\n      <th>Haze</th>\n      <td>14.1</td>\n      <td>11.1</td>\n      <td>86</td>\n      <td>17</td>\n      <td>9.7</td>\n      <td>102.97</td>\n    </tr>\n    <tr>\n      <th>Mainly Clear</th>\n      <td>33.0</td>\n      <td>21.2</td>\n      <td>99</td>\n      <td>63</td>\n      <td>48.3</td>\n      <td>103.59</td>\n    </tr>\n    <tr>\n      <th>Moderate Rain,Fog</th>\n      <td>1.7</td>\n      <td>0.8</td>\n      <td>94</td>\n      <td>17</td>\n      <td>6.4</td>\n      <td>99.98</td>\n    </tr>\n    <tr>\n      <th>Moderate Snow</th>\n      <td>-4.9</td>\n      <td>-6.7</td>\n      <td>93</td>\n      <td>39</td>\n      <td>0.8</td>\n      <td>100.67</td>\n    </tr>\n    <tr>\n      <th>Moderate Snow,Blowing Snow</th>\n      <td>-5.4</td>\n      <td>-6.4</td>\n      <td>93</td>\n      <td>41</td>\n      <td>0.6</td>\n      <td>100.64</td>\n    </tr>\n    <tr>\n      <th>Mostly Cloudy</th>\n      <td>32.4</td>\n      <td>24.4</td>\n      <td>100</td>\n      <td>83</td>\n      <td>48.3</td>\n      <td>103.65</td>\n    </tr>\n    <tr>\n      <th>Rain</th>\n      <td>22.8</td>\n      <td>20.4</td>\n      <td>99</td>\n      <td>52</td>\n      <td>48.3</td>\n      <td>102.26</td>\n    </tr>\n    <tr>\n      <th>Rain Showers</th>\n      <td>26.4</td>\n      <td>23.0</td>\n      <td>97</td>\n      <td>41</td>\n      <td>48.3</td>\n      <td>102.31</td>\n    </tr>\n    <tr>\n      <th>Rain Showers,Fog</th>\n      <td>12.8</td>\n      <td>12.1</td>\n      <td>96</td>\n      <td>13</td>\n      <td>6.4</td>\n      <td>99.83</td>\n    </tr>\n    <tr>\n      <th>Rain Showers,Snow Showers</th>\n      <td>2.2</td>\n      <td>-1.2</td>\n      <td>78</td>\n      <td>28</td>\n      <td>24.1</td>\n      <td>101.11</td>\n    </tr>\n    <tr>\n      <th>Rain,Fog</th>\n      <td>21.7</td>\n      <td>19.5</td>\n      <td>100</td>\n      <td>46</td>\n      <td>9.7</td>\n      <td>101.77</td>\n    </tr>\n    <tr>\n      <th>Rain,Haze</th>\n      <td>5.5</td>\n      <td>2.9</td>\n      <td>86</td>\n      <td>17</td>\n      <td>9.7</td>\n      <td>100.61</td>\n    </tr>\n    <tr>\n      <th>Rain,Ice Pellets</th>\n      <td>0.6</td>\n      <td>-0.6</td>\n      <td>92</td>\n      <td>24</td>\n      <td>9.7</td>\n      <td>100.12</td>\n    </tr>\n    <tr>\n      <th>Rain,Snow</th>\n      <td>1.7</td>\n      <td>0.5</td>\n      <td>94</td>\n      <td>52</td>\n      <td>25.0</td>\n      <td>101.07</td>\n    </tr>\n    <tr>\n      <th>Rain,Snow Grains</th>\n      <td>1.9</td>\n      <td>-2.1</td>\n      <td>75</td>\n      <td>26</td>\n      <td>25.0</td>\n      <td>100.60</td>\n    </tr>\n    <tr>\n      <th>Rain,Snow,Fog</th>\n      <td>0.8</td>\n      <td>0.3</td>\n      <td>96</td>\n      <td>9</td>\n      <td>6.4</td>\n      <td>100.73</td>\n    </tr>\n    <tr>\n      <th>Rain,Snow,Ice Pellets</th>\n      <td>1.3</td>\n      <td>0.1</td>\n      <td>94</td>\n      <td>28</td>\n      <td>6.4</td>\n      <td>100.47</td>\n    </tr>\n    <tr>\n      <th>Snow</th>\n      <td>3.7</td>\n      <td>0.3</td>\n      <td>96</td>\n      <td>57</td>\n      <td>25.0</td>\n      <td>102.73</td>\n    </tr>\n    <tr>\n      <th>Snow Pellets</th>\n      <td>0.7</td>\n      <td>-6.4</td>\n      <td>59</td>\n      <td>35</td>\n      <td>2.4</td>\n      <td>99.70</td>\n    </tr>\n    <tr>\n      <th>Snow Showers</th>\n      <td>2.9</td>\n      <td>-0.7</td>\n      <td>94</td>\n      <td>37</td>\n      <td>48.3</td>\n      <td>102.50</td>\n    </tr>\n    <tr>\n      <th>Snow Showers,Fog</th>\n      <td>-10.0</td>\n      <td>-11.1</td>\n      <td>92</td>\n      <td>22</td>\n      <td>9.7</td>\n      <td>102.52</td>\n    </tr>\n    <tr>\n      <th>Snow,Blowing Snow</th>\n      <td>-1.4</td>\n      <td>-2.9</td>\n      <td>91</td>\n      <td>48</td>\n      <td>9.7</td>\n      <td>100.62</td>\n    </tr>\n    <tr>\n      <th>Snow,Fog</th>\n      <td>1.1</td>\n      <td>0.8</td>\n      <td>99</td>\n      <td>35</td>\n      <td>9.7</td>\n      <td>102.07</td>\n    </tr>\n    <tr>\n      <th>Snow,Haze</th>\n      <td>-3.6</td>\n      <td>-6.4</td>\n      <td>81</td>\n      <td>15</td>\n      <td>6.4</td>\n      <td>100.99</td>\n    </tr>\n    <tr>\n      <th>Snow,Ice Pellets</th>\n      <td>0.8</td>\n      <td>-1.7</td>\n      <td>92</td>\n      <td>33</td>\n      <td>11.3</td>\n      <td>100.96</td>\n    </tr>\n    <tr>\n      <th>Thunderstorms</th>\n      <td>26.7</td>\n      <td>20.1</td>\n      <td>87</td>\n      <td>15</td>\n      <td>25.0</td>\n      <td>100.62</td>\n    </tr>\n    <tr>\n      <th>Thunderstorms,Heavy Rain Showers</th>\n      <td>10.9</td>\n      <td>9.0</td>\n      <td>88</td>\n      <td>9</td>\n      <td>2.4</td>\n      <td>100.26</td>\n    </tr>\n    <tr>\n      <th>Thunderstorms,Moderate Rain Showers,Fog</th>\n      <td>19.6</td>\n      <td>18.5</td>\n      <td>93</td>\n      <td>15</td>\n      <td>3.2</td>\n      <td>100.01</td>\n    </tr>\n    <tr>\n      <th>Thunderstorms,Rain</th>\n      <td>21.3</td>\n      <td>19.1</td>\n      <td>93</td>\n      <td>30</td>\n      <td>24.1</td>\n      <td>100.83</td>\n    </tr>\n    <tr>\n      <th>Thunderstorms,Rain Showers</th>\n      <td>25.5</td>\n      <td>23.1</td>\n      <td>98</td>\n      <td>32</td>\n      <td>25.0</td>\n      <td>101.06</td>\n    </tr>\n    <tr>\n      <th>Thunderstorms,Rain Showers,Fog</th>\n      <td>22.9</td>\n      <td>21.3</td>\n      <td>91</td>\n      <td>35</td>\n      <td>9.7</td>\n      <td>100.64</td>\n    </tr>\n    <tr>\n      <th>Thunderstorms,Rain,Fog</th>\n      <td>20.6</td>\n      <td>18.6</td>\n      <td>88</td>\n      <td>19</td>\n      <td>4.8</td>\n      <td>100.08</td>\n    </tr>\n  </tbody>\n</table>\n</div>"
          },
          "metadata": {}
        }
      ],
      "execution_count": 6
    },
    {
      "cell_type": "code",
      "source": "data.groupby(\"Weather Condition\").min(numeric_only=True)",
      "metadata": {
        "trusted": true
      },
      "outputs": [
        {
          "execution_count": 7,
          "output_type": "execute_result",
          "data": {
            "text/plain": "                                         Temp_C  Dew Point Temp_C  Rel Hum_%  \\\nWeather Condition                                                              \nClear                                     -23.3             -28.5         20   \nCloudy                                    -21.4             -26.8         18   \nDrizzle                                     1.1              -0.2         74   \nDrizzle,Fog                                 0.0              -1.6         85   \nDrizzle,Ice Pellets,Fog                     0.4              -0.7         92   \nDrizzle,Snow                                0.9               0.1         92   \nDrizzle,Snow,Fog                            0.3              -0.1         92   \nFog                                       -16.0             -17.2         80   \nFreezing Drizzle                           -9.0             -12.2         78   \nFreezing Drizzle,Fog                       -6.4              -9.0         82   \nFreezing Drizzle,Haze                      -5.8              -8.3         81   \nFreezing Drizzle,Snow                      -8.3             -10.4         79   \nFreezing Fog                              -19.0             -22.9         71   \nFreezing Rain                              -6.5              -9.0         81   \nFreezing Rain,Fog                          -6.1              -8.7         82   \nFreezing Rain,Haze                         -4.9              -7.5         82   \nFreezing Rain,Ice Pellets,Fog              -2.6              -3.7         92   \nFreezing Rain,Snow Grains                  -5.0              -7.3         84   \nHaze                                      -11.5             -16.0         68   \nMainly Clear                              -22.8             -28.0         20   \nModerate Rain,Fog                           1.7               0.8         94   \nModerate Snow                              -6.3              -7.6         83   \nModerate Snow,Blowing Snow                 -5.5              -6.6         92   \nMostly Cloudy                             -23.2             -28.5         18   \nRain                                        0.3              -5.7         40   \nRain Showers                                1.6              -7.2         37   \nRain Showers,Fog                           12.8              12.1         96   \nRain Showers,Snow Showers                   2.1              -1.8         75   \nRain,Fog                                    0.0              -1.2         83   \nRain,Haze                                   4.0               1.0         81   \nRain,Ice Pellets                            0.6              -0.6         92   \nRain,Snow                                   0.6              -1.7         81   \nRain,Snow Grains                            1.9              -2.1         75   \nRain,Snow,Fog                               0.8               0.3         96   \nRain,Snow,Ice Pellets                       0.9              -0.7         88   \nSnow                                      -16.7             -24.6         41   \nSnow Pellets                                0.7              -6.4         59   \nSnow Showers                              -13.3             -19.3         52   \nSnow Showers,Fog                          -11.3             -12.7         89   \nSnow,Blowing Snow                         -12.0             -16.2         70   \nSnow,Fog                                  -10.1             -12.0         77   \nSnow,Haze                                  -4.3              -7.2         80   \nSnow,Ice Pellets                           -4.3              -5.9         76   \nThunderstorms                              21.6              19.4         67   \nThunderstorms,Heavy Rain Showers           10.9               9.0         88   \nThunderstorms,Moderate Rain Showers,Fog    19.6              18.5         93   \nThunderstorms,Rain                         19.4              18.2         83   \nThunderstorms,Rain Showers                 11.0               7.0         68   \nThunderstorms,Rain Showers,Fog             19.5              16.1         80   \nThunderstorms,Rain,Fog                     20.6              18.6         88   \n\n                                         Wind Speed_km/h  Visibility_km  \\\nWeather Condition                                                         \nClear                                                  0           11.3   \nCloudy                                                 0           11.3   \nDrizzle                                                0            6.4   \nDrizzle,Fog                                            0            1.0   \nDrizzle,Ice Pellets,Fog                               20            4.0   \nDrizzle,Snow                                           9            9.7   \nDrizzle,Snow,Fog                                       7            2.4   \nFog                                                    0            0.2   \nFreezing Drizzle                                       6            4.8   \nFreezing Drizzle,Fog                                   6            3.6   \nFreezing Drizzle,Haze                                  9            2.0   \nFreezing Drizzle,Snow                                  6            2.4   \nFreezing Fog                                           0            0.2   \nFreezing Rain                                          7            2.8   \nFreezing Rain,Fog                                      7            2.8   \nFreezing Rain,Haze                                     6            2.0   \nFreezing Rain,Ice Pellets,Fog                         28            8.0   \nFreezing Rain,Snow Grains                             32            4.8   \nHaze                                                   0            4.8   \nMainly Clear                                           0           12.9   \nModerate Rain,Fog                                     17            6.4   \nModerate Snow                                         26            0.6   \nModerate Snow,Blowing Snow                            39            0.6   \nMostly Cloudy                                          0           11.3   \nRain                                                   0            4.0   \nRain Showers                                           0            6.4   \nRain Showers,Fog                                      13            6.4   \nRain Showers,Snow Showers                             17           19.3   \nRain,Fog                                               0            2.0   \nRain,Haze                                              7            4.0   \nRain,Ice Pellets                                      24            9.7   \nRain,Snow                                             13            2.4   \nRain,Snow Grains                                      26           25.0   \nRain,Snow,Fog                                          9            6.4   \nRain,Snow,Ice Pellets                                 17            4.8   \nSnow                                                   0            1.0   \nSnow Pellets                                          35            2.4   \nSnow Showers                                           0            2.4   \nSnow Showers,Fog                                       7            4.0   \nSnow,Blowing Snow                                     24            0.6   \nSnow,Fog                                               4            1.2   \nSnow,Haze                                              0            4.0   \nSnow,Ice Pellets                                      19            2.8   \nThunderstorms                                          0           24.1   \nThunderstorms,Heavy Rain Showers                       9            2.4   \nThunderstorms,Moderate Rain Showers,Fog               15            3.2   \nThunderstorms,Rain                                     4           16.1   \nThunderstorms,Rain Showers                             7            6.4   \nThunderstorms,Rain Showers,Fog                         7            9.7   \nThunderstorms,Rain,Fog                                19            4.8   \n\n                                         Press_kPa  \nWeather Condition                                   \nClear                                        99.52  \nCloudy                                       98.39  \nDrizzle                                      97.84  \nDrizzle,Fog                                  98.65  \nDrizzle,Ice Pellets,Fog                     100.79  \nDrizzle,Snow                                100.63  \nDrizzle,Snow,Fog                             97.79  \nFog                                          98.31  \nFreezing Drizzle                             98.44  \nFreezing Drizzle,Fog                         98.74  \nFreezing Drizzle,Haze                       100.28  \nFreezing Drizzle,Snow                        99.19  \nFreezing Fog                                101.97  \nFreezing Rain                                98.22  \nFreezing Rain,Fog                            98.32  \nFreezing Rain,Haze                          100.34  \nFreezing Rain,Ice Pellets,Fog               100.95  \nFreezing Rain,Snow Grains                    98.56  \nHaze                                        100.35  \nMainly Clear                                 98.67  \nModerate Rain,Fog                            99.98  \nModerate Snow                                99.88  \nModerate Snow,Blowing Snow                  100.50  \nMostly Cloudy                                98.36  \nRain                                         97.52  \nRain Showers                                 98.51  \nRain Showers,Fog                             99.83  \nRain Showers,Snow Showers                   101.09  \nRain,Fog                                     98.61  \nRain,Haze                                   100.50  \nRain,Ice Pellets                            100.12  \nRain,Snow                                    98.18  \nRain,Snow Grains                            100.60  \nRain,Snow,Fog                               100.73  \nRain,Snow,Ice Pellets                        99.85  \nSnow                                         97.75  \nSnow Pellets                                 99.70  \nSnow Showers                                 99.49  \nSnow Showers,Fog                            100.63  \nSnow,Blowing Snow                            98.11  \nSnow,Fog                                     99.38  \nSnow,Haze                                   100.61  \nSnow,Ice Pellets                             99.40  \nThunderstorms                                99.84  \nThunderstorms,Heavy Rain Showers            100.26  \nThunderstorms,Moderate Rain Showers,Fog     100.01  \nThunderstorms,Rain                          100.19  \nThunderstorms,Rain Showers                   99.65  \nThunderstorms,Rain Showers,Fog               99.71  \nThunderstorms,Rain,Fog                      100.08  ",
            "text/html": "<div>\n<style scoped>\n    .dataframe tbody tr th:only-of-type {\n        vertical-align: middle;\n    }\n\n    .dataframe tbody tr th {\n        vertical-align: top;\n    }\n\n    .dataframe thead th {\n        text-align: right;\n    }\n</style>\n<table border=\"1\" class=\"dataframe\">\n  <thead>\n    <tr style=\"text-align: right;\">\n      <th></th>\n      <th>Temp_C</th>\n      <th>Dew Point Temp_C</th>\n      <th>Rel Hum_%</th>\n      <th>Wind Speed_km/h</th>\n      <th>Visibility_km</th>\n      <th>Press_kPa</th>\n    </tr>\n    <tr>\n      <th>Weather Condition</th>\n      <th></th>\n      <th></th>\n      <th></th>\n      <th></th>\n      <th></th>\n      <th></th>\n    </tr>\n  </thead>\n  <tbody>\n    <tr>\n      <th>Clear</th>\n      <td>-23.3</td>\n      <td>-28.5</td>\n      <td>20</td>\n      <td>0</td>\n      <td>11.3</td>\n      <td>99.52</td>\n    </tr>\n    <tr>\n      <th>Cloudy</th>\n      <td>-21.4</td>\n      <td>-26.8</td>\n      <td>18</td>\n      <td>0</td>\n      <td>11.3</td>\n      <td>98.39</td>\n    </tr>\n    <tr>\n      <th>Drizzle</th>\n      <td>1.1</td>\n      <td>-0.2</td>\n      <td>74</td>\n      <td>0</td>\n      <td>6.4</td>\n      <td>97.84</td>\n    </tr>\n    <tr>\n      <th>Drizzle,Fog</th>\n      <td>0.0</td>\n      <td>-1.6</td>\n      <td>85</td>\n      <td>0</td>\n      <td>1.0</td>\n      <td>98.65</td>\n    </tr>\n    <tr>\n      <th>Drizzle,Ice Pellets,Fog</th>\n      <td>0.4</td>\n      <td>-0.7</td>\n      <td>92</td>\n      <td>20</td>\n      <td>4.0</td>\n      <td>100.79</td>\n    </tr>\n    <tr>\n      <th>Drizzle,Snow</th>\n      <td>0.9</td>\n      <td>0.1</td>\n      <td>92</td>\n      <td>9</td>\n      <td>9.7</td>\n      <td>100.63</td>\n    </tr>\n    <tr>\n      <th>Drizzle,Snow,Fog</th>\n      <td>0.3</td>\n      <td>-0.1</td>\n      <td>92</td>\n      <td>7</td>\n      <td>2.4</td>\n      <td>97.79</td>\n    </tr>\n    <tr>\n      <th>Fog</th>\n      <td>-16.0</td>\n      <td>-17.2</td>\n      <td>80</td>\n      <td>0</td>\n      <td>0.2</td>\n      <td>98.31</td>\n    </tr>\n    <tr>\n      <th>Freezing Drizzle</th>\n      <td>-9.0</td>\n      <td>-12.2</td>\n      <td>78</td>\n      <td>6</td>\n      <td>4.8</td>\n      <td>98.44</td>\n    </tr>\n    <tr>\n      <th>Freezing Drizzle,Fog</th>\n      <td>-6.4</td>\n      <td>-9.0</td>\n      <td>82</td>\n      <td>6</td>\n      <td>3.6</td>\n      <td>98.74</td>\n    </tr>\n    <tr>\n      <th>Freezing Drizzle,Haze</th>\n      <td>-5.8</td>\n      <td>-8.3</td>\n      <td>81</td>\n      <td>9</td>\n      <td>2.0</td>\n      <td>100.28</td>\n    </tr>\n    <tr>\n      <th>Freezing Drizzle,Snow</th>\n      <td>-8.3</td>\n      <td>-10.4</td>\n      <td>79</td>\n      <td>6</td>\n      <td>2.4</td>\n      <td>99.19</td>\n    </tr>\n    <tr>\n      <th>Freezing Fog</th>\n      <td>-19.0</td>\n      <td>-22.9</td>\n      <td>71</td>\n      <td>0</td>\n      <td>0.2</td>\n      <td>101.97</td>\n    </tr>\n    <tr>\n      <th>Freezing Rain</th>\n      <td>-6.5</td>\n      <td>-9.0</td>\n      <td>81</td>\n      <td>7</td>\n      <td>2.8</td>\n      <td>98.22</td>\n    </tr>\n    <tr>\n      <th>Freezing Rain,Fog</th>\n      <td>-6.1</td>\n      <td>-8.7</td>\n      <td>82</td>\n      <td>7</td>\n      <td>2.8</td>\n      <td>98.32</td>\n    </tr>\n    <tr>\n      <th>Freezing Rain,Haze</th>\n      <td>-4.9</td>\n      <td>-7.5</td>\n      <td>82</td>\n      <td>6</td>\n      <td>2.0</td>\n      <td>100.34</td>\n    </tr>\n    <tr>\n      <th>Freezing Rain,Ice Pellets,Fog</th>\n      <td>-2.6</td>\n      <td>-3.7</td>\n      <td>92</td>\n      <td>28</td>\n      <td>8.0</td>\n      <td>100.95</td>\n    </tr>\n    <tr>\n      <th>Freezing Rain,Snow Grains</th>\n      <td>-5.0</td>\n      <td>-7.3</td>\n      <td>84</td>\n      <td>32</td>\n      <td>4.8</td>\n      <td>98.56</td>\n    </tr>\n    <tr>\n      <th>Haze</th>\n      <td>-11.5</td>\n      <td>-16.0</td>\n      <td>68</td>\n      <td>0</td>\n      <td>4.8</td>\n      <td>100.35</td>\n    </tr>\n    <tr>\n      <th>Mainly Clear</th>\n      <td>-22.8</td>\n      <td>-28.0</td>\n      <td>20</td>\n      <td>0</td>\n      <td>12.9</td>\n      <td>98.67</td>\n    </tr>\n    <tr>\n      <th>Moderate Rain,Fog</th>\n      <td>1.7</td>\n      <td>0.8</td>\n      <td>94</td>\n      <td>17</td>\n      <td>6.4</td>\n      <td>99.98</td>\n    </tr>\n    <tr>\n      <th>Moderate Snow</th>\n      <td>-6.3</td>\n      <td>-7.6</td>\n      <td>83</td>\n      <td>26</td>\n      <td>0.6</td>\n      <td>99.88</td>\n    </tr>\n    <tr>\n      <th>Moderate Snow,Blowing Snow</th>\n      <td>-5.5</td>\n      <td>-6.6</td>\n      <td>92</td>\n      <td>39</td>\n      <td>0.6</td>\n      <td>100.50</td>\n    </tr>\n    <tr>\n      <th>Mostly Cloudy</th>\n      <td>-23.2</td>\n      <td>-28.5</td>\n      <td>18</td>\n      <td>0</td>\n      <td>11.3</td>\n      <td>98.36</td>\n    </tr>\n    <tr>\n      <th>Rain</th>\n      <td>0.3</td>\n      <td>-5.7</td>\n      <td>40</td>\n      <td>0</td>\n      <td>4.0</td>\n      <td>97.52</td>\n    </tr>\n    <tr>\n      <th>Rain Showers</th>\n      <td>1.6</td>\n      <td>-7.2</td>\n      <td>37</td>\n      <td>0</td>\n      <td>6.4</td>\n      <td>98.51</td>\n    </tr>\n    <tr>\n      <th>Rain Showers,Fog</th>\n      <td>12.8</td>\n      <td>12.1</td>\n      <td>96</td>\n      <td>13</td>\n      <td>6.4</td>\n      <td>99.83</td>\n    </tr>\n    <tr>\n      <th>Rain Showers,Snow Showers</th>\n      <td>2.1</td>\n      <td>-1.8</td>\n      <td>75</td>\n      <td>17</td>\n      <td>19.3</td>\n      <td>101.09</td>\n    </tr>\n    <tr>\n      <th>Rain,Fog</th>\n      <td>0.0</td>\n      <td>-1.2</td>\n      <td>83</td>\n      <td>0</td>\n      <td>2.0</td>\n      <td>98.61</td>\n    </tr>\n    <tr>\n      <th>Rain,Haze</th>\n      <td>4.0</td>\n      <td>1.0</td>\n      <td>81</td>\n      <td>7</td>\n      <td>4.0</td>\n      <td>100.50</td>\n    </tr>\n    <tr>\n      <th>Rain,Ice Pellets</th>\n      <td>0.6</td>\n      <td>-0.6</td>\n      <td>92</td>\n      <td>24</td>\n      <td>9.7</td>\n      <td>100.12</td>\n    </tr>\n    <tr>\n      <th>Rain,Snow</th>\n      <td>0.6</td>\n      <td>-1.7</td>\n      <td>81</td>\n      <td>13</td>\n      <td>2.4</td>\n      <td>98.18</td>\n    </tr>\n    <tr>\n      <th>Rain,Snow Grains</th>\n      <td>1.9</td>\n      <td>-2.1</td>\n      <td>75</td>\n      <td>26</td>\n      <td>25.0</td>\n      <td>100.60</td>\n    </tr>\n    <tr>\n      <th>Rain,Snow,Fog</th>\n      <td>0.8</td>\n      <td>0.3</td>\n      <td>96</td>\n      <td>9</td>\n      <td>6.4</td>\n      <td>100.73</td>\n    </tr>\n    <tr>\n      <th>Rain,Snow,Ice Pellets</th>\n      <td>0.9</td>\n      <td>-0.7</td>\n      <td>88</td>\n      <td>17</td>\n      <td>4.8</td>\n      <td>99.85</td>\n    </tr>\n    <tr>\n      <th>Snow</th>\n      <td>-16.7</td>\n      <td>-24.6</td>\n      <td>41</td>\n      <td>0</td>\n      <td>1.0</td>\n      <td>97.75</td>\n    </tr>\n    <tr>\n      <th>Snow Pellets</th>\n      <td>0.7</td>\n      <td>-6.4</td>\n      <td>59</td>\n      <td>35</td>\n      <td>2.4</td>\n      <td>99.70</td>\n    </tr>\n    <tr>\n      <th>Snow Showers</th>\n      <td>-13.3</td>\n      <td>-19.3</td>\n      <td>52</td>\n      <td>0</td>\n      <td>2.4</td>\n      <td>99.49</td>\n    </tr>\n    <tr>\n      <th>Snow Showers,Fog</th>\n      <td>-11.3</td>\n      <td>-12.7</td>\n      <td>89</td>\n      <td>7</td>\n      <td>4.0</td>\n      <td>100.63</td>\n    </tr>\n    <tr>\n      <th>Snow,Blowing Snow</th>\n      <td>-12.0</td>\n      <td>-16.2</td>\n      <td>70</td>\n      <td>24</td>\n      <td>0.6</td>\n      <td>98.11</td>\n    </tr>\n    <tr>\n      <th>Snow,Fog</th>\n      <td>-10.1</td>\n      <td>-12.0</td>\n      <td>77</td>\n      <td>4</td>\n      <td>1.2</td>\n      <td>99.38</td>\n    </tr>\n    <tr>\n      <th>Snow,Haze</th>\n      <td>-4.3</td>\n      <td>-7.2</td>\n      <td>80</td>\n      <td>0</td>\n      <td>4.0</td>\n      <td>100.61</td>\n    </tr>\n    <tr>\n      <th>Snow,Ice Pellets</th>\n      <td>-4.3</td>\n      <td>-5.9</td>\n      <td>76</td>\n      <td>19</td>\n      <td>2.8</td>\n      <td>99.40</td>\n    </tr>\n    <tr>\n      <th>Thunderstorms</th>\n      <td>21.6</td>\n      <td>19.4</td>\n      <td>67</td>\n      <td>0</td>\n      <td>24.1</td>\n      <td>99.84</td>\n    </tr>\n    <tr>\n      <th>Thunderstorms,Heavy Rain Showers</th>\n      <td>10.9</td>\n      <td>9.0</td>\n      <td>88</td>\n      <td>9</td>\n      <td>2.4</td>\n      <td>100.26</td>\n    </tr>\n    <tr>\n      <th>Thunderstorms,Moderate Rain Showers,Fog</th>\n      <td>19.6</td>\n      <td>18.5</td>\n      <td>93</td>\n      <td>15</td>\n      <td>3.2</td>\n      <td>100.01</td>\n    </tr>\n    <tr>\n      <th>Thunderstorms,Rain</th>\n      <td>19.4</td>\n      <td>18.2</td>\n      <td>83</td>\n      <td>4</td>\n      <td>16.1</td>\n      <td>100.19</td>\n    </tr>\n    <tr>\n      <th>Thunderstorms,Rain Showers</th>\n      <td>11.0</td>\n      <td>7.0</td>\n      <td>68</td>\n      <td>7</td>\n      <td>6.4</td>\n      <td>99.65</td>\n    </tr>\n    <tr>\n      <th>Thunderstorms,Rain Showers,Fog</th>\n      <td>19.5</td>\n      <td>16.1</td>\n      <td>80</td>\n      <td>7</td>\n      <td>9.7</td>\n      <td>99.71</td>\n    </tr>\n    <tr>\n      <th>Thunderstorms,Rain,Fog</th>\n      <td>20.6</td>\n      <td>18.6</td>\n      <td>88</td>\n      <td>19</td>\n      <td>4.8</td>\n      <td>100.08</td>\n    </tr>\n  </tbody>\n</table>\n</div>"
          },
          "metadata": {}
        }
      ],
      "execution_count": 7
    },
    {
      "cell_type": "markdown",
      "source": "# Q. 13) Show all the Records where Weather Condition is Fog.",
      "metadata": {}
    },
    {
      "cell_type": "code",
      "source": "data[data[\"Weather Condition\"].str.contains(\"Fog\")] # Answer",
      "metadata": {
        "trusted": true
      },
      "outputs": [
        {
          "execution_count": 9,
          "output_type": "execute_result",
          "data": {
            "text/plain": "             Date/Time  Temp_C  Dew Point Temp_C  Rel Hum_%  Wind Speed_km/h  \\\n0        1/1/2012 0:00    -1.8              -3.9         86                4   \n1        1/1/2012 1:00    -1.8              -3.7         87                4   \n2        1/1/2012 2:00    -1.8              -3.4         89                7   \n3        1/1/2012 3:00    -1.5              -3.2         88                6   \n4        1/1/2012 4:00    -1.5              -3.3         88                7   \n...                ...     ...               ...        ...              ...   \n8739   12/30/2012 3:00    -9.1             -10.4         90               11   \n8740   12/30/2012 4:00    -9.3             -10.6         90               13   \n8741   12/30/2012 5:00    -9.1             -10.4         90               11   \n8742   12/30/2012 6:00    -9.3             -10.8         89               17   \n8770  12/31/2012 10:00    -7.4              -8.9         89                4   \n\n      Visibility_km  Press_kPa     Weather Condition  \n0               8.0     101.24                   Fog  \n1               8.0     101.24                   Fog  \n2               4.0     101.26  Freezing Drizzle,Fog  \n3               4.0     101.27  Freezing Drizzle,Fog  \n4               4.8     101.23                   Fog  \n...             ...        ...                   ...  \n8739            3.6     100.30              Snow,Fog  \n8740            9.7     100.28              Snow,Fog  \n8741            4.0     100.32              Snow,Fog  \n8742            8.0     100.39              Snow,Fog  \n8770            6.4     101.05              Snow,Fog  \n\n[426 rows x 8 columns]",
            "text/html": "<div>\n<style scoped>\n    .dataframe tbody tr th:only-of-type {\n        vertical-align: middle;\n    }\n\n    .dataframe tbody tr th {\n        vertical-align: top;\n    }\n\n    .dataframe thead th {\n        text-align: right;\n    }\n</style>\n<table border=\"1\" class=\"dataframe\">\n  <thead>\n    <tr style=\"text-align: right;\">\n      <th></th>\n      <th>Date/Time</th>\n      <th>Temp_C</th>\n      <th>Dew Point Temp_C</th>\n      <th>Rel Hum_%</th>\n      <th>Wind Speed_km/h</th>\n      <th>Visibility_km</th>\n      <th>Press_kPa</th>\n      <th>Weather Condition</th>\n    </tr>\n  </thead>\n  <tbody>\n    <tr>\n      <th>0</th>\n      <td>1/1/2012 0:00</td>\n      <td>-1.8</td>\n      <td>-3.9</td>\n      <td>86</td>\n      <td>4</td>\n      <td>8.0</td>\n      <td>101.24</td>\n      <td>Fog</td>\n    </tr>\n    <tr>\n      <th>1</th>\n      <td>1/1/2012 1:00</td>\n      <td>-1.8</td>\n      <td>-3.7</td>\n      <td>87</td>\n      <td>4</td>\n      <td>8.0</td>\n      <td>101.24</td>\n      <td>Fog</td>\n    </tr>\n    <tr>\n      <th>2</th>\n      <td>1/1/2012 2:00</td>\n      <td>-1.8</td>\n      <td>-3.4</td>\n      <td>89</td>\n      <td>7</td>\n      <td>4.0</td>\n      <td>101.26</td>\n      <td>Freezing Drizzle,Fog</td>\n    </tr>\n    <tr>\n      <th>3</th>\n      <td>1/1/2012 3:00</td>\n      <td>-1.5</td>\n      <td>-3.2</td>\n      <td>88</td>\n      <td>6</td>\n      <td>4.0</td>\n      <td>101.27</td>\n      <td>Freezing Drizzle,Fog</td>\n    </tr>\n    <tr>\n      <th>4</th>\n      <td>1/1/2012 4:00</td>\n      <td>-1.5</td>\n      <td>-3.3</td>\n      <td>88</td>\n      <td>7</td>\n      <td>4.8</td>\n      <td>101.23</td>\n      <td>Fog</td>\n    </tr>\n    <tr>\n      <th>...</th>\n      <td>...</td>\n      <td>...</td>\n      <td>...</td>\n      <td>...</td>\n      <td>...</td>\n      <td>...</td>\n      <td>...</td>\n      <td>...</td>\n    </tr>\n    <tr>\n      <th>8739</th>\n      <td>12/30/2012 3:00</td>\n      <td>-9.1</td>\n      <td>-10.4</td>\n      <td>90</td>\n      <td>11</td>\n      <td>3.6</td>\n      <td>100.30</td>\n      <td>Snow,Fog</td>\n    </tr>\n    <tr>\n      <th>8740</th>\n      <td>12/30/2012 4:00</td>\n      <td>-9.3</td>\n      <td>-10.6</td>\n      <td>90</td>\n      <td>13</td>\n      <td>9.7</td>\n      <td>100.28</td>\n      <td>Snow,Fog</td>\n    </tr>\n    <tr>\n      <th>8741</th>\n      <td>12/30/2012 5:00</td>\n      <td>-9.1</td>\n      <td>-10.4</td>\n      <td>90</td>\n      <td>11</td>\n      <td>4.0</td>\n      <td>100.32</td>\n      <td>Snow,Fog</td>\n    </tr>\n    <tr>\n      <th>8742</th>\n      <td>12/30/2012 6:00</td>\n      <td>-9.3</td>\n      <td>-10.8</td>\n      <td>89</td>\n      <td>17</td>\n      <td>8.0</td>\n      <td>100.39</td>\n      <td>Snow,Fog</td>\n    </tr>\n    <tr>\n      <th>8770</th>\n      <td>12/31/2012 10:00</td>\n      <td>-7.4</td>\n      <td>-8.9</td>\n      <td>89</td>\n      <td>4</td>\n      <td>6.4</td>\n      <td>101.05</td>\n      <td>Snow,Fog</td>\n    </tr>\n  </tbody>\n</table>\n<p>426 rows × 8 columns</p>\n</div>"
          },
          "metadata": {}
        }
      ],
      "execution_count": 9
    },
    {
      "cell_type": "markdown",
      "source": "# Q. 14) Find all instances when 'Weather is Clear' or 'Visibility is above 40'.",
      "metadata": {}
    },
    {
      "cell_type": "code",
      "source": "data.head(3)",
      "metadata": {
        "trusted": true
      },
      "outputs": [
        {
          "execution_count": 10,
          "output_type": "execute_result",
          "data": {
            "text/plain": "       Date/Time  Temp_C  Dew Point Temp_C  Rel Hum_%  Wind Speed_km/h  \\\n0  1/1/2012 0:00    -1.8              -3.9         86                4   \n1  1/1/2012 1:00    -1.8              -3.7         87                4   \n2  1/1/2012 2:00    -1.8              -3.4         89                7   \n\n   Visibility_km  Press_kPa     Weather Condition  \n0            8.0     101.24                   Fog  \n1            8.0     101.24                   Fog  \n2            4.0     101.26  Freezing Drizzle,Fog  ",
            "text/html": "<div>\n<style scoped>\n    .dataframe tbody tr th:only-of-type {\n        vertical-align: middle;\n    }\n\n    .dataframe tbody tr th {\n        vertical-align: top;\n    }\n\n    .dataframe thead th {\n        text-align: right;\n    }\n</style>\n<table border=\"1\" class=\"dataframe\">\n  <thead>\n    <tr style=\"text-align: right;\">\n      <th></th>\n      <th>Date/Time</th>\n      <th>Temp_C</th>\n      <th>Dew Point Temp_C</th>\n      <th>Rel Hum_%</th>\n      <th>Wind Speed_km/h</th>\n      <th>Visibility_km</th>\n      <th>Press_kPa</th>\n      <th>Weather Condition</th>\n    </tr>\n  </thead>\n  <tbody>\n    <tr>\n      <th>0</th>\n      <td>1/1/2012 0:00</td>\n      <td>-1.8</td>\n      <td>-3.9</td>\n      <td>86</td>\n      <td>4</td>\n      <td>8.0</td>\n      <td>101.24</td>\n      <td>Fog</td>\n    </tr>\n    <tr>\n      <th>1</th>\n      <td>1/1/2012 1:00</td>\n      <td>-1.8</td>\n      <td>-3.7</td>\n      <td>87</td>\n      <td>4</td>\n      <td>8.0</td>\n      <td>101.24</td>\n      <td>Fog</td>\n    </tr>\n    <tr>\n      <th>2</th>\n      <td>1/1/2012 2:00</td>\n      <td>-1.8</td>\n      <td>-3.4</td>\n      <td>89</td>\n      <td>7</td>\n      <td>4.0</td>\n      <td>101.26</td>\n      <td>Freezing Drizzle,Fog</td>\n    </tr>\n  </tbody>\n</table>\n</div>"
          },
          "metadata": {}
        }
      ],
      "execution_count": 10
    },
    {
      "cell_type": "code",
      "source": "data[(data[\"Weather Condition\"] == 'Clear') | (data[\"Visibility_km\"] > 40)]",
      "metadata": {
        "trusted": true
      },
      "outputs": [
        {
          "execution_count": 40,
          "output_type": "execute_result",
          "data": {
            "text/plain": "             Date/Time  Temp_C  Dew Point Temp_C  Rel Hum_%  Wind Speed_km/h  \\\n67      1/3/2012 19:00   -16.9             -24.8         50               24   \n106     1/5/2012 10:00    -6.0             -10.0         73               17   \n107     1/5/2012 11:00    -5.6             -10.2         70               22   \n108     1/5/2012 12:00    -4.7              -9.6         69               20   \n109     1/5/2012 13:00    -4.4              -9.7         66               26   \n...                ...     ...               ...        ...              ...   \n8749  12/30/2012 13:00   -12.4             -16.2         73               37   \n8750  12/30/2012 14:00   -11.8             -16.1         70               37   \n8751  12/30/2012 15:00   -11.3             -15.6         70               32   \n8752  12/30/2012 16:00   -11.4             -15.5         72               26   \n8756  12/30/2012 20:00   -13.8             -16.5         80               24   \n\n      Visibility_km  Press_kPa Weather Condition  \n67             25.0     101.74             Clear  \n106            48.3     100.45      Mainly Clear  \n107            48.3     100.41      Mainly Clear  \n108            48.3     100.38      Mainly Clear  \n109            48.3     100.40      Mainly Clear  \n...             ...        ...               ...  \n8749           48.3     100.92     Mostly Cloudy  \n8750           48.3     100.96      Mainly Clear  \n8751           48.3     101.05      Mainly Clear  \n8752           48.3     101.15      Mainly Clear  \n8756           25.0     101.52             Clear  \n\n[3027 rows x 8 columns]",
            "text/html": "<div>\n<style scoped>\n    .dataframe tbody tr th:only-of-type {\n        vertical-align: middle;\n    }\n\n    .dataframe tbody tr th {\n        vertical-align: top;\n    }\n\n    .dataframe thead th {\n        text-align: right;\n    }\n</style>\n<table border=\"1\" class=\"dataframe\">\n  <thead>\n    <tr style=\"text-align: right;\">\n      <th></th>\n      <th>Date/Time</th>\n      <th>Temp_C</th>\n      <th>Dew Point Temp_C</th>\n      <th>Rel Hum_%</th>\n      <th>Wind Speed_km/h</th>\n      <th>Visibility_km</th>\n      <th>Press_kPa</th>\n      <th>Weather Condition</th>\n    </tr>\n  </thead>\n  <tbody>\n    <tr>\n      <th>67</th>\n      <td>1/3/2012 19:00</td>\n      <td>-16.9</td>\n      <td>-24.8</td>\n      <td>50</td>\n      <td>24</td>\n      <td>25.0</td>\n      <td>101.74</td>\n      <td>Clear</td>\n    </tr>\n    <tr>\n      <th>106</th>\n      <td>1/5/2012 10:00</td>\n      <td>-6.0</td>\n      <td>-10.0</td>\n      <td>73</td>\n      <td>17</td>\n      <td>48.3</td>\n      <td>100.45</td>\n      <td>Mainly Clear</td>\n    </tr>\n    <tr>\n      <th>107</th>\n      <td>1/5/2012 11:00</td>\n      <td>-5.6</td>\n      <td>-10.2</td>\n      <td>70</td>\n      <td>22</td>\n      <td>48.3</td>\n      <td>100.41</td>\n      <td>Mainly Clear</td>\n    </tr>\n    <tr>\n      <th>108</th>\n      <td>1/5/2012 12:00</td>\n      <td>-4.7</td>\n      <td>-9.6</td>\n      <td>69</td>\n      <td>20</td>\n      <td>48.3</td>\n      <td>100.38</td>\n      <td>Mainly Clear</td>\n    </tr>\n    <tr>\n      <th>109</th>\n      <td>1/5/2012 13:00</td>\n      <td>-4.4</td>\n      <td>-9.7</td>\n      <td>66</td>\n      <td>26</td>\n      <td>48.3</td>\n      <td>100.40</td>\n      <td>Mainly Clear</td>\n    </tr>\n    <tr>\n      <th>...</th>\n      <td>...</td>\n      <td>...</td>\n      <td>...</td>\n      <td>...</td>\n      <td>...</td>\n      <td>...</td>\n      <td>...</td>\n      <td>...</td>\n    </tr>\n    <tr>\n      <th>8749</th>\n      <td>12/30/2012 13:00</td>\n      <td>-12.4</td>\n      <td>-16.2</td>\n      <td>73</td>\n      <td>37</td>\n      <td>48.3</td>\n      <td>100.92</td>\n      <td>Mostly Cloudy</td>\n    </tr>\n    <tr>\n      <th>8750</th>\n      <td>12/30/2012 14:00</td>\n      <td>-11.8</td>\n      <td>-16.1</td>\n      <td>70</td>\n      <td>37</td>\n      <td>48.3</td>\n      <td>100.96</td>\n      <td>Mainly Clear</td>\n    </tr>\n    <tr>\n      <th>8751</th>\n      <td>12/30/2012 15:00</td>\n      <td>-11.3</td>\n      <td>-15.6</td>\n      <td>70</td>\n      <td>32</td>\n      <td>48.3</td>\n      <td>101.05</td>\n      <td>Mainly Clear</td>\n    </tr>\n    <tr>\n      <th>8752</th>\n      <td>12/30/2012 16:00</td>\n      <td>-11.4</td>\n      <td>-15.5</td>\n      <td>72</td>\n      <td>26</td>\n      <td>48.3</td>\n      <td>101.15</td>\n      <td>Mainly Clear</td>\n    </tr>\n    <tr>\n      <th>8756</th>\n      <td>12/30/2012 20:00</td>\n      <td>-13.8</td>\n      <td>-16.5</td>\n      <td>80</td>\n      <td>24</td>\n      <td>25.0</td>\n      <td>101.52</td>\n      <td>Clear</td>\n    </tr>\n  </tbody>\n</table>\n<p>3027 rows × 8 columns</p>\n</div>"
          },
          "metadata": {}
        }
      ],
      "execution_count": 40
    },
    {
      "cell_type": "code",
      "source": "data.query(\"`Weather Condition`.str.contains('Clear') or `Visibility_km` > 40\")",
      "metadata": {
        "trusted": true
      },
      "outputs": [
        {
          "execution_count": 42,
          "output_type": "execute_result",
          "data": {
            "text/plain": "             Date/Time  Temp_C  Dew Point Temp_C  Rel Hum_%  Wind Speed_km/h  \\\n36      1/2/2012 12:00     1.7              -6.2         56               48   \n60      1/3/2012 12:00   -14.9             -22.6         52               20   \n61      1/3/2012 13:00   -15.1             -22.4         54               22   \n62      1/3/2012 14:00   -14.9             -22.9         50               22   \n63      1/3/2012 15:00   -14.8             -22.2         53               19   \n...                ...     ...               ...        ...              ...   \n8754  12/30/2012 18:00   -12.6             -16.0         76               24   \n8755  12/30/2012 19:00   -13.4             -16.5         77               26   \n8756  12/30/2012 20:00   -13.8             -16.5         80               24   \n8757  12/30/2012 21:00   -13.8             -16.5         80               20   \n8758  12/30/2012 22:00   -13.7             -16.3         81               19   \n\n      Visibility_km  Press_kPa Weather Condition  \n36             24.1      99.21      Mainly Clear  \n60             24.1     101.34      Mainly Clear  \n61             24.1     101.34      Mainly Clear  \n62             24.1     101.38      Mainly Clear  \n63             24.1     101.44      Mainly Clear  \n...             ...        ...               ...  \n8754           25.0     101.36      Mainly Clear  \n8755           25.0     101.47      Mainly Clear  \n8756           25.0     101.52             Clear  \n8757           25.0     101.50      Mainly Clear  \n8758           25.0     101.54      Mainly Clear  \n\n[4262 rows x 8 columns]",
            "text/html": "<div>\n<style scoped>\n    .dataframe tbody tr th:only-of-type {\n        vertical-align: middle;\n    }\n\n    .dataframe tbody tr th {\n        vertical-align: top;\n    }\n\n    .dataframe thead th {\n        text-align: right;\n    }\n</style>\n<table border=\"1\" class=\"dataframe\">\n  <thead>\n    <tr style=\"text-align: right;\">\n      <th></th>\n      <th>Date/Time</th>\n      <th>Temp_C</th>\n      <th>Dew Point Temp_C</th>\n      <th>Rel Hum_%</th>\n      <th>Wind Speed_km/h</th>\n      <th>Visibility_km</th>\n      <th>Press_kPa</th>\n      <th>Weather Condition</th>\n    </tr>\n  </thead>\n  <tbody>\n    <tr>\n      <th>36</th>\n      <td>1/2/2012 12:00</td>\n      <td>1.7</td>\n      <td>-6.2</td>\n      <td>56</td>\n      <td>48</td>\n      <td>24.1</td>\n      <td>99.21</td>\n      <td>Mainly Clear</td>\n    </tr>\n    <tr>\n      <th>60</th>\n      <td>1/3/2012 12:00</td>\n      <td>-14.9</td>\n      <td>-22.6</td>\n      <td>52</td>\n      <td>20</td>\n      <td>24.1</td>\n      <td>101.34</td>\n      <td>Mainly Clear</td>\n    </tr>\n    <tr>\n      <th>61</th>\n      <td>1/3/2012 13:00</td>\n      <td>-15.1</td>\n      <td>-22.4</td>\n      <td>54</td>\n      <td>22</td>\n      <td>24.1</td>\n      <td>101.34</td>\n      <td>Mainly Clear</td>\n    </tr>\n    <tr>\n      <th>62</th>\n      <td>1/3/2012 14:00</td>\n      <td>-14.9</td>\n      <td>-22.9</td>\n      <td>50</td>\n      <td>22</td>\n      <td>24.1</td>\n      <td>101.38</td>\n      <td>Mainly Clear</td>\n    </tr>\n    <tr>\n      <th>63</th>\n      <td>1/3/2012 15:00</td>\n      <td>-14.8</td>\n      <td>-22.2</td>\n      <td>53</td>\n      <td>19</td>\n      <td>24.1</td>\n      <td>101.44</td>\n      <td>Mainly Clear</td>\n    </tr>\n    <tr>\n      <th>...</th>\n      <td>...</td>\n      <td>...</td>\n      <td>...</td>\n      <td>...</td>\n      <td>...</td>\n      <td>...</td>\n      <td>...</td>\n      <td>...</td>\n    </tr>\n    <tr>\n      <th>8754</th>\n      <td>12/30/2012 18:00</td>\n      <td>-12.6</td>\n      <td>-16.0</td>\n      <td>76</td>\n      <td>24</td>\n      <td>25.0</td>\n      <td>101.36</td>\n      <td>Mainly Clear</td>\n    </tr>\n    <tr>\n      <th>8755</th>\n      <td>12/30/2012 19:00</td>\n      <td>-13.4</td>\n      <td>-16.5</td>\n      <td>77</td>\n      <td>26</td>\n      <td>25.0</td>\n      <td>101.47</td>\n      <td>Mainly Clear</td>\n    </tr>\n    <tr>\n      <th>8756</th>\n      <td>12/30/2012 20:00</td>\n      <td>-13.8</td>\n      <td>-16.5</td>\n      <td>80</td>\n      <td>24</td>\n      <td>25.0</td>\n      <td>101.52</td>\n      <td>Clear</td>\n    </tr>\n    <tr>\n      <th>8757</th>\n      <td>12/30/2012 21:00</td>\n      <td>-13.8</td>\n      <td>-16.5</td>\n      <td>80</td>\n      <td>20</td>\n      <td>25.0</td>\n      <td>101.50</td>\n      <td>Mainly Clear</td>\n    </tr>\n    <tr>\n      <th>8758</th>\n      <td>12/30/2012 22:00</td>\n      <td>-13.7</td>\n      <td>-16.3</td>\n      <td>81</td>\n      <td>19</td>\n      <td>25.0</td>\n      <td>101.54</td>\n      <td>Mainly Clear</td>\n    </tr>\n  </tbody>\n</table>\n<p>4262 rows × 8 columns</p>\n</div>"
          },
          "metadata": {}
        }
      ],
      "execution_count": 42
    },
    {
      "cell_type": "markdown",
      "source": "# Q. 15) Find all instances when :\n### A. 'Weather is Clear' and 'Relative Humidity is greater than 50'\n### or\n### B. 'Visibility is above 40'",
      "metadata": {}
    },
    {
      "cell_type": "markdown",
      "source": "## A ",
      "metadata": {}
    },
    {
      "cell_type": "code",
      "source": "data.head(3)",
      "metadata": {
        "trusted": true
      },
      "outputs": [
        {
          "execution_count": 44,
          "output_type": "execute_result",
          "data": {
            "text/plain": "       Date/Time  Temp_C  Dew Point Temp_C  Rel Hum_%  Wind Speed_km/h  \\\n0  1/1/2012 0:00    -1.8              -3.9         86                4   \n1  1/1/2012 1:00    -1.8              -3.7         87                4   \n2  1/1/2012 2:00    -1.8              -3.4         89                7   \n\n   Visibility_km  Press_kPa     Weather Condition  \n0            8.0     101.24                   Fog  \n1            8.0     101.24                   Fog  \n2            4.0     101.26  Freezing Drizzle,Fog  ",
            "text/html": "<div>\n<style scoped>\n    .dataframe tbody tr th:only-of-type {\n        vertical-align: middle;\n    }\n\n    .dataframe tbody tr th {\n        vertical-align: top;\n    }\n\n    .dataframe thead th {\n        text-align: right;\n    }\n</style>\n<table border=\"1\" class=\"dataframe\">\n  <thead>\n    <tr style=\"text-align: right;\">\n      <th></th>\n      <th>Date/Time</th>\n      <th>Temp_C</th>\n      <th>Dew Point Temp_C</th>\n      <th>Rel Hum_%</th>\n      <th>Wind Speed_km/h</th>\n      <th>Visibility_km</th>\n      <th>Press_kPa</th>\n      <th>Weather Condition</th>\n    </tr>\n  </thead>\n  <tbody>\n    <tr>\n      <th>0</th>\n      <td>1/1/2012 0:00</td>\n      <td>-1.8</td>\n      <td>-3.9</td>\n      <td>86</td>\n      <td>4</td>\n      <td>8.0</td>\n      <td>101.24</td>\n      <td>Fog</td>\n    </tr>\n    <tr>\n      <th>1</th>\n      <td>1/1/2012 1:00</td>\n      <td>-1.8</td>\n      <td>-3.7</td>\n      <td>87</td>\n      <td>4</td>\n      <td>8.0</td>\n      <td>101.24</td>\n      <td>Fog</td>\n    </tr>\n    <tr>\n      <th>2</th>\n      <td>1/1/2012 2:00</td>\n      <td>-1.8</td>\n      <td>-3.4</td>\n      <td>89</td>\n      <td>7</td>\n      <td>4.0</td>\n      <td>101.26</td>\n      <td>Freezing Drizzle,Fog</td>\n    </tr>\n  </tbody>\n</table>\n</div>"
          },
          "metadata": {}
        }
      ],
      "execution_count": 44
    },
    {
      "cell_type": "code",
      "source": "data[(data[\"Weather Condition\"] == 'Clear') & (data[\"Rel Hum_%\"] > 50)]",
      "metadata": {
        "trusted": true
      },
      "outputs": [
        {
          "execution_count": 45,
          "output_type": "execute_result",
          "data": {
            "text/plain": "             Date/Time  Temp_C  Dew Point Temp_C  Rel Hum_%  Wind Speed_km/h  \\\n114     1/5/2012 18:00    -7.1             -14.4         56               11   \n115     1/5/2012 19:00    -9.2             -15.4         61                7   \n116     1/5/2012 20:00    -9.8             -15.7         62                9   \n117     1/5/2012 21:00    -9.0             -14.8         63               13   \n241     1/11/2012 1:00   -10.7             -17.8         56               17   \n...                ...     ...               ...        ...              ...   \n8646   12/26/2012 6:00   -13.4             -14.8         89                4   \n8698  12/28/2012 10:00    -6.1              -8.6         82               19   \n8713   12/29/2012 1:00   -11.9             -13.6         87               11   \n8714   12/29/2012 2:00   -11.8             -13.1         90               13   \n8756  12/30/2012 20:00   -13.8             -16.5         80               24   \n\n      Visibility_km  Press_kPa Weather Condition  \n114            25.0     100.71             Clear  \n115            25.0     100.80             Clear  \n116            25.0     100.83             Clear  \n117            25.0     100.83             Clear  \n241            25.0     101.49             Clear  \n...             ...        ...               ...  \n8646           25.0     102.47             Clear  \n8698           24.1     101.27             Clear  \n8713           25.0     101.31             Clear  \n8714           25.0     101.33             Clear  \n8756           25.0     101.52             Clear  \n\n[1070 rows x 8 columns]",
            "text/html": "<div>\n<style scoped>\n    .dataframe tbody tr th:only-of-type {\n        vertical-align: middle;\n    }\n\n    .dataframe tbody tr th {\n        vertical-align: top;\n    }\n\n    .dataframe thead th {\n        text-align: right;\n    }\n</style>\n<table border=\"1\" class=\"dataframe\">\n  <thead>\n    <tr style=\"text-align: right;\">\n      <th></th>\n      <th>Date/Time</th>\n      <th>Temp_C</th>\n      <th>Dew Point Temp_C</th>\n      <th>Rel Hum_%</th>\n      <th>Wind Speed_km/h</th>\n      <th>Visibility_km</th>\n      <th>Press_kPa</th>\n      <th>Weather Condition</th>\n    </tr>\n  </thead>\n  <tbody>\n    <tr>\n      <th>114</th>\n      <td>1/5/2012 18:00</td>\n      <td>-7.1</td>\n      <td>-14.4</td>\n      <td>56</td>\n      <td>11</td>\n      <td>25.0</td>\n      <td>100.71</td>\n      <td>Clear</td>\n    </tr>\n    <tr>\n      <th>115</th>\n      <td>1/5/2012 19:00</td>\n      <td>-9.2</td>\n      <td>-15.4</td>\n      <td>61</td>\n      <td>7</td>\n      <td>25.0</td>\n      <td>100.80</td>\n      <td>Clear</td>\n    </tr>\n    <tr>\n      <th>116</th>\n      <td>1/5/2012 20:00</td>\n      <td>-9.8</td>\n      <td>-15.7</td>\n      <td>62</td>\n      <td>9</td>\n      <td>25.0</td>\n      <td>100.83</td>\n      <td>Clear</td>\n    </tr>\n    <tr>\n      <th>117</th>\n      <td>1/5/2012 21:00</td>\n      <td>-9.0</td>\n      <td>-14.8</td>\n      <td>63</td>\n      <td>13</td>\n      <td>25.0</td>\n      <td>100.83</td>\n      <td>Clear</td>\n    </tr>\n    <tr>\n      <th>241</th>\n      <td>1/11/2012 1:00</td>\n      <td>-10.7</td>\n      <td>-17.8</td>\n      <td>56</td>\n      <td>17</td>\n      <td>25.0</td>\n      <td>101.49</td>\n      <td>Clear</td>\n    </tr>\n    <tr>\n      <th>...</th>\n      <td>...</td>\n      <td>...</td>\n      <td>...</td>\n      <td>...</td>\n      <td>...</td>\n      <td>...</td>\n      <td>...</td>\n      <td>...</td>\n    </tr>\n    <tr>\n      <th>8646</th>\n      <td>12/26/2012 6:00</td>\n      <td>-13.4</td>\n      <td>-14.8</td>\n      <td>89</td>\n      <td>4</td>\n      <td>25.0</td>\n      <td>102.47</td>\n      <td>Clear</td>\n    </tr>\n    <tr>\n      <th>8698</th>\n      <td>12/28/2012 10:00</td>\n      <td>-6.1</td>\n      <td>-8.6</td>\n      <td>82</td>\n      <td>19</td>\n      <td>24.1</td>\n      <td>101.27</td>\n      <td>Clear</td>\n    </tr>\n    <tr>\n      <th>8713</th>\n      <td>12/29/2012 1:00</td>\n      <td>-11.9</td>\n      <td>-13.6</td>\n      <td>87</td>\n      <td>11</td>\n      <td>25.0</td>\n      <td>101.31</td>\n      <td>Clear</td>\n    </tr>\n    <tr>\n      <th>8714</th>\n      <td>12/29/2012 2:00</td>\n      <td>-11.8</td>\n      <td>-13.1</td>\n      <td>90</td>\n      <td>13</td>\n      <td>25.0</td>\n      <td>101.33</td>\n      <td>Clear</td>\n    </tr>\n    <tr>\n      <th>8756</th>\n      <td>12/30/2012 20:00</td>\n      <td>-13.8</td>\n      <td>-16.5</td>\n      <td>80</td>\n      <td>24</td>\n      <td>25.0</td>\n      <td>101.52</td>\n      <td>Clear</td>\n    </tr>\n  </tbody>\n</table>\n<p>1070 rows × 8 columns</p>\n</div>"
          },
          "metadata": {}
        }
      ],
      "execution_count": 45
    },
    {
      "cell_type": "code",
      "source": "data.query(\"`Weather Condition` == 'Clear' and `Rel Hum_%` > 50\")",
      "metadata": {
        "trusted": true
      },
      "outputs": [
        {
          "execution_count": 47,
          "output_type": "execute_result",
          "data": {
            "text/plain": "             Date/Time  Temp_C  Dew Point Temp_C  Rel Hum_%  Wind Speed_km/h  \\\n114     1/5/2012 18:00    -7.1             -14.4         56               11   \n115     1/5/2012 19:00    -9.2             -15.4         61                7   \n116     1/5/2012 20:00    -9.8             -15.7         62                9   \n117     1/5/2012 21:00    -9.0             -14.8         63               13   \n241     1/11/2012 1:00   -10.7             -17.8         56               17   \n...                ...     ...               ...        ...              ...   \n8646   12/26/2012 6:00   -13.4             -14.8         89                4   \n8698  12/28/2012 10:00    -6.1              -8.6         82               19   \n8713   12/29/2012 1:00   -11.9             -13.6         87               11   \n8714   12/29/2012 2:00   -11.8             -13.1         90               13   \n8756  12/30/2012 20:00   -13.8             -16.5         80               24   \n\n      Visibility_km  Press_kPa Weather Condition  \n114            25.0     100.71             Clear  \n115            25.0     100.80             Clear  \n116            25.0     100.83             Clear  \n117            25.0     100.83             Clear  \n241            25.0     101.49             Clear  \n...             ...        ...               ...  \n8646           25.0     102.47             Clear  \n8698           24.1     101.27             Clear  \n8713           25.0     101.31             Clear  \n8714           25.0     101.33             Clear  \n8756           25.0     101.52             Clear  \n\n[1070 rows x 8 columns]",
            "text/html": "<div>\n<style scoped>\n    .dataframe tbody tr th:only-of-type {\n        vertical-align: middle;\n    }\n\n    .dataframe tbody tr th {\n        vertical-align: top;\n    }\n\n    .dataframe thead th {\n        text-align: right;\n    }\n</style>\n<table border=\"1\" class=\"dataframe\">\n  <thead>\n    <tr style=\"text-align: right;\">\n      <th></th>\n      <th>Date/Time</th>\n      <th>Temp_C</th>\n      <th>Dew Point Temp_C</th>\n      <th>Rel Hum_%</th>\n      <th>Wind Speed_km/h</th>\n      <th>Visibility_km</th>\n      <th>Press_kPa</th>\n      <th>Weather Condition</th>\n    </tr>\n  </thead>\n  <tbody>\n    <tr>\n      <th>114</th>\n      <td>1/5/2012 18:00</td>\n      <td>-7.1</td>\n      <td>-14.4</td>\n      <td>56</td>\n      <td>11</td>\n      <td>25.0</td>\n      <td>100.71</td>\n      <td>Clear</td>\n    </tr>\n    <tr>\n      <th>115</th>\n      <td>1/5/2012 19:00</td>\n      <td>-9.2</td>\n      <td>-15.4</td>\n      <td>61</td>\n      <td>7</td>\n      <td>25.0</td>\n      <td>100.80</td>\n      <td>Clear</td>\n    </tr>\n    <tr>\n      <th>116</th>\n      <td>1/5/2012 20:00</td>\n      <td>-9.8</td>\n      <td>-15.7</td>\n      <td>62</td>\n      <td>9</td>\n      <td>25.0</td>\n      <td>100.83</td>\n      <td>Clear</td>\n    </tr>\n    <tr>\n      <th>117</th>\n      <td>1/5/2012 21:00</td>\n      <td>-9.0</td>\n      <td>-14.8</td>\n      <td>63</td>\n      <td>13</td>\n      <td>25.0</td>\n      <td>100.83</td>\n      <td>Clear</td>\n    </tr>\n    <tr>\n      <th>241</th>\n      <td>1/11/2012 1:00</td>\n      <td>-10.7</td>\n      <td>-17.8</td>\n      <td>56</td>\n      <td>17</td>\n      <td>25.0</td>\n      <td>101.49</td>\n      <td>Clear</td>\n    </tr>\n    <tr>\n      <th>...</th>\n      <td>...</td>\n      <td>...</td>\n      <td>...</td>\n      <td>...</td>\n      <td>...</td>\n      <td>...</td>\n      <td>...</td>\n      <td>...</td>\n    </tr>\n    <tr>\n      <th>8646</th>\n      <td>12/26/2012 6:00</td>\n      <td>-13.4</td>\n      <td>-14.8</td>\n      <td>89</td>\n      <td>4</td>\n      <td>25.0</td>\n      <td>102.47</td>\n      <td>Clear</td>\n    </tr>\n    <tr>\n      <th>8698</th>\n      <td>12/28/2012 10:00</td>\n      <td>-6.1</td>\n      <td>-8.6</td>\n      <td>82</td>\n      <td>19</td>\n      <td>24.1</td>\n      <td>101.27</td>\n      <td>Clear</td>\n    </tr>\n    <tr>\n      <th>8713</th>\n      <td>12/29/2012 1:00</td>\n      <td>-11.9</td>\n      <td>-13.6</td>\n      <td>87</td>\n      <td>11</td>\n      <td>25.0</td>\n      <td>101.31</td>\n      <td>Clear</td>\n    </tr>\n    <tr>\n      <th>8714</th>\n      <td>12/29/2012 2:00</td>\n      <td>-11.8</td>\n      <td>-13.1</td>\n      <td>90</td>\n      <td>13</td>\n      <td>25.0</td>\n      <td>101.33</td>\n      <td>Clear</td>\n    </tr>\n    <tr>\n      <th>8756</th>\n      <td>12/30/2012 20:00</td>\n      <td>-13.8</td>\n      <td>-16.5</td>\n      <td>80</td>\n      <td>24</td>\n      <td>25.0</td>\n      <td>101.52</td>\n      <td>Clear</td>\n    </tr>\n  </tbody>\n</table>\n<p>1070 rows × 8 columns</p>\n</div>"
          },
          "metadata": {}
        }
      ],
      "execution_count": 47
    },
    {
      "cell_type": "markdown",
      "source": "## B",
      "metadata": {}
    },
    {
      "cell_type": "code",
      "source": "data.head(3)",
      "metadata": {
        "trusted": true
      },
      "outputs": [
        {
          "execution_count": 48,
          "output_type": "execute_result",
          "data": {
            "text/plain": "       Date/Time  Temp_C  Dew Point Temp_C  Rel Hum_%  Wind Speed_km/h  \\\n0  1/1/2012 0:00    -1.8              -3.9         86                4   \n1  1/1/2012 1:00    -1.8              -3.7         87                4   \n2  1/1/2012 2:00    -1.8              -3.4         89                7   \n\n   Visibility_km  Press_kPa     Weather Condition  \n0            8.0     101.24                   Fog  \n1            8.0     101.24                   Fog  \n2            4.0     101.26  Freezing Drizzle,Fog  ",
            "text/html": "<div>\n<style scoped>\n    .dataframe tbody tr th:only-of-type {\n        vertical-align: middle;\n    }\n\n    .dataframe tbody tr th {\n        vertical-align: top;\n    }\n\n    .dataframe thead th {\n        text-align: right;\n    }\n</style>\n<table border=\"1\" class=\"dataframe\">\n  <thead>\n    <tr style=\"text-align: right;\">\n      <th></th>\n      <th>Date/Time</th>\n      <th>Temp_C</th>\n      <th>Dew Point Temp_C</th>\n      <th>Rel Hum_%</th>\n      <th>Wind Speed_km/h</th>\n      <th>Visibility_km</th>\n      <th>Press_kPa</th>\n      <th>Weather Condition</th>\n    </tr>\n  </thead>\n  <tbody>\n    <tr>\n      <th>0</th>\n      <td>1/1/2012 0:00</td>\n      <td>-1.8</td>\n      <td>-3.9</td>\n      <td>86</td>\n      <td>4</td>\n      <td>8.0</td>\n      <td>101.24</td>\n      <td>Fog</td>\n    </tr>\n    <tr>\n      <th>1</th>\n      <td>1/1/2012 1:00</td>\n      <td>-1.8</td>\n      <td>-3.7</td>\n      <td>87</td>\n      <td>4</td>\n      <td>8.0</td>\n      <td>101.24</td>\n      <td>Fog</td>\n    </tr>\n    <tr>\n      <th>2</th>\n      <td>1/1/2012 2:00</td>\n      <td>-1.8</td>\n      <td>-3.4</td>\n      <td>89</td>\n      <td>7</td>\n      <td>4.0</td>\n      <td>101.26</td>\n      <td>Freezing Drizzle,Fog</td>\n    </tr>\n  </tbody>\n</table>\n</div>"
          },
          "metadata": {}
        }
      ],
      "execution_count": 48
    },
    {
      "cell_type": "code",
      "source": "data[data[\"Visibility_km\"] > 40]",
      "metadata": {
        "trusted": true
      },
      "outputs": [
        {
          "execution_count": 49,
          "output_type": "execute_result",
          "data": {
            "text/plain": "             Date/Time  Temp_C  Dew Point Temp_C  Rel Hum_%  Wind Speed_km/h  \\\n106     1/5/2012 10:00    -6.0             -10.0         73               17   \n107     1/5/2012 11:00    -5.6             -10.2         70               22   \n108     1/5/2012 12:00    -4.7              -9.6         69               20   \n109     1/5/2012 13:00    -4.4              -9.7         66               26   \n110     1/5/2012 14:00    -5.1             -10.7         65               22   \n...                ...     ...               ...        ...              ...   \n8748  12/30/2012 12:00   -12.2             -15.7         75               26   \n8749  12/30/2012 13:00   -12.4             -16.2         73               37   \n8750  12/30/2012 14:00   -11.8             -16.1         70               37   \n8751  12/30/2012 15:00   -11.3             -15.6         70               32   \n8752  12/30/2012 16:00   -11.4             -15.5         72               26   \n\n      Visibility_km  Press_kPa Weather Condition  \n106            48.3     100.45      Mainly Clear  \n107            48.3     100.41      Mainly Clear  \n108            48.3     100.38      Mainly Clear  \n109            48.3     100.40      Mainly Clear  \n110            48.3     100.46      Mainly Clear  \n...             ...        ...               ...  \n8748           48.3     100.91     Mostly Cloudy  \n8749           48.3     100.92     Mostly Cloudy  \n8750           48.3     100.96      Mainly Clear  \n8751           48.3     101.05      Mainly Clear  \n8752           48.3     101.15      Mainly Clear  \n\n[2014 rows x 8 columns]",
            "text/html": "<div>\n<style scoped>\n    .dataframe tbody tr th:only-of-type {\n        vertical-align: middle;\n    }\n\n    .dataframe tbody tr th {\n        vertical-align: top;\n    }\n\n    .dataframe thead th {\n        text-align: right;\n    }\n</style>\n<table border=\"1\" class=\"dataframe\">\n  <thead>\n    <tr style=\"text-align: right;\">\n      <th></th>\n      <th>Date/Time</th>\n      <th>Temp_C</th>\n      <th>Dew Point Temp_C</th>\n      <th>Rel Hum_%</th>\n      <th>Wind Speed_km/h</th>\n      <th>Visibility_km</th>\n      <th>Press_kPa</th>\n      <th>Weather Condition</th>\n    </tr>\n  </thead>\n  <tbody>\n    <tr>\n      <th>106</th>\n      <td>1/5/2012 10:00</td>\n      <td>-6.0</td>\n      <td>-10.0</td>\n      <td>73</td>\n      <td>17</td>\n      <td>48.3</td>\n      <td>100.45</td>\n      <td>Mainly Clear</td>\n    </tr>\n    <tr>\n      <th>107</th>\n      <td>1/5/2012 11:00</td>\n      <td>-5.6</td>\n      <td>-10.2</td>\n      <td>70</td>\n      <td>22</td>\n      <td>48.3</td>\n      <td>100.41</td>\n      <td>Mainly Clear</td>\n    </tr>\n    <tr>\n      <th>108</th>\n      <td>1/5/2012 12:00</td>\n      <td>-4.7</td>\n      <td>-9.6</td>\n      <td>69</td>\n      <td>20</td>\n      <td>48.3</td>\n      <td>100.38</td>\n      <td>Mainly Clear</td>\n    </tr>\n    <tr>\n      <th>109</th>\n      <td>1/5/2012 13:00</td>\n      <td>-4.4</td>\n      <td>-9.7</td>\n      <td>66</td>\n      <td>26</td>\n      <td>48.3</td>\n      <td>100.40</td>\n      <td>Mainly Clear</td>\n    </tr>\n    <tr>\n      <th>110</th>\n      <td>1/5/2012 14:00</td>\n      <td>-5.1</td>\n      <td>-10.7</td>\n      <td>65</td>\n      <td>22</td>\n      <td>48.3</td>\n      <td>100.46</td>\n      <td>Mainly Clear</td>\n    </tr>\n    <tr>\n      <th>...</th>\n      <td>...</td>\n      <td>...</td>\n      <td>...</td>\n      <td>...</td>\n      <td>...</td>\n      <td>...</td>\n      <td>...</td>\n      <td>...</td>\n    </tr>\n    <tr>\n      <th>8748</th>\n      <td>12/30/2012 12:00</td>\n      <td>-12.2</td>\n      <td>-15.7</td>\n      <td>75</td>\n      <td>26</td>\n      <td>48.3</td>\n      <td>100.91</td>\n      <td>Mostly Cloudy</td>\n    </tr>\n    <tr>\n      <th>8749</th>\n      <td>12/30/2012 13:00</td>\n      <td>-12.4</td>\n      <td>-16.2</td>\n      <td>73</td>\n      <td>37</td>\n      <td>48.3</td>\n      <td>100.92</td>\n      <td>Mostly Cloudy</td>\n    </tr>\n    <tr>\n      <th>8750</th>\n      <td>12/30/2012 14:00</td>\n      <td>-11.8</td>\n      <td>-16.1</td>\n      <td>70</td>\n      <td>37</td>\n      <td>48.3</td>\n      <td>100.96</td>\n      <td>Mainly Clear</td>\n    </tr>\n    <tr>\n      <th>8751</th>\n      <td>12/30/2012 15:00</td>\n      <td>-11.3</td>\n      <td>-15.6</td>\n      <td>70</td>\n      <td>32</td>\n      <td>48.3</td>\n      <td>101.05</td>\n      <td>Mainly Clear</td>\n    </tr>\n    <tr>\n      <th>8752</th>\n      <td>12/30/2012 16:00</td>\n      <td>-11.4</td>\n      <td>-15.5</td>\n      <td>72</td>\n      <td>26</td>\n      <td>48.3</td>\n      <td>101.15</td>\n      <td>Mainly Clear</td>\n    </tr>\n  </tbody>\n</table>\n<p>2014 rows × 8 columns</p>\n</div>"
          },
          "metadata": {}
        }
      ],
      "execution_count": 49
    },
    {
      "cell_type": "code",
      "source": "data.query(\"Visibility_km > 40\")",
      "metadata": {
        "trusted": true
      },
      "outputs": [
        {
          "execution_count": 50,
          "output_type": "execute_result",
          "data": {
            "text/plain": "             Date/Time  Temp_C  Dew Point Temp_C  Rel Hum_%  Wind Speed_km/h  \\\n106     1/5/2012 10:00    -6.0             -10.0         73               17   \n107     1/5/2012 11:00    -5.6             -10.2         70               22   \n108     1/5/2012 12:00    -4.7              -9.6         69               20   \n109     1/5/2012 13:00    -4.4              -9.7         66               26   \n110     1/5/2012 14:00    -5.1             -10.7         65               22   \n...                ...     ...               ...        ...              ...   \n8748  12/30/2012 12:00   -12.2             -15.7         75               26   \n8749  12/30/2012 13:00   -12.4             -16.2         73               37   \n8750  12/30/2012 14:00   -11.8             -16.1         70               37   \n8751  12/30/2012 15:00   -11.3             -15.6         70               32   \n8752  12/30/2012 16:00   -11.4             -15.5         72               26   \n\n      Visibility_km  Press_kPa Weather Condition  \n106            48.3     100.45      Mainly Clear  \n107            48.3     100.41      Mainly Clear  \n108            48.3     100.38      Mainly Clear  \n109            48.3     100.40      Mainly Clear  \n110            48.3     100.46      Mainly Clear  \n...             ...        ...               ...  \n8748           48.3     100.91     Mostly Cloudy  \n8749           48.3     100.92     Mostly Cloudy  \n8750           48.3     100.96      Mainly Clear  \n8751           48.3     101.05      Mainly Clear  \n8752           48.3     101.15      Mainly Clear  \n\n[2014 rows x 8 columns]",
            "text/html": "<div>\n<style scoped>\n    .dataframe tbody tr th:only-of-type {\n        vertical-align: middle;\n    }\n\n    .dataframe tbody tr th {\n        vertical-align: top;\n    }\n\n    .dataframe thead th {\n        text-align: right;\n    }\n</style>\n<table border=\"1\" class=\"dataframe\">\n  <thead>\n    <tr style=\"text-align: right;\">\n      <th></th>\n      <th>Date/Time</th>\n      <th>Temp_C</th>\n      <th>Dew Point Temp_C</th>\n      <th>Rel Hum_%</th>\n      <th>Wind Speed_km/h</th>\n      <th>Visibility_km</th>\n      <th>Press_kPa</th>\n      <th>Weather Condition</th>\n    </tr>\n  </thead>\n  <tbody>\n    <tr>\n      <th>106</th>\n      <td>1/5/2012 10:00</td>\n      <td>-6.0</td>\n      <td>-10.0</td>\n      <td>73</td>\n      <td>17</td>\n      <td>48.3</td>\n      <td>100.45</td>\n      <td>Mainly Clear</td>\n    </tr>\n    <tr>\n      <th>107</th>\n      <td>1/5/2012 11:00</td>\n      <td>-5.6</td>\n      <td>-10.2</td>\n      <td>70</td>\n      <td>22</td>\n      <td>48.3</td>\n      <td>100.41</td>\n      <td>Mainly Clear</td>\n    </tr>\n    <tr>\n      <th>108</th>\n      <td>1/5/2012 12:00</td>\n      <td>-4.7</td>\n      <td>-9.6</td>\n      <td>69</td>\n      <td>20</td>\n      <td>48.3</td>\n      <td>100.38</td>\n      <td>Mainly Clear</td>\n    </tr>\n    <tr>\n      <th>109</th>\n      <td>1/5/2012 13:00</td>\n      <td>-4.4</td>\n      <td>-9.7</td>\n      <td>66</td>\n      <td>26</td>\n      <td>48.3</td>\n      <td>100.40</td>\n      <td>Mainly Clear</td>\n    </tr>\n    <tr>\n      <th>110</th>\n      <td>1/5/2012 14:00</td>\n      <td>-5.1</td>\n      <td>-10.7</td>\n      <td>65</td>\n      <td>22</td>\n      <td>48.3</td>\n      <td>100.46</td>\n      <td>Mainly Clear</td>\n    </tr>\n    <tr>\n      <th>...</th>\n      <td>...</td>\n      <td>...</td>\n      <td>...</td>\n      <td>...</td>\n      <td>...</td>\n      <td>...</td>\n      <td>...</td>\n      <td>...</td>\n    </tr>\n    <tr>\n      <th>8748</th>\n      <td>12/30/2012 12:00</td>\n      <td>-12.2</td>\n      <td>-15.7</td>\n      <td>75</td>\n      <td>26</td>\n      <td>48.3</td>\n      <td>100.91</td>\n      <td>Mostly Cloudy</td>\n    </tr>\n    <tr>\n      <th>8749</th>\n      <td>12/30/2012 13:00</td>\n      <td>-12.4</td>\n      <td>-16.2</td>\n      <td>73</td>\n      <td>37</td>\n      <td>48.3</td>\n      <td>100.92</td>\n      <td>Mostly Cloudy</td>\n    </tr>\n    <tr>\n      <th>8750</th>\n      <td>12/30/2012 14:00</td>\n      <td>-11.8</td>\n      <td>-16.1</td>\n      <td>70</td>\n      <td>37</td>\n      <td>48.3</td>\n      <td>100.96</td>\n      <td>Mainly Clear</td>\n    </tr>\n    <tr>\n      <th>8751</th>\n      <td>12/30/2012 15:00</td>\n      <td>-11.3</td>\n      <td>-15.6</td>\n      <td>70</td>\n      <td>32</td>\n      <td>48.3</td>\n      <td>101.05</td>\n      <td>Mainly Clear</td>\n    </tr>\n    <tr>\n      <th>8752</th>\n      <td>12/30/2012 16:00</td>\n      <td>-11.4</td>\n      <td>-15.5</td>\n      <td>72</td>\n      <td>26</td>\n      <td>48.3</td>\n      <td>101.15</td>\n      <td>Mainly Clear</td>\n    </tr>\n  </tbody>\n</table>\n<p>2014 rows × 8 columns</p>\n</div>"
          },
          "metadata": {}
        }
      ],
      "execution_count": 50
    },
    {
      "cell_type": "markdown",
      "source": "----",
      "metadata": {}
    },
    {
      "cell_type": "markdown",
      "source": "----",
      "metadata": {}
    },
    {
      "cell_type": "markdown",
      "source": "---",
      "metadata": {}
    },
    {
      "cell_type": "markdown",
      "source": "---",
      "metadata": {}
    },
    {
      "cell_type": "markdown",
      "source": "### Made by Dias Onaibaev",
      "metadata": {}
    }
  ]
}