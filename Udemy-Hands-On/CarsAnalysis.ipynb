{
  "metadata": {
    "kernelspec": {
      "name": "python",
      "display_name": "Python (Pyodide)",
      "language": "python"
    },
    "language_info": {
      "codemirror_mode": {
        "name": "python",
        "version": 3
      },
      "file_extension": ".py",
      "mimetype": "text/x-python",
      "name": "python",
      "nbconvert_exporter": "python",
      "pygments_lexer": "ipython3",
      "version": "3.8"
    }
  },
  "nbformat_minor": 4,
  "nbformat": 4,
  "cells": [
    {
      "cell_type": "markdown",
      "source": "# Working on Real Project with Python ",
      "metadata": {}
    },
    {
      "cell_type": "markdown",
      "source": "## (A part of Big Data Analysis)",
      "metadata": {}
    },
    {
      "cell_type": "markdown",
      "source": "***",
      "metadata": {}
    },
    {
      "cell_type": "markdown",
      "source": "# Cars Dataset\n***\nHere, \nThe data of different cars is given with their specifications.\n\n\nThis data is available as a CSV file. We are going to analyze this data set using the Pandas DataFrame.",
      "metadata": {}
    },
    {
      "cell_type": "code",
      "source": "import pandas as pd",
      "metadata": {
        "trusted": true
      },
      "outputs": [
        {
          "name": "stderr",
          "text": "<ipython-input-1-7dd3504c366f>:1: DeprecationWarning: \nPyarrow will become a required dependency of pandas in the next major release of pandas (pandas 3.0),\n(to allow more performant data types, such as the Arrow string type, and better interoperability with other libraries)\nbut was not found to be installed on your system.\nIf this would cause problems for you,\nplease provide us feedback at https://github.com/pandas-dev/pandas/issues/54466\n        \n  import pandas as pd\n",
          "output_type": "stream"
        }
      ],
      "execution_count": 1
    },
    {
      "cell_type": "code",
      "source": "data = pd.read_csv('csv_files/cars_data.csv')",
      "metadata": {
        "trusted": true
      },
      "outputs": [],
      "execution_count": 15
    },
    {
      "cell_type": "code",
      "source": "data",
      "metadata": {
        "trusted": true
      },
      "outputs": [
        {
          "execution_count": 16,
          "output_type": "execute_result",
          "data": {
            "text/plain": "      Make                    Model   Type  Origin DriveTrain      MSRP  \\\n0    Acura                      MDX    SUV    Asia        All  $36,945    \n1    Acura           RSX Type S 2dr  Sedan    Asia      Front  $23,820    \n2    Acura                  TSX 4dr  Sedan    Asia      Front  $26,990    \n3    Acura                   TL 4dr  Sedan    Asia      Front  $33,195    \n4    Acura               3.5 RL 4dr  Sedan    Asia      Front  $43,755    \n..     ...                      ...    ...     ...        ...       ...   \n427  Volvo  C70 LPT convertible 2dr  Sedan  Europe      Front  $40,565    \n428  Volvo  C70 HPT convertible 2dr  Sedan  Europe      Front  $42,565    \n429  Volvo               S80 T6 4dr  Sedan  Europe      Front  $45,210    \n430  Volvo                      V40  Wagon  Europe      Front  $26,135    \n431  Volvo                     XC70  Wagon  Europe        All  $35,145    \n\n      Invoice  EngineSize  Cylinders  Horsepower  MPG_City  MPG_Highway  \\\n0    $33,337          3.5        6.0       265.0      17.0         23.0   \n1    $21,761          2.0        4.0       200.0      24.0         31.0   \n2    $24,647          2.4        4.0       200.0      22.0         29.0   \n3    $30,299          3.2        6.0       270.0      20.0         28.0   \n4    $39,014          3.5        6.0       225.0      18.0         24.0   \n..        ...         ...        ...         ...       ...          ...   \n427  $38,203          2.4        5.0       197.0      21.0         28.0   \n428  $40,083          2.3        5.0       242.0      20.0         26.0   \n429  $42,573          2.9        6.0       268.0      19.0         26.0   \n430  $24,641          1.9        4.0       170.0      22.0         29.0   \n431  $33,112          2.5        5.0       208.0      20.0         27.0   \n\n     Weight  Wheelbase  Length  \n0    4451.0      106.0   189.0  \n1    2778.0      101.0   172.0  \n2    3230.0      105.0   183.0  \n3    3575.0      108.0   186.0  \n4    3880.0      115.0   197.0  \n..      ...        ...     ...  \n427  3450.0      105.0   186.0  \n428  3450.0      105.0   186.0  \n429  3653.0      110.0   190.0  \n430  2822.0      101.0   180.0  \n431  3823.0      109.0   186.0  \n\n[432 rows x 15 columns]",
            "text/html": "<div>\n<style scoped>\n    .dataframe tbody tr th:only-of-type {\n        vertical-align: middle;\n    }\n\n    .dataframe tbody tr th {\n        vertical-align: top;\n    }\n\n    .dataframe thead th {\n        text-align: right;\n    }\n</style>\n<table border=\"1\" class=\"dataframe\">\n  <thead>\n    <tr style=\"text-align: right;\">\n      <th></th>\n      <th>Make</th>\n      <th>Model</th>\n      <th>Type</th>\n      <th>Origin</th>\n      <th>DriveTrain</th>\n      <th>MSRP</th>\n      <th>Invoice</th>\n      <th>EngineSize</th>\n      <th>Cylinders</th>\n      <th>Horsepower</th>\n      <th>MPG_City</th>\n      <th>MPG_Highway</th>\n      <th>Weight</th>\n      <th>Wheelbase</th>\n      <th>Length</th>\n    </tr>\n  </thead>\n  <tbody>\n    <tr>\n      <th>0</th>\n      <td>Acura</td>\n      <td>MDX</td>\n      <td>SUV</td>\n      <td>Asia</td>\n      <td>All</td>\n      <td>$36,945</td>\n      <td>$33,337</td>\n      <td>3.5</td>\n      <td>6.0</td>\n      <td>265.0</td>\n      <td>17.0</td>\n      <td>23.0</td>\n      <td>4451.0</td>\n      <td>106.0</td>\n      <td>189.0</td>\n    </tr>\n    <tr>\n      <th>1</th>\n      <td>Acura</td>\n      <td>RSX Type S 2dr</td>\n      <td>Sedan</td>\n      <td>Asia</td>\n      <td>Front</td>\n      <td>$23,820</td>\n      <td>$21,761</td>\n      <td>2.0</td>\n      <td>4.0</td>\n      <td>200.0</td>\n      <td>24.0</td>\n      <td>31.0</td>\n      <td>2778.0</td>\n      <td>101.0</td>\n      <td>172.0</td>\n    </tr>\n    <tr>\n      <th>2</th>\n      <td>Acura</td>\n      <td>TSX 4dr</td>\n      <td>Sedan</td>\n      <td>Asia</td>\n      <td>Front</td>\n      <td>$26,990</td>\n      <td>$24,647</td>\n      <td>2.4</td>\n      <td>4.0</td>\n      <td>200.0</td>\n      <td>22.0</td>\n      <td>29.0</td>\n      <td>3230.0</td>\n      <td>105.0</td>\n      <td>183.0</td>\n    </tr>\n    <tr>\n      <th>3</th>\n      <td>Acura</td>\n      <td>TL 4dr</td>\n      <td>Sedan</td>\n      <td>Asia</td>\n      <td>Front</td>\n      <td>$33,195</td>\n      <td>$30,299</td>\n      <td>3.2</td>\n      <td>6.0</td>\n      <td>270.0</td>\n      <td>20.0</td>\n      <td>28.0</td>\n      <td>3575.0</td>\n      <td>108.0</td>\n      <td>186.0</td>\n    </tr>\n    <tr>\n      <th>4</th>\n      <td>Acura</td>\n      <td>3.5 RL 4dr</td>\n      <td>Sedan</td>\n      <td>Asia</td>\n      <td>Front</td>\n      <td>$43,755</td>\n      <td>$39,014</td>\n      <td>3.5</td>\n      <td>6.0</td>\n      <td>225.0</td>\n      <td>18.0</td>\n      <td>24.0</td>\n      <td>3880.0</td>\n      <td>115.0</td>\n      <td>197.0</td>\n    </tr>\n    <tr>\n      <th>...</th>\n      <td>...</td>\n      <td>...</td>\n      <td>...</td>\n      <td>...</td>\n      <td>...</td>\n      <td>...</td>\n      <td>...</td>\n      <td>...</td>\n      <td>...</td>\n      <td>...</td>\n      <td>...</td>\n      <td>...</td>\n      <td>...</td>\n      <td>...</td>\n      <td>...</td>\n    </tr>\n    <tr>\n      <th>427</th>\n      <td>Volvo</td>\n      <td>C70 LPT convertible 2dr</td>\n      <td>Sedan</td>\n      <td>Europe</td>\n      <td>Front</td>\n      <td>$40,565</td>\n      <td>$38,203</td>\n      <td>2.4</td>\n      <td>5.0</td>\n      <td>197.0</td>\n      <td>21.0</td>\n      <td>28.0</td>\n      <td>3450.0</td>\n      <td>105.0</td>\n      <td>186.0</td>\n    </tr>\n    <tr>\n      <th>428</th>\n      <td>Volvo</td>\n      <td>C70 HPT convertible 2dr</td>\n      <td>Sedan</td>\n      <td>Europe</td>\n      <td>Front</td>\n      <td>$42,565</td>\n      <td>$40,083</td>\n      <td>2.3</td>\n      <td>5.0</td>\n      <td>242.0</td>\n      <td>20.0</td>\n      <td>26.0</td>\n      <td>3450.0</td>\n      <td>105.0</td>\n      <td>186.0</td>\n    </tr>\n    <tr>\n      <th>429</th>\n      <td>Volvo</td>\n      <td>S80 T6 4dr</td>\n      <td>Sedan</td>\n      <td>Europe</td>\n      <td>Front</td>\n      <td>$45,210</td>\n      <td>$42,573</td>\n      <td>2.9</td>\n      <td>6.0</td>\n      <td>268.0</td>\n      <td>19.0</td>\n      <td>26.0</td>\n      <td>3653.0</td>\n      <td>110.0</td>\n      <td>190.0</td>\n    </tr>\n    <tr>\n      <th>430</th>\n      <td>Volvo</td>\n      <td>V40</td>\n      <td>Wagon</td>\n      <td>Europe</td>\n      <td>Front</td>\n      <td>$26,135</td>\n      <td>$24,641</td>\n      <td>1.9</td>\n      <td>4.0</td>\n      <td>170.0</td>\n      <td>22.0</td>\n      <td>29.0</td>\n      <td>2822.0</td>\n      <td>101.0</td>\n      <td>180.0</td>\n    </tr>\n    <tr>\n      <th>431</th>\n      <td>Volvo</td>\n      <td>XC70</td>\n      <td>Wagon</td>\n      <td>Europe</td>\n      <td>All</td>\n      <td>$35,145</td>\n      <td>$33,112</td>\n      <td>2.5</td>\n      <td>5.0</td>\n      <td>208.0</td>\n      <td>20.0</td>\n      <td>27.0</td>\n      <td>3823.0</td>\n      <td>109.0</td>\n      <td>186.0</td>\n    </tr>\n  </tbody>\n</table>\n<p>432 rows × 15 columns</p>\n</div>"
          },
          "metadata": {}
        }
      ],
      "execution_count": 16
    },
    {
      "cell_type": "markdown",
      "source": "----",
      "metadata": {}
    },
    {
      "cell_type": "markdown",
      "source": "1) Instruction ( For Data Cleaning ) \n- Find all Null Values in the dataset. If there is any null value in any column, then fill it with the mean of that column. ",
      "metadata": {}
    },
    {
      "cell_type": "code",
      "source": "data.isnull().sum()",
      "metadata": {
        "trusted": true
      },
      "outputs": [
        {
          "execution_count": 33,
          "output_type": "execute_result",
          "data": {
            "text/plain": "Make           0\nModel          0\nType           0\nOrigin         0\nDriveTrain     0\nMSRP           0\nInvoice        0\nEngineSize     0\nCylinders      0\nHorsepower     0\nMPG_City       0\nMPG_Highway    0\nWeight         0\nWheelbase      0\nLength         0\ndtype: int64"
          },
          "metadata": {}
        }
      ],
      "execution_count": 33
    },
    {
      "cell_type": "code",
      "source": "data[data[\"Make\"].isnull()]",
      "metadata": {
        "trusted": true
      },
      "outputs": [
        {
          "execution_count": 20,
          "output_type": "execute_result",
          "data": {
            "text/plain": "Empty DataFrame\nColumns: [Make, Model, Type, Origin, DriveTrain, MSRP, Invoice, EngineSize, Cylinders, Horsepower, MPG_City, MPG_Highway, Weight, Wheelbase, Length]\nIndex: []",
            "text/html": "<div>\n<style scoped>\n    .dataframe tbody tr th:only-of-type {\n        vertical-align: middle;\n    }\n\n    .dataframe tbody tr th {\n        vertical-align: top;\n    }\n\n    .dataframe thead th {\n        text-align: right;\n    }\n</style>\n<table border=\"1\" class=\"dataframe\">\n  <thead>\n    <tr style=\"text-align: right;\">\n      <th></th>\n      <th>Make</th>\n      <th>Model</th>\n      <th>Type</th>\n      <th>Origin</th>\n      <th>DriveTrain</th>\n      <th>MSRP</th>\n      <th>Invoice</th>\n      <th>EngineSize</th>\n      <th>Cylinders</th>\n      <th>Horsepower</th>\n      <th>MPG_City</th>\n      <th>MPG_Highway</th>\n      <th>Weight</th>\n      <th>Wheelbase</th>\n      <th>Length</th>\n    </tr>\n  </thead>\n  <tbody>\n  </tbody>\n</table>\n</div>"
          },
          "metadata": {}
        }
      ],
      "execution_count": 20
    },
    {
      "cell_type": "code",
      "source": "data.drop(data[data[\"Make\"].isnull()].index, inplace = True)",
      "metadata": {
        "trusted": true
      },
      "outputs": [],
      "execution_count": 19
    },
    {
      "cell_type": "code",
      "source": "data[\"Cylinders\"].fillna(data[\"Cylinders\"].mean(), inplace = True)",
      "metadata": {
        "trusted": true
      },
      "outputs": [
        {
          "name": "stderr",
          "text": "<ipython-input-32-6cb88ac58512>:1: FutureWarning: A value is trying to be set on a copy of a DataFrame or Series through chained assignment using an inplace method.\nThe behavior will change in pandas 3.0. This inplace method will never work because the intermediate object on which we are setting values always behaves as a copy.\n\nFor example, when doing 'df[col].method(value, inplace=True)', try using 'df.method({col: value}, inplace=True)' or df[col] = df[col].method(value) instead, to perform the operation inplace on the original object.\n\n\n  data[\"Cylinders\"].fillna(data[\"Cylinders\"].mean(), inplace = True)\n",
          "output_type": "stream"
        }
      ],
      "execution_count": 32
    },
    {
      "cell_type": "markdown",
      "source": "----",
      "metadata": {}
    },
    {
      "cell_type": "markdown",
      "source": "2) Question ( Based on Value Counts )\n- Check what are the different types of Make are there in our dataset. And, what is the count (occurrence) of each Make in the data\n?",
      "metadata": {}
    },
    {
      "cell_type": "code",
      "source": "data[\"Make\"].unique()",
      "metadata": {
        "trusted": true
      },
      "outputs": [
        {
          "execution_count": 34,
          "output_type": "execute_result",
          "data": {
            "text/plain": "array(['Acura', 'Audi', 'BMW', 'Buick', 'Cadillac', 'Chevrolet',\n       'Chrysler', 'Dodge', 'Ford', 'GMC', 'Honda', 'Hummer', 'Hyundai',\n       'Infiniti', 'Isuzu', 'Jaguar', 'Jeep', 'Kia', 'Land Rover',\n       'Lexus', 'Lincoln', 'MINI', 'Mazda', 'Mercedes-Benz', 'Mercury',\n       'Mitsubishi', 'Nissan', 'Oldsmobile', 'Pontiac', 'Porsche', 'Saab',\n       'Saturn', 'Scion', 'Subaru', 'Suzuki', 'Toyota', 'Volkswagen',\n       'Volvo'], dtype=object)"
          },
          "metadata": {}
        }
      ],
      "execution_count": 34
    },
    {
      "cell_type": "code",
      "source": "data[\"Make\"].value_counts()",
      "metadata": {
        "trusted": true
      },
      "outputs": [
        {
          "execution_count": 36,
          "output_type": "execute_result",
          "data": {
            "text/plain": "Make\nToyota           28\nChevrolet        27\nMercedes-Benz    26\nFord             23\nBMW              20\nAudi             19\nHonda            17\nNissan           17\nVolkswagen       15\nChrysler         15\nDodge            13\nMitsubishi       13\nVolvo            12\nJaguar           12\nHyundai          12\nSubaru           11\nPontiac          11\nMazda            11\nLexus            11\nKia              11\nBuick             9\nMercury           9\nLincoln           9\nSaturn            8\nCadillac          8\nSuzuki            8\nInfiniti          8\nGMC               8\nAcura             7\nPorsche           7\nSaab              7\nLand Rover        3\nOldsmobile        3\nJeep              3\nScion             2\nIsuzu             2\nMINI              2\nHummer            1\nName: count, dtype: int64"
          },
          "metadata": {}
        }
      ],
      "execution_count": 36
    },
    {
      "cell_type": "markdown",
      "source": "----",
      "metadata": {}
    },
    {
      "cell_type": "markdown",
      "source": "3) Instruction ( Filtering )\n- Show all the records where Origin is Asia or Europe.",
      "metadata": {}
    },
    {
      "cell_type": "code",
      "source": "data.head(3)",
      "metadata": {
        "trusted": true
      },
      "outputs": [
        {
          "execution_count": 37,
          "output_type": "execute_result",
          "data": {
            "text/plain": "    Make           Model   Type Origin DriveTrain      MSRP   Invoice  \\\n0  Acura             MDX    SUV   Asia        All  $36,945   $33,337    \n1  Acura  RSX Type S 2dr  Sedan   Asia      Front  $23,820   $21,761    \n2  Acura         TSX 4dr  Sedan   Asia      Front  $26,990   $24,647    \n\n   EngineSize  Cylinders  Horsepower  MPG_City  MPG_Highway  Weight  \\\n0         3.5        6.0       265.0      17.0         23.0  4451.0   \n1         2.0        4.0       200.0      24.0         31.0  2778.0   \n2         2.4        4.0       200.0      22.0         29.0  3230.0   \n\n   Wheelbase  Length  \n0      106.0   189.0  \n1      101.0   172.0  \n2      105.0   183.0  ",
            "text/html": "<div>\n<style scoped>\n    .dataframe tbody tr th:only-of-type {\n        vertical-align: middle;\n    }\n\n    .dataframe tbody tr th {\n        vertical-align: top;\n    }\n\n    .dataframe thead th {\n        text-align: right;\n    }\n</style>\n<table border=\"1\" class=\"dataframe\">\n  <thead>\n    <tr style=\"text-align: right;\">\n      <th></th>\n      <th>Make</th>\n      <th>Model</th>\n      <th>Type</th>\n      <th>Origin</th>\n      <th>DriveTrain</th>\n      <th>MSRP</th>\n      <th>Invoice</th>\n      <th>EngineSize</th>\n      <th>Cylinders</th>\n      <th>Horsepower</th>\n      <th>MPG_City</th>\n      <th>MPG_Highway</th>\n      <th>Weight</th>\n      <th>Wheelbase</th>\n      <th>Length</th>\n    </tr>\n  </thead>\n  <tbody>\n    <tr>\n      <th>0</th>\n      <td>Acura</td>\n      <td>MDX</td>\n      <td>SUV</td>\n      <td>Asia</td>\n      <td>All</td>\n      <td>$36,945</td>\n      <td>$33,337</td>\n      <td>3.5</td>\n      <td>6.0</td>\n      <td>265.0</td>\n      <td>17.0</td>\n      <td>23.0</td>\n      <td>4451.0</td>\n      <td>106.0</td>\n      <td>189.0</td>\n    </tr>\n    <tr>\n      <th>1</th>\n      <td>Acura</td>\n      <td>RSX Type S 2dr</td>\n      <td>Sedan</td>\n      <td>Asia</td>\n      <td>Front</td>\n      <td>$23,820</td>\n      <td>$21,761</td>\n      <td>2.0</td>\n      <td>4.0</td>\n      <td>200.0</td>\n      <td>24.0</td>\n      <td>31.0</td>\n      <td>2778.0</td>\n      <td>101.0</td>\n      <td>172.0</td>\n    </tr>\n    <tr>\n      <th>2</th>\n      <td>Acura</td>\n      <td>TSX 4dr</td>\n      <td>Sedan</td>\n      <td>Asia</td>\n      <td>Front</td>\n      <td>$26,990</td>\n      <td>$24,647</td>\n      <td>2.4</td>\n      <td>4.0</td>\n      <td>200.0</td>\n      <td>22.0</td>\n      <td>29.0</td>\n      <td>3230.0</td>\n      <td>105.0</td>\n      <td>183.0</td>\n    </tr>\n  </tbody>\n</table>\n</div>"
          },
          "metadata": {}
        }
      ],
      "execution_count": 37
    },
    {
      "cell_type": "markdown",
      "source": "## My Answer",
      "metadata": {}
    },
    {
      "cell_type": "code",
      "source": "data.query(\"Origin in ['Asia', 'Europe']\") ",
      "metadata": {
        "trusted": true
      },
      "outputs": [
        {
          "execution_count": 38,
          "output_type": "execute_result",
          "data": {
            "text/plain": "      Make                    Model   Type  Origin DriveTrain      MSRP  \\\n0    Acura                      MDX    SUV    Asia        All  $36,945    \n1    Acura           RSX Type S 2dr  Sedan    Asia      Front  $23,820    \n2    Acura                  TSX 4dr  Sedan    Asia      Front  $26,990    \n3    Acura                   TL 4dr  Sedan    Asia      Front  $33,195    \n4    Acura               3.5 RL 4dr  Sedan    Asia      Front  $43,755    \n..     ...                      ...    ...     ...        ...       ...   \n427  Volvo  C70 LPT convertible 2dr  Sedan  Europe      Front  $40,565    \n428  Volvo  C70 HPT convertible 2dr  Sedan  Europe      Front  $42,565    \n429  Volvo               S80 T6 4dr  Sedan  Europe      Front  $45,210    \n430  Volvo                      V40  Wagon  Europe      Front  $26,135    \n431  Volvo                     XC70  Wagon  Europe        All  $35,145    \n\n      Invoice  EngineSize  Cylinders  Horsepower  MPG_City  MPG_Highway  \\\n0    $33,337          3.5        6.0       265.0      17.0         23.0   \n1    $21,761          2.0        4.0       200.0      24.0         31.0   \n2    $24,647          2.4        4.0       200.0      22.0         29.0   \n3    $30,299          3.2        6.0       270.0      20.0         28.0   \n4    $39,014          3.5        6.0       225.0      18.0         24.0   \n..        ...         ...        ...         ...       ...          ...   \n427  $38,203          2.4        5.0       197.0      21.0         28.0   \n428  $40,083          2.3        5.0       242.0      20.0         26.0   \n429  $42,573          2.9        6.0       268.0      19.0         26.0   \n430  $24,641          1.9        4.0       170.0      22.0         29.0   \n431  $33,112          2.5        5.0       208.0      20.0         27.0   \n\n     Weight  Wheelbase  Length  \n0    4451.0      106.0   189.0  \n1    2778.0      101.0   172.0  \n2    3230.0      105.0   183.0  \n3    3575.0      108.0   186.0  \n4    3880.0      115.0   197.0  \n..      ...        ...     ...  \n427  3450.0      105.0   186.0  \n428  3450.0      105.0   186.0  \n429  3653.0      110.0   190.0  \n430  2822.0      101.0   180.0  \n431  3823.0      109.0   186.0  \n\n[281 rows x 15 columns]",
            "text/html": "<div>\n<style scoped>\n    .dataframe tbody tr th:only-of-type {\n        vertical-align: middle;\n    }\n\n    .dataframe tbody tr th {\n        vertical-align: top;\n    }\n\n    .dataframe thead th {\n        text-align: right;\n    }\n</style>\n<table border=\"1\" class=\"dataframe\">\n  <thead>\n    <tr style=\"text-align: right;\">\n      <th></th>\n      <th>Make</th>\n      <th>Model</th>\n      <th>Type</th>\n      <th>Origin</th>\n      <th>DriveTrain</th>\n      <th>MSRP</th>\n      <th>Invoice</th>\n      <th>EngineSize</th>\n      <th>Cylinders</th>\n      <th>Horsepower</th>\n      <th>MPG_City</th>\n      <th>MPG_Highway</th>\n      <th>Weight</th>\n      <th>Wheelbase</th>\n      <th>Length</th>\n    </tr>\n  </thead>\n  <tbody>\n    <tr>\n      <th>0</th>\n      <td>Acura</td>\n      <td>MDX</td>\n      <td>SUV</td>\n      <td>Asia</td>\n      <td>All</td>\n      <td>$36,945</td>\n      <td>$33,337</td>\n      <td>3.5</td>\n      <td>6.0</td>\n      <td>265.0</td>\n      <td>17.0</td>\n      <td>23.0</td>\n      <td>4451.0</td>\n      <td>106.0</td>\n      <td>189.0</td>\n    </tr>\n    <tr>\n      <th>1</th>\n      <td>Acura</td>\n      <td>RSX Type S 2dr</td>\n      <td>Sedan</td>\n      <td>Asia</td>\n      <td>Front</td>\n      <td>$23,820</td>\n      <td>$21,761</td>\n      <td>2.0</td>\n      <td>4.0</td>\n      <td>200.0</td>\n      <td>24.0</td>\n      <td>31.0</td>\n      <td>2778.0</td>\n      <td>101.0</td>\n      <td>172.0</td>\n    </tr>\n    <tr>\n      <th>2</th>\n      <td>Acura</td>\n      <td>TSX 4dr</td>\n      <td>Sedan</td>\n      <td>Asia</td>\n      <td>Front</td>\n      <td>$26,990</td>\n      <td>$24,647</td>\n      <td>2.4</td>\n      <td>4.0</td>\n      <td>200.0</td>\n      <td>22.0</td>\n      <td>29.0</td>\n      <td>3230.0</td>\n      <td>105.0</td>\n      <td>183.0</td>\n    </tr>\n    <tr>\n      <th>3</th>\n      <td>Acura</td>\n      <td>TL 4dr</td>\n      <td>Sedan</td>\n      <td>Asia</td>\n      <td>Front</td>\n      <td>$33,195</td>\n      <td>$30,299</td>\n      <td>3.2</td>\n      <td>6.0</td>\n      <td>270.0</td>\n      <td>20.0</td>\n      <td>28.0</td>\n      <td>3575.0</td>\n      <td>108.0</td>\n      <td>186.0</td>\n    </tr>\n    <tr>\n      <th>4</th>\n      <td>Acura</td>\n      <td>3.5 RL 4dr</td>\n      <td>Sedan</td>\n      <td>Asia</td>\n      <td>Front</td>\n      <td>$43,755</td>\n      <td>$39,014</td>\n      <td>3.5</td>\n      <td>6.0</td>\n      <td>225.0</td>\n      <td>18.0</td>\n      <td>24.0</td>\n      <td>3880.0</td>\n      <td>115.0</td>\n      <td>197.0</td>\n    </tr>\n    <tr>\n      <th>...</th>\n      <td>...</td>\n      <td>...</td>\n      <td>...</td>\n      <td>...</td>\n      <td>...</td>\n      <td>...</td>\n      <td>...</td>\n      <td>...</td>\n      <td>...</td>\n      <td>...</td>\n      <td>...</td>\n      <td>...</td>\n      <td>...</td>\n      <td>...</td>\n      <td>...</td>\n    </tr>\n    <tr>\n      <th>427</th>\n      <td>Volvo</td>\n      <td>C70 LPT convertible 2dr</td>\n      <td>Sedan</td>\n      <td>Europe</td>\n      <td>Front</td>\n      <td>$40,565</td>\n      <td>$38,203</td>\n      <td>2.4</td>\n      <td>5.0</td>\n      <td>197.0</td>\n      <td>21.0</td>\n      <td>28.0</td>\n      <td>3450.0</td>\n      <td>105.0</td>\n      <td>186.0</td>\n    </tr>\n    <tr>\n      <th>428</th>\n      <td>Volvo</td>\n      <td>C70 HPT convertible 2dr</td>\n      <td>Sedan</td>\n      <td>Europe</td>\n      <td>Front</td>\n      <td>$42,565</td>\n      <td>$40,083</td>\n      <td>2.3</td>\n      <td>5.0</td>\n      <td>242.0</td>\n      <td>20.0</td>\n      <td>26.0</td>\n      <td>3450.0</td>\n      <td>105.0</td>\n      <td>186.0</td>\n    </tr>\n    <tr>\n      <th>429</th>\n      <td>Volvo</td>\n      <td>S80 T6 4dr</td>\n      <td>Sedan</td>\n      <td>Europe</td>\n      <td>Front</td>\n      <td>$45,210</td>\n      <td>$42,573</td>\n      <td>2.9</td>\n      <td>6.0</td>\n      <td>268.0</td>\n      <td>19.0</td>\n      <td>26.0</td>\n      <td>3653.0</td>\n      <td>110.0</td>\n      <td>190.0</td>\n    </tr>\n    <tr>\n      <th>430</th>\n      <td>Volvo</td>\n      <td>V40</td>\n      <td>Wagon</td>\n      <td>Europe</td>\n      <td>Front</td>\n      <td>$26,135</td>\n      <td>$24,641</td>\n      <td>1.9</td>\n      <td>4.0</td>\n      <td>170.0</td>\n      <td>22.0</td>\n      <td>29.0</td>\n      <td>2822.0</td>\n      <td>101.0</td>\n      <td>180.0</td>\n    </tr>\n    <tr>\n      <th>431</th>\n      <td>Volvo</td>\n      <td>XC70</td>\n      <td>Wagon</td>\n      <td>Europe</td>\n      <td>All</td>\n      <td>$35,145</td>\n      <td>$33,112</td>\n      <td>2.5</td>\n      <td>5.0</td>\n      <td>208.0</td>\n      <td>20.0</td>\n      <td>27.0</td>\n      <td>3823.0</td>\n      <td>109.0</td>\n      <td>186.0</td>\n    </tr>\n  </tbody>\n</table>\n<p>281 rows × 15 columns</p>\n</div>"
          },
          "metadata": {}
        }
      ],
      "execution_count": 38
    },
    {
      "cell_type": "code",
      "source": "data[data[\"Origin\"].isin(['Europe','Asia'])]",
      "metadata": {
        "trusted": true
      },
      "outputs": [
        {
          "execution_count": 43,
          "output_type": "execute_result",
          "data": {
            "text/plain": "      Make                    Model   Type  Origin DriveTrain      MSRP  \\\n0    Acura                      MDX    SUV    Asia        All  $36,945    \n1    Acura           RSX Type S 2dr  Sedan    Asia      Front  $23,820    \n2    Acura                  TSX 4dr  Sedan    Asia      Front  $26,990    \n3    Acura                   TL 4dr  Sedan    Asia      Front  $33,195    \n4    Acura               3.5 RL 4dr  Sedan    Asia      Front  $43,755    \n..     ...                      ...    ...     ...        ...       ...   \n427  Volvo  C70 LPT convertible 2dr  Sedan  Europe      Front  $40,565    \n428  Volvo  C70 HPT convertible 2dr  Sedan  Europe      Front  $42,565    \n429  Volvo               S80 T6 4dr  Sedan  Europe      Front  $45,210    \n430  Volvo                      V40  Wagon  Europe      Front  $26,135    \n431  Volvo                     XC70  Wagon  Europe        All  $35,145    \n\n      Invoice  EngineSize  Cylinders  Horsepower  MPG_City  MPG_Highway  \\\n0    $33,337          3.5        6.0       265.0      17.0         23.0   \n1    $21,761          2.0        4.0       200.0      24.0         31.0   \n2    $24,647          2.4        4.0       200.0      22.0         29.0   \n3    $30,299          3.2        6.0       270.0      20.0         28.0   \n4    $39,014          3.5        6.0       225.0      18.0         24.0   \n..        ...         ...        ...         ...       ...          ...   \n427  $38,203          2.4        5.0       197.0      21.0         28.0   \n428  $40,083          2.3        5.0       242.0      20.0         26.0   \n429  $42,573          2.9        6.0       268.0      19.0         26.0   \n430  $24,641          1.9        4.0       170.0      22.0         29.0   \n431  $33,112          2.5        5.0       208.0      20.0         27.0   \n\n     Weight  Wheelbase  Length  \n0    4451.0      106.0   189.0  \n1    2778.0      101.0   172.0  \n2    3230.0      105.0   183.0  \n3    3575.0      108.0   186.0  \n4    3880.0      115.0   197.0  \n..      ...        ...     ...  \n427  3450.0      105.0   186.0  \n428  3450.0      105.0   186.0  \n429  3653.0      110.0   190.0  \n430  2822.0      101.0   180.0  \n431  3823.0      109.0   186.0  \n\n[281 rows x 15 columns]",
            "text/html": "<div>\n<style scoped>\n    .dataframe tbody tr th:only-of-type {\n        vertical-align: middle;\n    }\n\n    .dataframe tbody tr th {\n        vertical-align: top;\n    }\n\n    .dataframe thead th {\n        text-align: right;\n    }\n</style>\n<table border=\"1\" class=\"dataframe\">\n  <thead>\n    <tr style=\"text-align: right;\">\n      <th></th>\n      <th>Make</th>\n      <th>Model</th>\n      <th>Type</th>\n      <th>Origin</th>\n      <th>DriveTrain</th>\n      <th>MSRP</th>\n      <th>Invoice</th>\n      <th>EngineSize</th>\n      <th>Cylinders</th>\n      <th>Horsepower</th>\n      <th>MPG_City</th>\n      <th>MPG_Highway</th>\n      <th>Weight</th>\n      <th>Wheelbase</th>\n      <th>Length</th>\n    </tr>\n  </thead>\n  <tbody>\n    <tr>\n      <th>0</th>\n      <td>Acura</td>\n      <td>MDX</td>\n      <td>SUV</td>\n      <td>Asia</td>\n      <td>All</td>\n      <td>$36,945</td>\n      <td>$33,337</td>\n      <td>3.5</td>\n      <td>6.0</td>\n      <td>265.0</td>\n      <td>17.0</td>\n      <td>23.0</td>\n      <td>4451.0</td>\n      <td>106.0</td>\n      <td>189.0</td>\n    </tr>\n    <tr>\n      <th>1</th>\n      <td>Acura</td>\n      <td>RSX Type S 2dr</td>\n      <td>Sedan</td>\n      <td>Asia</td>\n      <td>Front</td>\n      <td>$23,820</td>\n      <td>$21,761</td>\n      <td>2.0</td>\n      <td>4.0</td>\n      <td>200.0</td>\n      <td>24.0</td>\n      <td>31.0</td>\n      <td>2778.0</td>\n      <td>101.0</td>\n      <td>172.0</td>\n    </tr>\n    <tr>\n      <th>2</th>\n      <td>Acura</td>\n      <td>TSX 4dr</td>\n      <td>Sedan</td>\n      <td>Asia</td>\n      <td>Front</td>\n      <td>$26,990</td>\n      <td>$24,647</td>\n      <td>2.4</td>\n      <td>4.0</td>\n      <td>200.0</td>\n      <td>22.0</td>\n      <td>29.0</td>\n      <td>3230.0</td>\n      <td>105.0</td>\n      <td>183.0</td>\n    </tr>\n    <tr>\n      <th>3</th>\n      <td>Acura</td>\n      <td>TL 4dr</td>\n      <td>Sedan</td>\n      <td>Asia</td>\n      <td>Front</td>\n      <td>$33,195</td>\n      <td>$30,299</td>\n      <td>3.2</td>\n      <td>6.0</td>\n      <td>270.0</td>\n      <td>20.0</td>\n      <td>28.0</td>\n      <td>3575.0</td>\n      <td>108.0</td>\n      <td>186.0</td>\n    </tr>\n    <tr>\n      <th>4</th>\n      <td>Acura</td>\n      <td>3.5 RL 4dr</td>\n      <td>Sedan</td>\n      <td>Asia</td>\n      <td>Front</td>\n      <td>$43,755</td>\n      <td>$39,014</td>\n      <td>3.5</td>\n      <td>6.0</td>\n      <td>225.0</td>\n      <td>18.0</td>\n      <td>24.0</td>\n      <td>3880.0</td>\n      <td>115.0</td>\n      <td>197.0</td>\n    </tr>\n    <tr>\n      <th>...</th>\n      <td>...</td>\n      <td>...</td>\n      <td>...</td>\n      <td>...</td>\n      <td>...</td>\n      <td>...</td>\n      <td>...</td>\n      <td>...</td>\n      <td>...</td>\n      <td>...</td>\n      <td>...</td>\n      <td>...</td>\n      <td>...</td>\n      <td>...</td>\n      <td>...</td>\n    </tr>\n    <tr>\n      <th>427</th>\n      <td>Volvo</td>\n      <td>C70 LPT convertible 2dr</td>\n      <td>Sedan</td>\n      <td>Europe</td>\n      <td>Front</td>\n      <td>$40,565</td>\n      <td>$38,203</td>\n      <td>2.4</td>\n      <td>5.0</td>\n      <td>197.0</td>\n      <td>21.0</td>\n      <td>28.0</td>\n      <td>3450.0</td>\n      <td>105.0</td>\n      <td>186.0</td>\n    </tr>\n    <tr>\n      <th>428</th>\n      <td>Volvo</td>\n      <td>C70 HPT convertible 2dr</td>\n      <td>Sedan</td>\n      <td>Europe</td>\n      <td>Front</td>\n      <td>$42,565</td>\n      <td>$40,083</td>\n      <td>2.3</td>\n      <td>5.0</td>\n      <td>242.0</td>\n      <td>20.0</td>\n      <td>26.0</td>\n      <td>3450.0</td>\n      <td>105.0</td>\n      <td>186.0</td>\n    </tr>\n    <tr>\n      <th>429</th>\n      <td>Volvo</td>\n      <td>S80 T6 4dr</td>\n      <td>Sedan</td>\n      <td>Europe</td>\n      <td>Front</td>\n      <td>$45,210</td>\n      <td>$42,573</td>\n      <td>2.9</td>\n      <td>6.0</td>\n      <td>268.0</td>\n      <td>19.0</td>\n      <td>26.0</td>\n      <td>3653.0</td>\n      <td>110.0</td>\n      <td>190.0</td>\n    </tr>\n    <tr>\n      <th>430</th>\n      <td>Volvo</td>\n      <td>V40</td>\n      <td>Wagon</td>\n      <td>Europe</td>\n      <td>Front</td>\n      <td>$26,135</td>\n      <td>$24,641</td>\n      <td>1.9</td>\n      <td>4.0</td>\n      <td>170.0</td>\n      <td>22.0</td>\n      <td>29.0</td>\n      <td>2822.0</td>\n      <td>101.0</td>\n      <td>180.0</td>\n    </tr>\n    <tr>\n      <th>431</th>\n      <td>Volvo</td>\n      <td>XC70</td>\n      <td>Wagon</td>\n      <td>Europe</td>\n      <td>All</td>\n      <td>$35,145</td>\n      <td>$33,112</td>\n      <td>2.5</td>\n      <td>5.0</td>\n      <td>208.0</td>\n      <td>20.0</td>\n      <td>27.0</td>\n      <td>3823.0</td>\n      <td>109.0</td>\n      <td>186.0</td>\n    </tr>\n  </tbody>\n</table>\n<p>281 rows × 15 columns</p>\n</div>"
          },
          "metadata": {}
        }
      ],
      "execution_count": 43
    },
    {
      "cell_type": "markdown",
      "source": "----",
      "metadata": {}
    },
    {
      "cell_type": "markdown",
      "source": "4) Instruction ( Removing unwanted records )\n- Remove all the records (rows) where Weight is above 4000.",
      "metadata": {}
    },
    {
      "cell_type": "code",
      "source": "data.head(3)",
      "metadata": {
        "trusted": true
      },
      "outputs": [
        {
          "execution_count": 44,
          "output_type": "execute_result",
          "data": {
            "text/plain": "    Make           Model   Type Origin DriveTrain      MSRP   Invoice  \\\n0  Acura             MDX    SUV   Asia        All  $36,945   $33,337    \n1  Acura  RSX Type S 2dr  Sedan   Asia      Front  $23,820   $21,761    \n2  Acura         TSX 4dr  Sedan   Asia      Front  $26,990   $24,647    \n\n   EngineSize  Cylinders  Horsepower  MPG_City  MPG_Highway  Weight  \\\n0         3.5        6.0       265.0      17.0         23.0  4451.0   \n1         2.0        4.0       200.0      24.0         31.0  2778.0   \n2         2.4        4.0       200.0      22.0         29.0  3230.0   \n\n   Wheelbase  Length  \n0      106.0   189.0  \n1      101.0   172.0  \n2      105.0   183.0  ",
            "text/html": "<div>\n<style scoped>\n    .dataframe tbody tr th:only-of-type {\n        vertical-align: middle;\n    }\n\n    .dataframe tbody tr th {\n        vertical-align: top;\n    }\n\n    .dataframe thead th {\n        text-align: right;\n    }\n</style>\n<table border=\"1\" class=\"dataframe\">\n  <thead>\n    <tr style=\"text-align: right;\">\n      <th></th>\n      <th>Make</th>\n      <th>Model</th>\n      <th>Type</th>\n      <th>Origin</th>\n      <th>DriveTrain</th>\n      <th>MSRP</th>\n      <th>Invoice</th>\n      <th>EngineSize</th>\n      <th>Cylinders</th>\n      <th>Horsepower</th>\n      <th>MPG_City</th>\n      <th>MPG_Highway</th>\n      <th>Weight</th>\n      <th>Wheelbase</th>\n      <th>Length</th>\n    </tr>\n  </thead>\n  <tbody>\n    <tr>\n      <th>0</th>\n      <td>Acura</td>\n      <td>MDX</td>\n      <td>SUV</td>\n      <td>Asia</td>\n      <td>All</td>\n      <td>$36,945</td>\n      <td>$33,337</td>\n      <td>3.5</td>\n      <td>6.0</td>\n      <td>265.0</td>\n      <td>17.0</td>\n      <td>23.0</td>\n      <td>4451.0</td>\n      <td>106.0</td>\n      <td>189.0</td>\n    </tr>\n    <tr>\n      <th>1</th>\n      <td>Acura</td>\n      <td>RSX Type S 2dr</td>\n      <td>Sedan</td>\n      <td>Asia</td>\n      <td>Front</td>\n      <td>$23,820</td>\n      <td>$21,761</td>\n      <td>2.0</td>\n      <td>4.0</td>\n      <td>200.0</td>\n      <td>24.0</td>\n      <td>31.0</td>\n      <td>2778.0</td>\n      <td>101.0</td>\n      <td>172.0</td>\n    </tr>\n    <tr>\n      <th>2</th>\n      <td>Acura</td>\n      <td>TSX 4dr</td>\n      <td>Sedan</td>\n      <td>Asia</td>\n      <td>Front</td>\n      <td>$26,990</td>\n      <td>$24,647</td>\n      <td>2.4</td>\n      <td>4.0</td>\n      <td>200.0</td>\n      <td>22.0</td>\n      <td>29.0</td>\n      <td>3230.0</td>\n      <td>105.0</td>\n      <td>183.0</td>\n    </tr>\n  </tbody>\n</table>\n</div>"
          },
          "metadata": {}
        }
      ],
      "execution_count": 44
    },
    {
      "cell_type": "code",
      "source": "data.shape",
      "metadata": {
        "trusted": true
      },
      "outputs": [
        {
          "execution_count": 50,
          "output_type": "execute_result",
          "data": {
            "text/plain": "(428, 15)"
          },
          "metadata": {}
        }
      ],
      "execution_count": 50
    },
    {
      "cell_type": "code",
      "source": "data[data[\"Weight\"] > 4000]",
      "metadata": {
        "trusted": true
      },
      "outputs": [
        {
          "execution_count": 49,
          "output_type": "execute_result",
          "data": {
            "text/plain": "           Make                           Model    Type  Origin DriveTrain  \\\n0         Acura                             MDX     SUV    Asia        All   \n15         Audi  A4 3.0 Quattro convertible 2dr   Sedan  Europe        All   \n17         Audi              A6 4.2 Quattro 4dr   Sedan  Europe        All   \n18         Audi                A8 L Quattro 4dr   Sedan  Europe        All   \n20         Audi                        RS 6 4dr  Sports  Europe      Front   \n..          ...                             ...     ...     ...        ...   \n405  Volkswagen                      Touareg V6     SUV  Europe        All   \n415  Volkswagen                     Phaeton 4dr   Sedan  Europe      Front   \n416  Volkswagen                 Phaeton W12 4dr   Sedan  Europe      Front   \n419  Volkswagen                       Passat W8   Wagon  Europe      Front   \n420       Volvo                         XC90 T6     SUV  Europe        All   \n\n         MSRP   Invoice  EngineSize  Cylinders  Horsepower  MPG_City  \\\n0    $36,945   $33,337          3.5        6.0       265.0      17.0   \n15   $44,240   $40,075          3.0        6.0       220.0      18.0   \n17   $49,690   $44,936          4.2        8.0       300.0      17.0   \n18   $69,190   $64,740          4.2        8.0       330.0      17.0   \n20   $84,600   $76,417          4.2        8.0       450.0      15.0   \n..        ...       ...         ...        ...         ...       ...   \n405  $35,515   $32,243          3.2        6.0       220.0      15.0   \n415  $65,000   $59,912          4.2        8.0       335.0      16.0   \n416  $75,000   $69,130          6.0       12.0       420.0      12.0   \n419  $40,235   $36,956          4.0        8.0       270.0      18.0   \n420  $41,250   $38,851          2.9        6.0       268.0      15.0   \n\n     MPG_Highway  Weight  Wheelbase  Length  \n0           23.0  4451.0      106.0   189.0  \n15          25.0  4013.0      105.0   180.0  \n17          24.0  4024.0      109.0   193.0  \n18          24.0  4399.0      121.0   204.0  \n20          22.0  4024.0      109.0   191.0  \n..           ...     ...        ...     ...  \n405         20.0  5086.0      112.0   187.0  \n415         22.0  5194.0      118.0   204.0  \n416         19.0  5399.0      118.0   204.0  \n419         25.0  4067.0      106.0   184.0  \n420         20.0  4638.0      113.0   189.0  \n\n[103 rows x 15 columns]",
            "text/html": "<div>\n<style scoped>\n    .dataframe tbody tr th:only-of-type {\n        vertical-align: middle;\n    }\n\n    .dataframe tbody tr th {\n        vertical-align: top;\n    }\n\n    .dataframe thead th {\n        text-align: right;\n    }\n</style>\n<table border=\"1\" class=\"dataframe\">\n  <thead>\n    <tr style=\"text-align: right;\">\n      <th></th>\n      <th>Make</th>\n      <th>Model</th>\n      <th>Type</th>\n      <th>Origin</th>\n      <th>DriveTrain</th>\n      <th>MSRP</th>\n      <th>Invoice</th>\n      <th>EngineSize</th>\n      <th>Cylinders</th>\n      <th>Horsepower</th>\n      <th>MPG_City</th>\n      <th>MPG_Highway</th>\n      <th>Weight</th>\n      <th>Wheelbase</th>\n      <th>Length</th>\n    </tr>\n  </thead>\n  <tbody>\n    <tr>\n      <th>0</th>\n      <td>Acura</td>\n      <td>MDX</td>\n      <td>SUV</td>\n      <td>Asia</td>\n      <td>All</td>\n      <td>$36,945</td>\n      <td>$33,337</td>\n      <td>3.5</td>\n      <td>6.0</td>\n      <td>265.0</td>\n      <td>17.0</td>\n      <td>23.0</td>\n      <td>4451.0</td>\n      <td>106.0</td>\n      <td>189.0</td>\n    </tr>\n    <tr>\n      <th>15</th>\n      <td>Audi</td>\n      <td>A4 3.0 Quattro convertible 2dr</td>\n      <td>Sedan</td>\n      <td>Europe</td>\n      <td>All</td>\n      <td>$44,240</td>\n      <td>$40,075</td>\n      <td>3.0</td>\n      <td>6.0</td>\n      <td>220.0</td>\n      <td>18.0</td>\n      <td>25.0</td>\n      <td>4013.0</td>\n      <td>105.0</td>\n      <td>180.0</td>\n    </tr>\n    <tr>\n      <th>17</th>\n      <td>Audi</td>\n      <td>A6 4.2 Quattro 4dr</td>\n      <td>Sedan</td>\n      <td>Europe</td>\n      <td>All</td>\n      <td>$49,690</td>\n      <td>$44,936</td>\n      <td>4.2</td>\n      <td>8.0</td>\n      <td>300.0</td>\n      <td>17.0</td>\n      <td>24.0</td>\n      <td>4024.0</td>\n      <td>109.0</td>\n      <td>193.0</td>\n    </tr>\n    <tr>\n      <th>18</th>\n      <td>Audi</td>\n      <td>A8 L Quattro 4dr</td>\n      <td>Sedan</td>\n      <td>Europe</td>\n      <td>All</td>\n      <td>$69,190</td>\n      <td>$64,740</td>\n      <td>4.2</td>\n      <td>8.0</td>\n      <td>330.0</td>\n      <td>17.0</td>\n      <td>24.0</td>\n      <td>4399.0</td>\n      <td>121.0</td>\n      <td>204.0</td>\n    </tr>\n    <tr>\n      <th>20</th>\n      <td>Audi</td>\n      <td>RS 6 4dr</td>\n      <td>Sports</td>\n      <td>Europe</td>\n      <td>Front</td>\n      <td>$84,600</td>\n      <td>$76,417</td>\n      <td>4.2</td>\n      <td>8.0</td>\n      <td>450.0</td>\n      <td>15.0</td>\n      <td>22.0</td>\n      <td>4024.0</td>\n      <td>109.0</td>\n      <td>191.0</td>\n    </tr>\n    <tr>\n      <th>...</th>\n      <td>...</td>\n      <td>...</td>\n      <td>...</td>\n      <td>...</td>\n      <td>...</td>\n      <td>...</td>\n      <td>...</td>\n      <td>...</td>\n      <td>...</td>\n      <td>...</td>\n      <td>...</td>\n      <td>...</td>\n      <td>...</td>\n      <td>...</td>\n      <td>...</td>\n    </tr>\n    <tr>\n      <th>405</th>\n      <td>Volkswagen</td>\n      <td>Touareg V6</td>\n      <td>SUV</td>\n      <td>Europe</td>\n      <td>All</td>\n      <td>$35,515</td>\n      <td>$32,243</td>\n      <td>3.2</td>\n      <td>6.0</td>\n      <td>220.0</td>\n      <td>15.0</td>\n      <td>20.0</td>\n      <td>5086.0</td>\n      <td>112.0</td>\n      <td>187.0</td>\n    </tr>\n    <tr>\n      <th>415</th>\n      <td>Volkswagen</td>\n      <td>Phaeton 4dr</td>\n      <td>Sedan</td>\n      <td>Europe</td>\n      <td>Front</td>\n      <td>$65,000</td>\n      <td>$59,912</td>\n      <td>4.2</td>\n      <td>8.0</td>\n      <td>335.0</td>\n      <td>16.0</td>\n      <td>22.0</td>\n      <td>5194.0</td>\n      <td>118.0</td>\n      <td>204.0</td>\n    </tr>\n    <tr>\n      <th>416</th>\n      <td>Volkswagen</td>\n      <td>Phaeton W12 4dr</td>\n      <td>Sedan</td>\n      <td>Europe</td>\n      <td>Front</td>\n      <td>$75,000</td>\n      <td>$69,130</td>\n      <td>6.0</td>\n      <td>12.0</td>\n      <td>420.0</td>\n      <td>12.0</td>\n      <td>19.0</td>\n      <td>5399.0</td>\n      <td>118.0</td>\n      <td>204.0</td>\n    </tr>\n    <tr>\n      <th>419</th>\n      <td>Volkswagen</td>\n      <td>Passat W8</td>\n      <td>Wagon</td>\n      <td>Europe</td>\n      <td>Front</td>\n      <td>$40,235</td>\n      <td>$36,956</td>\n      <td>4.0</td>\n      <td>8.0</td>\n      <td>270.0</td>\n      <td>18.0</td>\n      <td>25.0</td>\n      <td>4067.0</td>\n      <td>106.0</td>\n      <td>184.0</td>\n    </tr>\n    <tr>\n      <th>420</th>\n      <td>Volvo</td>\n      <td>XC90 T6</td>\n      <td>SUV</td>\n      <td>Europe</td>\n      <td>All</td>\n      <td>$41,250</td>\n      <td>$38,851</td>\n      <td>2.9</td>\n      <td>6.0</td>\n      <td>268.0</td>\n      <td>15.0</td>\n      <td>20.0</td>\n      <td>4638.0</td>\n      <td>113.0</td>\n      <td>189.0</td>\n    </tr>\n  </tbody>\n</table>\n<p>103 rows × 15 columns</p>\n</div>"
          },
          "metadata": {}
        }
      ],
      "execution_count": 49
    },
    {
      "cell_type": "code",
      "source": "data.drop(data[data[\"Weight\"] > 4000].index) # My Answer ",
      "metadata": {
        "trusted": true
      },
      "outputs": [
        {
          "execution_count": 51,
          "output_type": "execute_result",
          "data": {
            "text/plain": "      Make                    Model   Type  Origin DriveTrain      MSRP  \\\n1    Acura           RSX Type S 2dr  Sedan    Asia      Front  $23,820    \n2    Acura                  TSX 4dr  Sedan    Asia      Front  $26,990    \n3    Acura                   TL 4dr  Sedan    Asia      Front  $33,195    \n4    Acura               3.5 RL 4dr  Sedan    Asia      Front  $43,755    \n5    Acura  3.5 RL w/Navigation 4dr  Sedan    Asia      Front  $46,100    \n..     ...                      ...    ...     ...        ...       ...   \n427  Volvo  C70 LPT convertible 2dr  Sedan  Europe      Front  $40,565    \n428  Volvo  C70 HPT convertible 2dr  Sedan  Europe      Front  $42,565    \n429  Volvo               S80 T6 4dr  Sedan  Europe      Front  $45,210    \n430  Volvo                      V40  Wagon  Europe      Front  $26,135    \n431  Volvo                     XC70  Wagon  Europe        All  $35,145    \n\n      Invoice  EngineSize  Cylinders  Horsepower  MPG_City  MPG_Highway  \\\n1    $21,761          2.0        4.0       200.0      24.0         31.0   \n2    $24,647          2.4        4.0       200.0      22.0         29.0   \n3    $30,299          3.2        6.0       270.0      20.0         28.0   \n4    $39,014          3.5        6.0       225.0      18.0         24.0   \n5    $41,100          3.5        6.0       225.0      18.0         24.0   \n..        ...         ...        ...         ...       ...          ...   \n427  $38,203          2.4        5.0       197.0      21.0         28.0   \n428  $40,083          2.3        5.0       242.0      20.0         26.0   \n429  $42,573          2.9        6.0       268.0      19.0         26.0   \n430  $24,641          1.9        4.0       170.0      22.0         29.0   \n431  $33,112          2.5        5.0       208.0      20.0         27.0   \n\n     Weight  Wheelbase  Length  \n1    2778.0      101.0   172.0  \n2    3230.0      105.0   183.0  \n3    3575.0      108.0   186.0  \n4    3880.0      115.0   197.0  \n5    3893.0      115.0   197.0  \n..      ...        ...     ...  \n427  3450.0      105.0   186.0  \n428  3450.0      105.0   186.0  \n429  3653.0      110.0   190.0  \n430  2822.0      101.0   180.0  \n431  3823.0      109.0   186.0  \n\n[325 rows x 15 columns]",
            "text/html": "<div>\n<style scoped>\n    .dataframe tbody tr th:only-of-type {\n        vertical-align: middle;\n    }\n\n    .dataframe tbody tr th {\n        vertical-align: top;\n    }\n\n    .dataframe thead th {\n        text-align: right;\n    }\n</style>\n<table border=\"1\" class=\"dataframe\">\n  <thead>\n    <tr style=\"text-align: right;\">\n      <th></th>\n      <th>Make</th>\n      <th>Model</th>\n      <th>Type</th>\n      <th>Origin</th>\n      <th>DriveTrain</th>\n      <th>MSRP</th>\n      <th>Invoice</th>\n      <th>EngineSize</th>\n      <th>Cylinders</th>\n      <th>Horsepower</th>\n      <th>MPG_City</th>\n      <th>MPG_Highway</th>\n      <th>Weight</th>\n      <th>Wheelbase</th>\n      <th>Length</th>\n    </tr>\n  </thead>\n  <tbody>\n    <tr>\n      <th>1</th>\n      <td>Acura</td>\n      <td>RSX Type S 2dr</td>\n      <td>Sedan</td>\n      <td>Asia</td>\n      <td>Front</td>\n      <td>$23,820</td>\n      <td>$21,761</td>\n      <td>2.0</td>\n      <td>4.0</td>\n      <td>200.0</td>\n      <td>24.0</td>\n      <td>31.0</td>\n      <td>2778.0</td>\n      <td>101.0</td>\n      <td>172.0</td>\n    </tr>\n    <tr>\n      <th>2</th>\n      <td>Acura</td>\n      <td>TSX 4dr</td>\n      <td>Sedan</td>\n      <td>Asia</td>\n      <td>Front</td>\n      <td>$26,990</td>\n      <td>$24,647</td>\n      <td>2.4</td>\n      <td>4.0</td>\n      <td>200.0</td>\n      <td>22.0</td>\n      <td>29.0</td>\n      <td>3230.0</td>\n      <td>105.0</td>\n      <td>183.0</td>\n    </tr>\n    <tr>\n      <th>3</th>\n      <td>Acura</td>\n      <td>TL 4dr</td>\n      <td>Sedan</td>\n      <td>Asia</td>\n      <td>Front</td>\n      <td>$33,195</td>\n      <td>$30,299</td>\n      <td>3.2</td>\n      <td>6.0</td>\n      <td>270.0</td>\n      <td>20.0</td>\n      <td>28.0</td>\n      <td>3575.0</td>\n      <td>108.0</td>\n      <td>186.0</td>\n    </tr>\n    <tr>\n      <th>4</th>\n      <td>Acura</td>\n      <td>3.5 RL 4dr</td>\n      <td>Sedan</td>\n      <td>Asia</td>\n      <td>Front</td>\n      <td>$43,755</td>\n      <td>$39,014</td>\n      <td>3.5</td>\n      <td>6.0</td>\n      <td>225.0</td>\n      <td>18.0</td>\n      <td>24.0</td>\n      <td>3880.0</td>\n      <td>115.0</td>\n      <td>197.0</td>\n    </tr>\n    <tr>\n      <th>5</th>\n      <td>Acura</td>\n      <td>3.5 RL w/Navigation 4dr</td>\n      <td>Sedan</td>\n      <td>Asia</td>\n      <td>Front</td>\n      <td>$46,100</td>\n      <td>$41,100</td>\n      <td>3.5</td>\n      <td>6.0</td>\n      <td>225.0</td>\n      <td>18.0</td>\n      <td>24.0</td>\n      <td>3893.0</td>\n      <td>115.0</td>\n      <td>197.0</td>\n    </tr>\n    <tr>\n      <th>...</th>\n      <td>...</td>\n      <td>...</td>\n      <td>...</td>\n      <td>...</td>\n      <td>...</td>\n      <td>...</td>\n      <td>...</td>\n      <td>...</td>\n      <td>...</td>\n      <td>...</td>\n      <td>...</td>\n      <td>...</td>\n      <td>...</td>\n      <td>...</td>\n      <td>...</td>\n    </tr>\n    <tr>\n      <th>427</th>\n      <td>Volvo</td>\n      <td>C70 LPT convertible 2dr</td>\n      <td>Sedan</td>\n      <td>Europe</td>\n      <td>Front</td>\n      <td>$40,565</td>\n      <td>$38,203</td>\n      <td>2.4</td>\n      <td>5.0</td>\n      <td>197.0</td>\n      <td>21.0</td>\n      <td>28.0</td>\n      <td>3450.0</td>\n      <td>105.0</td>\n      <td>186.0</td>\n    </tr>\n    <tr>\n      <th>428</th>\n      <td>Volvo</td>\n      <td>C70 HPT convertible 2dr</td>\n      <td>Sedan</td>\n      <td>Europe</td>\n      <td>Front</td>\n      <td>$42,565</td>\n      <td>$40,083</td>\n      <td>2.3</td>\n      <td>5.0</td>\n      <td>242.0</td>\n      <td>20.0</td>\n      <td>26.0</td>\n      <td>3450.0</td>\n      <td>105.0</td>\n      <td>186.0</td>\n    </tr>\n    <tr>\n      <th>429</th>\n      <td>Volvo</td>\n      <td>S80 T6 4dr</td>\n      <td>Sedan</td>\n      <td>Europe</td>\n      <td>Front</td>\n      <td>$45,210</td>\n      <td>$42,573</td>\n      <td>2.9</td>\n      <td>6.0</td>\n      <td>268.0</td>\n      <td>19.0</td>\n      <td>26.0</td>\n      <td>3653.0</td>\n      <td>110.0</td>\n      <td>190.0</td>\n    </tr>\n    <tr>\n      <th>430</th>\n      <td>Volvo</td>\n      <td>V40</td>\n      <td>Wagon</td>\n      <td>Europe</td>\n      <td>Front</td>\n      <td>$26,135</td>\n      <td>$24,641</td>\n      <td>1.9</td>\n      <td>4.0</td>\n      <td>170.0</td>\n      <td>22.0</td>\n      <td>29.0</td>\n      <td>2822.0</td>\n      <td>101.0</td>\n      <td>180.0</td>\n    </tr>\n    <tr>\n      <th>431</th>\n      <td>Volvo</td>\n      <td>XC70</td>\n      <td>Wagon</td>\n      <td>Europe</td>\n      <td>All</td>\n      <td>$35,145</td>\n      <td>$33,112</td>\n      <td>2.5</td>\n      <td>5.0</td>\n      <td>208.0</td>\n      <td>20.0</td>\n      <td>27.0</td>\n      <td>3823.0</td>\n      <td>109.0</td>\n      <td>186.0</td>\n    </tr>\n  </tbody>\n</table>\n<p>325 rows × 15 columns</p>\n</div>"
          },
          "metadata": {}
        }
      ],
      "execution_count": 51
    },
    {
      "cell_type": "code",
      "source": "data[~(data[\"Weight\"] > 4000)] # Answer from video",
      "metadata": {
        "trusted": true
      },
      "outputs": [
        {
          "execution_count": 54,
          "output_type": "execute_result",
          "data": {
            "text/plain": "      Make                    Model   Type  Origin DriveTrain      MSRP  \\\n1    Acura           RSX Type S 2dr  Sedan    Asia      Front  $23,820    \n2    Acura                  TSX 4dr  Sedan    Asia      Front  $26,990    \n3    Acura                   TL 4dr  Sedan    Asia      Front  $33,195    \n4    Acura               3.5 RL 4dr  Sedan    Asia      Front  $43,755    \n5    Acura  3.5 RL w/Navigation 4dr  Sedan    Asia      Front  $46,100    \n..     ...                      ...    ...     ...        ...       ...   \n427  Volvo  C70 LPT convertible 2dr  Sedan  Europe      Front  $40,565    \n428  Volvo  C70 HPT convertible 2dr  Sedan  Europe      Front  $42,565    \n429  Volvo               S80 T6 4dr  Sedan  Europe      Front  $45,210    \n430  Volvo                      V40  Wagon  Europe      Front  $26,135    \n431  Volvo                     XC70  Wagon  Europe        All  $35,145    \n\n      Invoice  EngineSize  Cylinders  Horsepower  MPG_City  MPG_Highway  \\\n1    $21,761          2.0        4.0       200.0      24.0         31.0   \n2    $24,647          2.4        4.0       200.0      22.0         29.0   \n3    $30,299          3.2        6.0       270.0      20.0         28.0   \n4    $39,014          3.5        6.0       225.0      18.0         24.0   \n5    $41,100          3.5        6.0       225.0      18.0         24.0   \n..        ...         ...        ...         ...       ...          ...   \n427  $38,203          2.4        5.0       197.0      21.0         28.0   \n428  $40,083          2.3        5.0       242.0      20.0         26.0   \n429  $42,573          2.9        6.0       268.0      19.0         26.0   \n430  $24,641          1.9        4.0       170.0      22.0         29.0   \n431  $33,112          2.5        5.0       208.0      20.0         27.0   \n\n     Weight  Wheelbase  Length  \n1    2778.0      101.0   172.0  \n2    3230.0      105.0   183.0  \n3    3575.0      108.0   186.0  \n4    3880.0      115.0   197.0  \n5    3893.0      115.0   197.0  \n..      ...        ...     ...  \n427  3450.0      105.0   186.0  \n428  3450.0      105.0   186.0  \n429  3653.0      110.0   190.0  \n430  2822.0      101.0   180.0  \n431  3823.0      109.0   186.0  \n\n[325 rows x 15 columns]",
            "text/html": "<div>\n<style scoped>\n    .dataframe tbody tr th:only-of-type {\n        vertical-align: middle;\n    }\n\n    .dataframe tbody tr th {\n        vertical-align: top;\n    }\n\n    .dataframe thead th {\n        text-align: right;\n    }\n</style>\n<table border=\"1\" class=\"dataframe\">\n  <thead>\n    <tr style=\"text-align: right;\">\n      <th></th>\n      <th>Make</th>\n      <th>Model</th>\n      <th>Type</th>\n      <th>Origin</th>\n      <th>DriveTrain</th>\n      <th>MSRP</th>\n      <th>Invoice</th>\n      <th>EngineSize</th>\n      <th>Cylinders</th>\n      <th>Horsepower</th>\n      <th>MPG_City</th>\n      <th>MPG_Highway</th>\n      <th>Weight</th>\n      <th>Wheelbase</th>\n      <th>Length</th>\n    </tr>\n  </thead>\n  <tbody>\n    <tr>\n      <th>1</th>\n      <td>Acura</td>\n      <td>RSX Type S 2dr</td>\n      <td>Sedan</td>\n      <td>Asia</td>\n      <td>Front</td>\n      <td>$23,820</td>\n      <td>$21,761</td>\n      <td>2.0</td>\n      <td>4.0</td>\n      <td>200.0</td>\n      <td>24.0</td>\n      <td>31.0</td>\n      <td>2778.0</td>\n      <td>101.0</td>\n      <td>172.0</td>\n    </tr>\n    <tr>\n      <th>2</th>\n      <td>Acura</td>\n      <td>TSX 4dr</td>\n      <td>Sedan</td>\n      <td>Asia</td>\n      <td>Front</td>\n      <td>$26,990</td>\n      <td>$24,647</td>\n      <td>2.4</td>\n      <td>4.0</td>\n      <td>200.0</td>\n      <td>22.0</td>\n      <td>29.0</td>\n      <td>3230.0</td>\n      <td>105.0</td>\n      <td>183.0</td>\n    </tr>\n    <tr>\n      <th>3</th>\n      <td>Acura</td>\n      <td>TL 4dr</td>\n      <td>Sedan</td>\n      <td>Asia</td>\n      <td>Front</td>\n      <td>$33,195</td>\n      <td>$30,299</td>\n      <td>3.2</td>\n      <td>6.0</td>\n      <td>270.0</td>\n      <td>20.0</td>\n      <td>28.0</td>\n      <td>3575.0</td>\n      <td>108.0</td>\n      <td>186.0</td>\n    </tr>\n    <tr>\n      <th>4</th>\n      <td>Acura</td>\n      <td>3.5 RL 4dr</td>\n      <td>Sedan</td>\n      <td>Asia</td>\n      <td>Front</td>\n      <td>$43,755</td>\n      <td>$39,014</td>\n      <td>3.5</td>\n      <td>6.0</td>\n      <td>225.0</td>\n      <td>18.0</td>\n      <td>24.0</td>\n      <td>3880.0</td>\n      <td>115.0</td>\n      <td>197.0</td>\n    </tr>\n    <tr>\n      <th>5</th>\n      <td>Acura</td>\n      <td>3.5 RL w/Navigation 4dr</td>\n      <td>Sedan</td>\n      <td>Asia</td>\n      <td>Front</td>\n      <td>$46,100</td>\n      <td>$41,100</td>\n      <td>3.5</td>\n      <td>6.0</td>\n      <td>225.0</td>\n      <td>18.0</td>\n      <td>24.0</td>\n      <td>3893.0</td>\n      <td>115.0</td>\n      <td>197.0</td>\n    </tr>\n    <tr>\n      <th>...</th>\n      <td>...</td>\n      <td>...</td>\n      <td>...</td>\n      <td>...</td>\n      <td>...</td>\n      <td>...</td>\n      <td>...</td>\n      <td>...</td>\n      <td>...</td>\n      <td>...</td>\n      <td>...</td>\n      <td>...</td>\n      <td>...</td>\n      <td>...</td>\n      <td>...</td>\n    </tr>\n    <tr>\n      <th>427</th>\n      <td>Volvo</td>\n      <td>C70 LPT convertible 2dr</td>\n      <td>Sedan</td>\n      <td>Europe</td>\n      <td>Front</td>\n      <td>$40,565</td>\n      <td>$38,203</td>\n      <td>2.4</td>\n      <td>5.0</td>\n      <td>197.0</td>\n      <td>21.0</td>\n      <td>28.0</td>\n      <td>3450.0</td>\n      <td>105.0</td>\n      <td>186.0</td>\n    </tr>\n    <tr>\n      <th>428</th>\n      <td>Volvo</td>\n      <td>C70 HPT convertible 2dr</td>\n      <td>Sedan</td>\n      <td>Europe</td>\n      <td>Front</td>\n      <td>$42,565</td>\n      <td>$40,083</td>\n      <td>2.3</td>\n      <td>5.0</td>\n      <td>242.0</td>\n      <td>20.0</td>\n      <td>26.0</td>\n      <td>3450.0</td>\n      <td>105.0</td>\n      <td>186.0</td>\n    </tr>\n    <tr>\n      <th>429</th>\n      <td>Volvo</td>\n      <td>S80 T6 4dr</td>\n      <td>Sedan</td>\n      <td>Europe</td>\n      <td>Front</td>\n      <td>$45,210</td>\n      <td>$42,573</td>\n      <td>2.9</td>\n      <td>6.0</td>\n      <td>268.0</td>\n      <td>19.0</td>\n      <td>26.0</td>\n      <td>3653.0</td>\n      <td>110.0</td>\n      <td>190.0</td>\n    </tr>\n    <tr>\n      <th>430</th>\n      <td>Volvo</td>\n      <td>V40</td>\n      <td>Wagon</td>\n      <td>Europe</td>\n      <td>Front</td>\n      <td>$26,135</td>\n      <td>$24,641</td>\n      <td>1.9</td>\n      <td>4.0</td>\n      <td>170.0</td>\n      <td>22.0</td>\n      <td>29.0</td>\n      <td>2822.0</td>\n      <td>101.0</td>\n      <td>180.0</td>\n    </tr>\n    <tr>\n      <th>431</th>\n      <td>Volvo</td>\n      <td>XC70</td>\n      <td>Wagon</td>\n      <td>Europe</td>\n      <td>All</td>\n      <td>$35,145</td>\n      <td>$33,112</td>\n      <td>2.5</td>\n      <td>5.0</td>\n      <td>208.0</td>\n      <td>20.0</td>\n      <td>27.0</td>\n      <td>3823.0</td>\n      <td>109.0</td>\n      <td>186.0</td>\n    </tr>\n  </tbody>\n</table>\n<p>325 rows × 15 columns</p>\n</div>"
          },
          "metadata": {}
        }
      ],
      "execution_count": 54
    },
    {
      "cell_type": "markdown",
      "source": "-----",
      "metadata": {}
    },
    {
      "cell_type": "markdown",
      "source": "5) Instruction ( Applying function on a column )\n- Increase all the values of 'MPG_City' column by 3.",
      "metadata": {}
    },
    {
      "cell_type": "code",
      "source": "data.head(3)",
      "metadata": {
        "trusted": true
      },
      "outputs": [
        {
          "execution_count": 59,
          "output_type": "execute_result",
          "data": {
            "text/plain": "    Make           Model   Type Origin DriveTrain      MSRP   Invoice  \\\n0  Acura             MDX    SUV   Asia        All  $36,945   $33,337    \n1  Acura  RSX Type S 2dr  Sedan   Asia      Front  $23,820   $21,761    \n2  Acura         TSX 4dr  Sedan   Asia      Front  $26,990   $24,647    \n\n   EngineSize  Cylinders  Horsepower  MPG_City  MPG_Highway  Weight  \\\n0         3.5        6.0       265.0      20.0         23.0  4451.0   \n1         2.0        4.0       200.0      27.0         31.0  2778.0   \n2         2.4        4.0       200.0      25.0         29.0  3230.0   \n\n   Wheelbase  Length  \n0      106.0   189.0  \n1      101.0   172.0  \n2      105.0   183.0  ",
            "text/html": "<div>\n<style scoped>\n    .dataframe tbody tr th:only-of-type {\n        vertical-align: middle;\n    }\n\n    .dataframe tbody tr th {\n        vertical-align: top;\n    }\n\n    .dataframe thead th {\n        text-align: right;\n    }\n</style>\n<table border=\"1\" class=\"dataframe\">\n  <thead>\n    <tr style=\"text-align: right;\">\n      <th></th>\n      <th>Make</th>\n      <th>Model</th>\n      <th>Type</th>\n      <th>Origin</th>\n      <th>DriveTrain</th>\n      <th>MSRP</th>\n      <th>Invoice</th>\n      <th>EngineSize</th>\n      <th>Cylinders</th>\n      <th>Horsepower</th>\n      <th>MPG_City</th>\n      <th>MPG_Highway</th>\n      <th>Weight</th>\n      <th>Wheelbase</th>\n      <th>Length</th>\n    </tr>\n  </thead>\n  <tbody>\n    <tr>\n      <th>0</th>\n      <td>Acura</td>\n      <td>MDX</td>\n      <td>SUV</td>\n      <td>Asia</td>\n      <td>All</td>\n      <td>$36,945</td>\n      <td>$33,337</td>\n      <td>3.5</td>\n      <td>6.0</td>\n      <td>265.0</td>\n      <td>20.0</td>\n      <td>23.0</td>\n      <td>4451.0</td>\n      <td>106.0</td>\n      <td>189.0</td>\n    </tr>\n    <tr>\n      <th>1</th>\n      <td>Acura</td>\n      <td>RSX Type S 2dr</td>\n      <td>Sedan</td>\n      <td>Asia</td>\n      <td>Front</td>\n      <td>$23,820</td>\n      <td>$21,761</td>\n      <td>2.0</td>\n      <td>4.0</td>\n      <td>200.0</td>\n      <td>27.0</td>\n      <td>31.0</td>\n      <td>2778.0</td>\n      <td>101.0</td>\n      <td>172.0</td>\n    </tr>\n    <tr>\n      <th>2</th>\n      <td>Acura</td>\n      <td>TSX 4dr</td>\n      <td>Sedan</td>\n      <td>Asia</td>\n      <td>Front</td>\n      <td>$26,990</td>\n      <td>$24,647</td>\n      <td>2.4</td>\n      <td>4.0</td>\n      <td>200.0</td>\n      <td>25.0</td>\n      <td>29.0</td>\n      <td>3230.0</td>\n      <td>105.0</td>\n      <td>183.0</td>\n    </tr>\n  </tbody>\n</table>\n</div>"
          },
          "metadata": {}
        }
      ],
      "execution_count": 59
    },
    {
      "cell_type": "code",
      "source": "data[\"MPG_City\"] = data[\"MPG_City\"].apply(lambda x: x + 3)",
      "metadata": {
        "trusted": true
      },
      "outputs": [],
      "execution_count": 58
    },
    {
      "cell_type": "markdown",
      "source": "----",
      "metadata": {}
    },
    {
      "cell_type": "markdown",
      "source": "----",
      "metadata": {}
    },
    {
      "cell_type": "markdown",
      "source": "-----",
      "metadata": {}
    },
    {
      "cell_type": "markdown",
      "source": "----",
      "metadata": {}
    },
    {
      "cell_type": "markdown",
      "source": "### By - Rohit Grewal",
      "metadata": {}
    },
    {
      "cell_type": "markdown",
      "source": "## Solved by Dias Onaibaev",
      "metadata": {}
    }
  ]
}