{
  "metadata": {
    "kernelspec": {
      "name": "python",
      "display_name": "Python (Pyodide)",
      "language": "python"
    },
    "language_info": {
      "codemirror_mode": {
        "name": "python",
        "version": 3
      },
      "file_extension": ".py",
      "mimetype": "text/x-python",
      "name": "python",
      "nbconvert_exporter": "python",
      "pygments_lexer": "ipython3",
      "version": "3.8"
    }
  },
  "nbformat_minor": 4,
  "nbformat": 4,
  "cells": [
    {
      "cell_type": "markdown",
      "source": "# Working on Real Project with Python on 'COVID-19 Dataset'",
      "metadata": {}
    },
    {
      "cell_type": "markdown",
      "source": "## (A part of Big Data Analysis)",
      "metadata": {}
    },
    {
      "cell_type": "markdown",
      "source": "----",
      "metadata": {}
    },
    {
      "cell_type": "markdown",
      "source": "# COVID-19 SMALL DATASET",
      "metadata": {}
    },
    {
      "cell_type": "markdown",
      "source": "-----",
      "metadata": {}
    },
    {
      "cell_type": "markdown",
      "source": "We have taken a small dataset of Covid-19, just for your understaning purpose. You have to work on the original dataset which contains about 19000 rows.",
      "metadata": {}
    },
    {
      "cell_type": "markdown",
      "source": "The data used here is till 29-April-2020 and has records as on 29-April-2020.",
      "metadata": {}
    },
    {
      "cell_type": "markdown",
      "source": "This data is available as a CSV file, downloaded from Kaggle.",
      "metadata": {}
    },
    {
      "cell_type": "markdown",
      "source": "We will analyze this data using the Pandas DataFrame.",
      "metadata": {}
    },
    {
      "cell_type": "code",
      "source": "import pandas as pd",
      "metadata": {
        "trusted": true
      },
      "outputs": [
        {
          "name": "stderr",
          "text": "<ipython-input-1-7dd3504c366f>:1: DeprecationWarning: \nPyarrow will become a required dependency of pandas in the next major release of pandas (pandas 3.0),\n(to allow more performant data types, such as the Arrow string type, and better interoperability with other libraries)\nbut was not found to be installed on your system.\nIf this would cause problems for you,\nplease provide us feedback at https://github.com/pandas-dev/pandas/issues/54466\n        \n  import pandas as pd\n",
          "output_type": "stream"
        }
      ],
      "execution_count": 1
    },
    {
      "cell_type": "code",
      "source": "data = pd.read_csv(\"csv_files/covid_data.csv\", index_col = \"index\")",
      "metadata": {
        "trusted": true
      },
      "outputs": [],
      "execution_count": 85
    },
    {
      "cell_type": "code",
      "source": "data",
      "metadata": {
        "trusted": true
      },
      "outputs": [
        {
          "execution_count": 86,
          "output_type": "execute_result",
          "data": {
            "text/plain": "             Date      State                 Region  Confirmed  Deaths  \\\nindex                                                                    \n0      2020-01-22      Anhui                  China          1       0   \n1      2020-01-22    Beijing                  China         14       0   \n2      2020-01-22  Chongqing                  China          6       0   \n3      2020-01-22     Fujian                  China          1       0   \n4      2020-01-22  Guangdong                  China         26       0   \n...           ...        ...                    ...        ...     ...   \n39004  2020-07-27        NaN  Sao Tome and Principe        865      14   \n39005  2020-07-27        NaN                  Yemen       1691     483   \n39006  2020-07-27        NaN                Comoros        354       7   \n39007  2020-07-27        NaN             Tajikistan       7235      60   \n39008  2020-07-27        NaN                Lesotho        505      12   \n\n       Recovered  \nindex             \n0              0  \n1              0  \n2              0  \n3              0  \n4              0  \n...          ...  \n39004        734  \n39005        833  \n39006        328  \n39007       6028  \n39008        128  \n\n[39009 rows x 6 columns]",
            "text/html": "<div>\n<style scoped>\n    .dataframe tbody tr th:only-of-type {\n        vertical-align: middle;\n    }\n\n    .dataframe tbody tr th {\n        vertical-align: top;\n    }\n\n    .dataframe thead th {\n        text-align: right;\n    }\n</style>\n<table border=\"1\" class=\"dataframe\">\n  <thead>\n    <tr style=\"text-align: right;\">\n      <th></th>\n      <th>Date</th>\n      <th>State</th>\n      <th>Region</th>\n      <th>Confirmed</th>\n      <th>Deaths</th>\n      <th>Recovered</th>\n    </tr>\n    <tr>\n      <th>index</th>\n      <th></th>\n      <th></th>\n      <th></th>\n      <th></th>\n      <th></th>\n      <th></th>\n    </tr>\n  </thead>\n  <tbody>\n    <tr>\n      <th>0</th>\n      <td>2020-01-22</td>\n      <td>Anhui</td>\n      <td>China</td>\n      <td>1</td>\n      <td>0</td>\n      <td>0</td>\n    </tr>\n    <tr>\n      <th>1</th>\n      <td>2020-01-22</td>\n      <td>Beijing</td>\n      <td>China</td>\n      <td>14</td>\n      <td>0</td>\n      <td>0</td>\n    </tr>\n    <tr>\n      <th>2</th>\n      <td>2020-01-22</td>\n      <td>Chongqing</td>\n      <td>China</td>\n      <td>6</td>\n      <td>0</td>\n      <td>0</td>\n    </tr>\n    <tr>\n      <th>3</th>\n      <td>2020-01-22</td>\n      <td>Fujian</td>\n      <td>China</td>\n      <td>1</td>\n      <td>0</td>\n      <td>0</td>\n    </tr>\n    <tr>\n      <th>4</th>\n      <td>2020-01-22</td>\n      <td>Guangdong</td>\n      <td>China</td>\n      <td>26</td>\n      <td>0</td>\n      <td>0</td>\n    </tr>\n    <tr>\n      <th>...</th>\n      <td>...</td>\n      <td>...</td>\n      <td>...</td>\n      <td>...</td>\n      <td>...</td>\n      <td>...</td>\n    </tr>\n    <tr>\n      <th>39004</th>\n      <td>2020-07-27</td>\n      <td>NaN</td>\n      <td>Sao Tome and Principe</td>\n      <td>865</td>\n      <td>14</td>\n      <td>734</td>\n    </tr>\n    <tr>\n      <th>39005</th>\n      <td>2020-07-27</td>\n      <td>NaN</td>\n      <td>Yemen</td>\n      <td>1691</td>\n      <td>483</td>\n      <td>833</td>\n    </tr>\n    <tr>\n      <th>39006</th>\n      <td>2020-07-27</td>\n      <td>NaN</td>\n      <td>Comoros</td>\n      <td>354</td>\n      <td>7</td>\n      <td>328</td>\n    </tr>\n    <tr>\n      <th>39007</th>\n      <td>2020-07-27</td>\n      <td>NaN</td>\n      <td>Tajikistan</td>\n      <td>7235</td>\n      <td>60</td>\n      <td>6028</td>\n    </tr>\n    <tr>\n      <th>39008</th>\n      <td>2020-07-27</td>\n      <td>NaN</td>\n      <td>Lesotho</td>\n      <td>505</td>\n      <td>12</td>\n      <td>128</td>\n    </tr>\n  </tbody>\n</table>\n<p>39009 rows × 6 columns</p>\n</div>"
          },
          "metadata": {}
        }
      ],
      "execution_count": 86
    },
    {
      "cell_type": "code",
      "source": "data.shape",
      "metadata": {
        "trusted": true
      },
      "outputs": [
        {
          "execution_count": 88,
          "output_type": "execute_result",
          "data": {
            "text/plain": "(39009, 6)"
          },
          "metadata": {}
        }
      ],
      "execution_count": 88
    },
    {
      "cell_type": "markdown",
      "source": "1. \ndf.count()\ndf.isnull().sum()",
      "metadata": {}
    },
    {
      "cell_type": "code",
      "source": "data.count()",
      "metadata": {
        "trusted": true
      },
      "outputs": [
        {
          "execution_count": 89,
          "output_type": "execute_result",
          "data": {
            "text/plain": "Date         39009\nState        12561\nRegion       39009\nConfirmed    39009\nDeaths       39009\nRecovered    39009\ndtype: int64"
          },
          "metadata": {}
        }
      ],
      "execution_count": 89
    },
    {
      "cell_type": "code",
      "source": "data.isnull().sum()",
      "metadata": {
        "trusted": true
      },
      "outputs": [
        {
          "execution_count": 90,
          "output_type": "execute_result",
          "data": {
            "text/plain": "Date             0\nState        26448\nRegion           0\nConfirmed        0\nDeaths           0\nRecovered        0\ndtype: int64"
          },
          "metadata": {}
        }
      ],
      "execution_count": 90
    },
    {
      "cell_type": "code",
      "source": "# 2.\n# import seaborn as sns\n# import matplotlib.pyplot as plt\n# sns.heatmap(df.isnull())\n# plt.show()",
      "metadata": {},
      "outputs": [],
      "execution_count": 255
    },
    {
      "cell_type": "code",
      "source": "%pip install seaborn",
      "metadata": {
        "trusted": true
      },
      "outputs": [],
      "execution_count": 96
    },
    {
      "cell_type": "code",
      "source": "import seaborn as sns\nimport matplotlib.pyplot as plt",
      "metadata": {
        "trusted": true
      },
      "outputs": [],
      "execution_count": 97
    },
    {
      "cell_type": "code",
      "source": "sns.heatmap(data.isnull())\nplt.show()",
      "metadata": {
        "trusted": true
      },
      "outputs": [
        {
          "output_type": "display_data",
          "data": {
            "text/plain": "<Figure size 640x480 with 2 Axes>",
            "image/png": "[encoded data removed]"
          },
          "metadata": {}
        }
      ],
      "execution_count": 98
    },
    {
      "cell_type": "markdown",
      "source": "### Q.1 ) Show the number of Confirmed , Deaths and Recovered cases in each Region.",
      "metadata": {}
    },
    {
      "cell_type": "code",
      "source": "ill = data.groupby(\"Region\").sum(numeric_only = True)\nill[\"Active\"] = ill[\"Confirmed\"] - (ill[\"Recovered\"] + ill[\"Deaths\"])\nill",
      "metadata": {
        "trusted": true
      },
      "outputs": [
        {
          "execution_count": 107,
          "output_type": "execute_result",
          "data": {
            "text/plain": "                    Confirmed  Deaths  Recovered   Active\nRegion                                                   \nAfghanistan           1936390   49098     798240  1089052\nAlbania                196702    5708     118877    72117\nAlgeria               1179755   77972     755897   345886\nAndorra                 94404    5423      69074    19907\nAngola                  22662    1078       6573    15011\n...                       ...     ...        ...      ...\nWest Bank and Gaza     233461    1370      61124   170967\nWestern Sahara            901      63        648      190\nYemen                   67180   17707      23779    25694\nZambia                 129421    2643      83611    43167\nZimbabwe                50794     881      12207    37706\n\n[187 rows x 4 columns]",
            "text/html": "<div>\n<style scoped>\n    .dataframe tbody tr th:only-of-type {\n        vertical-align: middle;\n    }\n\n    .dataframe tbody tr th {\n        vertical-align: top;\n    }\n\n    .dataframe thead th {\n        text-align: right;\n    }\n</style>\n<table border=\"1\" class=\"dataframe\">\n  <thead>\n    <tr style=\"text-align: right;\">\n      <th></th>\n      <th>Confirmed</th>\n      <th>Deaths</th>\n      <th>Recovered</th>\n      <th>Active</th>\n    </tr>\n    <tr>\n      <th>Region</th>\n      <th></th>\n      <th></th>\n      <th></th>\n      <th></th>\n    </tr>\n  </thead>\n  <tbody>\n    <tr>\n      <th>Afghanistan</th>\n      <td>1936390</td>\n      <td>49098</td>\n      <td>798240</td>\n      <td>1089052</td>\n    </tr>\n    <tr>\n      <th>Albania</th>\n      <td>196702</td>\n      <td>5708</td>\n      <td>118877</td>\n      <td>72117</td>\n    </tr>\n    <tr>\n      <th>Algeria</th>\n      <td>1179755</td>\n      <td>77972</td>\n      <td>755897</td>\n      <td>345886</td>\n    </tr>\n    <tr>\n      <th>Andorra</th>\n      <td>94404</td>\n      <td>5423</td>\n      <td>69074</td>\n      <td>19907</td>\n    </tr>\n    <tr>\n      <th>Angola</th>\n      <td>22662</td>\n      <td>1078</td>\n      <td>6573</td>\n      <td>15011</td>\n    </tr>\n    <tr>\n      <th>...</th>\n      <td>...</td>\n      <td>...</td>\n      <td>...</td>\n      <td>...</td>\n    </tr>\n    <tr>\n      <th>West Bank and Gaza</th>\n      <td>233461</td>\n      <td>1370</td>\n      <td>61124</td>\n      <td>170967</td>\n    </tr>\n    <tr>\n      <th>Western Sahara</th>\n      <td>901</td>\n      <td>63</td>\n      <td>648</td>\n      <td>190</td>\n    </tr>\n    <tr>\n      <th>Yemen</th>\n      <td>67180</td>\n      <td>17707</td>\n      <td>23779</td>\n      <td>25694</td>\n    </tr>\n    <tr>\n      <th>Zambia</th>\n      <td>129421</td>\n      <td>2643</td>\n      <td>83611</td>\n      <td>43167</td>\n    </tr>\n    <tr>\n      <th>Zimbabwe</th>\n      <td>50794</td>\n      <td>881</td>\n      <td>12207</td>\n      <td>37706</td>\n    </tr>\n  </tbody>\n</table>\n<p>187 rows × 4 columns</p>\n</div>"
          },
          "metadata": {}
        }
      ],
      "execution_count": 107
    },
    {
      "cell_type": "markdown",
      "source": "### Top 10 Infected Regions",
      "metadata": {}
    },
    {
      "cell_type": "code",
      "source": "data.groupby(\"Region\")['Confirmed'].sum().sort_values(ascending = False).head(10)",
      "metadata": {
        "trusted": true
      },
      "outputs": [
        {
          "execution_count": 115,
          "output_type": "execute_result",
          "data": {
            "text/plain": "Region\nUS                224345948\nBrazil             89524967\nRussia             45408411\nIndia              40883464\nSpain              27404045\nUnited Kingdom     26748587\nItaly              26745145\nFrance             21210926\nGermany            21059152\nIran               19339267\nName: Confirmed, dtype: int64"
          },
          "metadata": {}
        }
      ],
      "execution_count": 115
    },
    {
      "cell_type": "code",
      "source": "data.groupby(\"Region\")[['Confirmed', 'Recovered']].sum().sort_values(by = \"Confirmed\", ascending = False).head(10)",
      "metadata": {
        "trusted": true
      },
      "outputs": [
        {
          "execution_count": 119,
          "output_type": "execute_result",
          "data": {
            "text/plain": "                Confirmed  Recovered\nRegion                              \nUS              224345948   56353416\nBrazil           89524967   54492873\nRussia           45408411   25120448\nIndia            40883464   23783720\nSpain            27404045   15093583\nUnited Kingdom   26748587     126217\nItaly            26745145   15673910\nFrance           21210926    7182115\nGermany          21059152   17107839\nIran             19339267   15200895",
            "text/html": "<div>\n<style scoped>\n    .dataframe tbody tr th:only-of-type {\n        vertical-align: middle;\n    }\n\n    .dataframe tbody tr th {\n        vertical-align: top;\n    }\n\n    .dataframe thead th {\n        text-align: right;\n    }\n</style>\n<table border=\"1\" class=\"dataframe\">\n  <thead>\n    <tr style=\"text-align: right;\">\n      <th></th>\n      <th>Confirmed</th>\n      <th>Recovered</th>\n    </tr>\n    <tr>\n      <th>Region</th>\n      <th></th>\n      <th></th>\n    </tr>\n  </thead>\n  <tbody>\n    <tr>\n      <th>US</th>\n      <td>224345948</td>\n      <td>56353416</td>\n    </tr>\n    <tr>\n      <th>Brazil</th>\n      <td>89524967</td>\n      <td>54492873</td>\n    </tr>\n    <tr>\n      <th>Russia</th>\n      <td>45408411</td>\n      <td>25120448</td>\n    </tr>\n    <tr>\n      <th>India</th>\n      <td>40883464</td>\n      <td>23783720</td>\n    </tr>\n    <tr>\n      <th>Spain</th>\n      <td>27404045</td>\n      <td>15093583</td>\n    </tr>\n    <tr>\n      <th>United Kingdom</th>\n      <td>26748587</td>\n      <td>126217</td>\n    </tr>\n    <tr>\n      <th>Italy</th>\n      <td>26745145</td>\n      <td>15673910</td>\n    </tr>\n    <tr>\n      <th>France</th>\n      <td>21210926</td>\n      <td>7182115</td>\n    </tr>\n    <tr>\n      <th>Germany</th>\n      <td>21059152</td>\n      <td>17107839</td>\n    </tr>\n    <tr>\n      <th>Iran</th>\n      <td>19339267</td>\n      <td>15200895</td>\n    </tr>\n  </tbody>\n</table>\n</div>"
          },
          "metadata": {}
        }
      ],
      "execution_count": 119
    },
    {
      "cell_type": "markdown",
      "source": "### Q2) Remove all the records where Confirmed Cases is Less Than 10.",
      "metadata": {}
    },
    {
      "cell_type": "code",
      "source": "data = data[~(data[\"Confirmed\"] < 10)]\ndata",
      "metadata": {
        "trusted": true
      },
      "outputs": [
        {
          "execution_count": 120,
          "output_type": "execute_result",
          "data": {
            "text/plain": "             Date      State                 Region  Confirmed  Deaths  \\\nindex                                                                    \n1      2020-01-22    Beijing                  China         14       0   \n4      2020-01-22  Guangdong                  China         26       0   \n10     2020-01-22      Hubei                  China        444      17   \n23     2020-01-22   Zhejiang                  China         10       0   \n30     2020-01-23    Beijing                  China         22       0   \n...           ...        ...                    ...        ...     ...   \n39004  2020-07-27        NaN  Sao Tome and Principe        865      14   \n39005  2020-07-27        NaN                  Yemen       1691     483   \n39006  2020-07-27        NaN                Comoros        354       7   \n39007  2020-07-27        NaN             Tajikistan       7235      60   \n39008  2020-07-27        NaN                Lesotho        505      12   \n\n       Recovered  \nindex             \n1              0  \n4              0  \n10            28  \n23             0  \n30             0  \n...          ...  \n39004        734  \n39005        833  \n39006        328  \n39007       6028  \n39008        128  \n\n[35019 rows x 6 columns]",
            "text/html": "<div>\n<style scoped>\n    .dataframe tbody tr th:only-of-type {\n        vertical-align: middle;\n    }\n\n    .dataframe tbody tr th {\n        vertical-align: top;\n    }\n\n    .dataframe thead th {\n        text-align: right;\n    }\n</style>\n<table border=\"1\" class=\"dataframe\">\n  <thead>\n    <tr style=\"text-align: right;\">\n      <th></th>\n      <th>Date</th>\n      <th>State</th>\n      <th>Region</th>\n      <th>Confirmed</th>\n      <th>Deaths</th>\n      <th>Recovered</th>\n    </tr>\n    <tr>\n      <th>index</th>\n      <th></th>\n      <th></th>\n      <th></th>\n      <th></th>\n      <th></th>\n      <th></th>\n    </tr>\n  </thead>\n  <tbody>\n    <tr>\n      <th>1</th>\n      <td>2020-01-22</td>\n      <td>Beijing</td>\n      <td>China</td>\n      <td>14</td>\n      <td>0</td>\n      <td>0</td>\n    </tr>\n    <tr>\n      <th>4</th>\n      <td>2020-01-22</td>\n      <td>Guangdong</td>\n      <td>China</td>\n      <td>26</td>\n      <td>0</td>\n      <td>0</td>\n    </tr>\n    <tr>\n      <th>10</th>\n      <td>2020-01-22</td>\n      <td>Hubei</td>\n      <td>China</td>\n      <td>444</td>\n      <td>17</td>\n      <td>28</td>\n    </tr>\n    <tr>\n      <th>23</th>\n      <td>2020-01-22</td>\n      <td>Zhejiang</td>\n      <td>China</td>\n      <td>10</td>\n      <td>0</td>\n      <td>0</td>\n    </tr>\n    <tr>\n      <th>30</th>\n      <td>2020-01-23</td>\n      <td>Beijing</td>\n      <td>China</td>\n      <td>22</td>\n      <td>0</td>\n      <td>0</td>\n    </tr>\n    <tr>\n      <th>...</th>\n      <td>...</td>\n      <td>...</td>\n      <td>...</td>\n      <td>...</td>\n      <td>...</td>\n      <td>...</td>\n    </tr>\n    <tr>\n      <th>39004</th>\n      <td>2020-07-27</td>\n      <td>NaN</td>\n      <td>Sao Tome and Principe</td>\n      <td>865</td>\n      <td>14</td>\n      <td>734</td>\n    </tr>\n    <tr>\n      <th>39005</th>\n      <td>2020-07-27</td>\n      <td>NaN</td>\n      <td>Yemen</td>\n      <td>1691</td>\n      <td>483</td>\n      <td>833</td>\n    </tr>\n    <tr>\n      <th>39006</th>\n      <td>2020-07-27</td>\n      <td>NaN</td>\n      <td>Comoros</td>\n      <td>354</td>\n      <td>7</td>\n      <td>328</td>\n    </tr>\n    <tr>\n      <th>39007</th>\n      <td>2020-07-27</td>\n      <td>NaN</td>\n      <td>Tajikistan</td>\n      <td>7235</td>\n      <td>60</td>\n      <td>6028</td>\n    </tr>\n    <tr>\n      <th>39008</th>\n      <td>2020-07-27</td>\n      <td>NaN</td>\n      <td>Lesotho</td>\n      <td>505</td>\n      <td>12</td>\n      <td>128</td>\n    </tr>\n  </tbody>\n</table>\n<p>35019 rows × 6 columns</p>\n</div>"
          },
          "metadata": {}
        }
      ],
      "execution_count": 120
    },
    {
      "cell_type": "markdown",
      "source": "### Q.3) In which Region, maximum number of Confirmed cases were recorded ?",
      "metadata": {}
    },
    {
      "cell_type": "code",
      "source": "data.groupby(\"Region\")[\"Confirmed\"].sum().sort_values(ascending = False).head(1)",
      "metadata": {
        "trusted": true
      },
      "outputs": [
        {
          "execution_count": 121,
          "output_type": "execute_result",
          "data": {
            "text/plain": "Region\nUS    224345894\nName: Confirmed, dtype: int64"
          },
          "metadata": {}
        }
      ],
      "execution_count": 121
    },
    {
      "cell_type": "markdown",
      "source": "### Q.4) In which Region, minimum number of Deaths cases were recorded ?",
      "metadata": {}
    },
    {
      "cell_type": "code",
      "source": "data.groupby(\"Region\")[[\"Confirmed\", \"Deaths\"]].sum().sort_values(by = \"Deaths\", ascending = True).head(10)",
      "metadata": {
        "trusted": true
      },
      "outputs": [
        {
          "execution_count": 133,
          "output_type": "execute_result",
          "data": {
            "text/plain": "             Confirmed  Deaths\nRegion                        \nFiji              2200       0\nCambodia         17000       0\nDominica          2047       0\nEritrea          11760       0\nSeychelles        3876       0\nGreenland         1473       0\nGrenada           2405       0\nTimor-Leste       2444       0\nHoly See          1082       0\nVietnam          40621       0",
            "text/html": "<div>\n<style scoped>\n    .dataframe tbody tr th:only-of-type {\n        vertical-align: middle;\n    }\n\n    .dataframe tbody tr th {\n        vertical-align: top;\n    }\n\n    .dataframe thead th {\n        text-align: right;\n    }\n</style>\n<table border=\"1\" class=\"dataframe\">\n  <thead>\n    <tr style=\"text-align: right;\">\n      <th></th>\n      <th>Confirmed</th>\n      <th>Deaths</th>\n    </tr>\n    <tr>\n      <th>Region</th>\n      <th></th>\n      <th></th>\n    </tr>\n  </thead>\n  <tbody>\n    <tr>\n      <th>Fiji</th>\n      <td>2200</td>\n      <td>0</td>\n    </tr>\n    <tr>\n      <th>Cambodia</th>\n      <td>17000</td>\n      <td>0</td>\n    </tr>\n    <tr>\n      <th>Dominica</th>\n      <td>2047</td>\n      <td>0</td>\n    </tr>\n    <tr>\n      <th>Eritrea</th>\n      <td>11760</td>\n      <td>0</td>\n    </tr>\n    <tr>\n      <th>Seychelles</th>\n      <td>3876</td>\n      <td>0</td>\n    </tr>\n    <tr>\n      <th>Greenland</th>\n      <td>1473</td>\n      <td>0</td>\n    </tr>\n    <tr>\n      <th>Grenada</th>\n      <td>2405</td>\n      <td>0</td>\n    </tr>\n    <tr>\n      <th>Timor-Leste</th>\n      <td>2444</td>\n      <td>0</td>\n    </tr>\n    <tr>\n      <th>Holy See</th>\n      <td>1082</td>\n      <td>0</td>\n    </tr>\n    <tr>\n      <th>Vietnam</th>\n      <td>40621</td>\n      <td>0</td>\n    </tr>\n  </tbody>\n</table>\n</div>"
          },
          "metadata": {}
        }
      ],
      "execution_count": 133
    },
    {
      "cell_type": "markdown",
      "source": "### Q.5) How many Confirmed , Deaths & Recovered cases were reported from India till 29 April 2020 ?",
      "metadata": {}
    },
    {
      "cell_type": "code",
      "source": "data.query('Region == \"India\" and Date <= \"2020-04-29\"').groupby(\"Region\").sum(numeric_only = True)",
      "metadata": {
        "trusted": true
      },
      "outputs": [
        {
          "execution_count": 130,
          "output_type": "execute_result",
          "data": {
            "text/plain": "        Confirmed  Deaths  Recovered\nRegion                              \nIndia      422983   13489      77552",
            "text/html": "<div>\n<style scoped>\n    .dataframe tbody tr th:only-of-type {\n        vertical-align: middle;\n    }\n\n    .dataframe tbody tr th {\n        vertical-align: top;\n    }\n\n    .dataframe thead th {\n        text-align: right;\n    }\n</style>\n<table border=\"1\" class=\"dataframe\">\n  <thead>\n    <tr style=\"text-align: right;\">\n      <th></th>\n      <th>Confirmed</th>\n      <th>Deaths</th>\n      <th>Recovered</th>\n    </tr>\n    <tr>\n      <th>Region</th>\n      <th></th>\n      <th></th>\n      <th></th>\n    </tr>\n  </thead>\n  <tbody>\n    <tr>\n      <th>India</th>\n      <td>422983</td>\n      <td>13489</td>\n      <td>77552</td>\n    </tr>\n  </tbody>\n</table>\n</div>"
          },
          "metadata": {}
        }
      ],
      "execution_count": 130
    },
    {
      "cell_type": "markdown",
      "source": "### Q. 6-A ) Sort the entire data wrt No. of Confirmed cases in ascending order.",
      "metadata": {}
    },
    {
      "cell_type": "code",
      "source": "data.sort_values(by = \"Confirmed\", ascending = True)",
      "metadata": {
        "trusted": true
      },
      "outputs": [
        {
          "execution_count": 134,
          "output_type": "execute_result",
          "data": {
            "text/plain": "             Date  State          Region  Confirmed  Deaths  Recovered\nindex                                                                 \n3819   2020-03-11    NaN          Latvia         10       0          1\n2350   2020-02-29  Macau           China         10       0          8\n33783  2020-07-07    NaN  Western Sahara         10       1          8\n16255  2020-05-01    NaN        Suriname         10       1          8\n12125  2020-04-15    NaN        Suriname         10       1          6\n...           ...    ...             ...        ...     ...        ...\n37927  2020-07-23    NaN              US    4038816  144430    1233269\n38188  2020-07-24    NaN              US    4112531  145560    1261624\n38449  2020-07-25    NaN              US    4178970  146465    1279414\n38710  2020-07-26    NaN              US    4233923  146935    1297863\n38971  2020-07-27    NaN              US    4290259  148011    1325804\n\n[35019 rows x 6 columns]",
            "text/html": "<div>\n<style scoped>\n    .dataframe tbody tr th:only-of-type {\n        vertical-align: middle;\n    }\n\n    .dataframe tbody tr th {\n        vertical-align: top;\n    }\n\n    .dataframe thead th {\n        text-align: right;\n    }\n</style>\n<table border=\"1\" class=\"dataframe\">\n  <thead>\n    <tr style=\"text-align: right;\">\n      <th></th>\n      <th>Date</th>\n      <th>State</th>\n      <th>Region</th>\n      <th>Confirmed</th>\n      <th>Deaths</th>\n      <th>Recovered</th>\n    </tr>\n    <tr>\n      <th>index</th>\n      <th></th>\n      <th></th>\n      <th></th>\n      <th></th>\n      <th></th>\n      <th></th>\n    </tr>\n  </thead>\n  <tbody>\n    <tr>\n      <th>3819</th>\n      <td>2020-03-11</td>\n      <td>NaN</td>\n      <td>Latvia</td>\n      <td>10</td>\n      <td>0</td>\n      <td>1</td>\n    </tr>\n    <tr>\n      <th>2350</th>\n      <td>2020-02-29</td>\n      <td>Macau</td>\n      <td>China</td>\n      <td>10</td>\n      <td>0</td>\n      <td>8</td>\n    </tr>\n    <tr>\n      <th>33783</th>\n      <td>2020-07-07</td>\n      <td>NaN</td>\n      <td>Western Sahara</td>\n      <td>10</td>\n      <td>1</td>\n      <td>8</td>\n    </tr>\n    <tr>\n      <th>16255</th>\n      <td>2020-05-01</td>\n      <td>NaN</td>\n      <td>Suriname</td>\n      <td>10</td>\n      <td>1</td>\n      <td>8</td>\n    </tr>\n    <tr>\n      <th>12125</th>\n      <td>2020-04-15</td>\n      <td>NaN</td>\n      <td>Suriname</td>\n      <td>10</td>\n      <td>1</td>\n      <td>6</td>\n    </tr>\n    <tr>\n      <th>...</th>\n      <td>...</td>\n      <td>...</td>\n      <td>...</td>\n      <td>...</td>\n      <td>...</td>\n      <td>...</td>\n    </tr>\n    <tr>\n      <th>37927</th>\n      <td>2020-07-23</td>\n      <td>NaN</td>\n      <td>US</td>\n      <td>4038816</td>\n      <td>144430</td>\n      <td>1233269</td>\n    </tr>\n    <tr>\n      <th>38188</th>\n      <td>2020-07-24</td>\n      <td>NaN</td>\n      <td>US</td>\n      <td>4112531</td>\n      <td>145560</td>\n      <td>1261624</td>\n    </tr>\n    <tr>\n      <th>38449</th>\n      <td>2020-07-25</td>\n      <td>NaN</td>\n      <td>US</td>\n      <td>4178970</td>\n      <td>146465</td>\n      <td>1279414</td>\n    </tr>\n    <tr>\n      <th>38710</th>\n      <td>2020-07-26</td>\n      <td>NaN</td>\n      <td>US</td>\n      <td>4233923</td>\n      <td>146935</td>\n      <td>1297863</td>\n    </tr>\n    <tr>\n      <th>38971</th>\n      <td>2020-07-27</td>\n      <td>NaN</td>\n      <td>US</td>\n      <td>4290259</td>\n      <td>148011</td>\n      <td>1325804</td>\n    </tr>\n  </tbody>\n</table>\n<p>35019 rows × 6 columns</p>\n</div>"
          },
          "metadata": {}
        }
      ],
      "execution_count": 134
    },
    {
      "cell_type": "markdown",
      "source": "### Q. 6-B ) Sort the entire data wrt No. of Recovered cases in descending order.",
      "metadata": {}
    },
    {
      "cell_type": "code",
      "source": "data.sort_values(by = 'Recovered', ascending = False)\ndata.groupby('Region').sum(numeric_only = True).sort_values(by = 'Recovered', ascending = False)",
      "metadata": {
        "trusted": true
      },
      "outputs": [
        {
          "execution_count": 137,
          "output_type": "execute_result",
          "data": {
            "text/plain": "             Confirmed    Deaths  Recovered\nRegion                                     \nUS           224345894  11011411   56353416\nBrazil        89524948   3938034   54492873\nRussia        45408336    619385   25120402\nIndia         40883365   1111831   23783669\nGermany       21059126    871322   17107839\n...                ...       ...        ...\nTimor-Leste       2444         0          0\nMozambique       57950       361          0\nSyria            20914       972          0\nSweden         4973118    448913          0\nCanada         9355329    699566          0\n\n[187 rows x 3 columns]",
            "text/html": "<div>\n<style scoped>\n    .dataframe tbody tr th:only-of-type {\n        vertical-align: middle;\n    }\n\n    .dataframe tbody tr th {\n        vertical-align: top;\n    }\n\n    .dataframe thead th {\n        text-align: right;\n    }\n</style>\n<table border=\"1\" class=\"dataframe\">\n  <thead>\n    <tr style=\"text-align: right;\">\n      <th></th>\n      <th>Confirmed</th>\n      <th>Deaths</th>\n      <th>Recovered</th>\n    </tr>\n    <tr>\n      <th>Region</th>\n      <th></th>\n      <th></th>\n      <th></th>\n    </tr>\n  </thead>\n  <tbody>\n    <tr>\n      <th>US</th>\n      <td>224345894</td>\n      <td>11011411</td>\n      <td>56353416</td>\n    </tr>\n    <tr>\n      <th>Brazil</th>\n      <td>89524948</td>\n      <td>3938034</td>\n      <td>54492873</td>\n    </tr>\n    <tr>\n      <th>Russia</th>\n      <td>45408336</td>\n      <td>619385</td>\n      <td>25120402</td>\n    </tr>\n    <tr>\n      <th>India</th>\n      <td>40883365</td>\n      <td>1111831</td>\n      <td>23783669</td>\n    </tr>\n    <tr>\n      <th>Germany</th>\n      <td>21059126</td>\n      <td>871322</td>\n      <td>17107839</td>\n    </tr>\n    <tr>\n      <th>...</th>\n      <td>...</td>\n      <td>...</td>\n      <td>...</td>\n    </tr>\n    <tr>\n      <th>Timor-Leste</th>\n      <td>2444</td>\n      <td>0</td>\n      <td>0</td>\n    </tr>\n    <tr>\n      <th>Mozambique</th>\n      <td>57950</td>\n      <td>361</td>\n      <td>0</td>\n    </tr>\n    <tr>\n      <th>Syria</th>\n      <td>20914</td>\n      <td>972</td>\n      <td>0</td>\n    </tr>\n    <tr>\n      <th>Sweden</th>\n      <td>4973118</td>\n      <td>448913</td>\n      <td>0</td>\n    </tr>\n    <tr>\n      <th>Canada</th>\n      <td>9355329</td>\n      <td>699566</td>\n      <td>0</td>\n    </tr>\n  </tbody>\n</table>\n<p>187 rows × 3 columns</p>\n</div>"
          },
          "metadata": {}
        }
      ],
      "execution_count": 137
    },
    {
      "cell_type": "markdown",
      "source": "---",
      "metadata": {}
    },
    {
      "cell_type": "markdown",
      "source": "---",
      "metadata": {}
    },
    {
      "cell_type": "markdown",
      "source": "---",
      "metadata": {}
    },
    {
      "cell_type": "markdown",
      "source": "## Solved by Dias Onaibaev",
      "metadata": {}
    },
    {
      "cell_type": "markdown",
      "source": "### By - Rohit Grewal",
      "metadata": {}
    }
  ]
}