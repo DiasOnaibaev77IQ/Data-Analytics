{
  "metadata": {
    "kernelspec": {
      "name": "python",
      "display_name": "Python (Pyodide)",
      "language": "python"
    },
    "language_info": {
      "codemirror_mode": {
        "name": "python",
        "version": 3
      },
      "file_extension": ".py",
      "mimetype": "text/x-python",
      "name": "python",
      "nbconvert_exporter": "python",
      "pygments_lexer": "ipython3",
      "version": "3.8"
    }
  },
  "nbformat_minor": 4,
  "nbformat": 4,
  "cells": [
    {
      "cell_type": "markdown",
      "source": "# Working on Real Project with Python on 'London Housing Dataset'",
      "metadata": {}
    },
    {
      "cell_type": "markdown",
      "source": "## (A part of Big Data Analysis)",
      "metadata": {}
    },
    {
      "cell_type": "markdown",
      "source": "----",
      "metadata": {}
    },
    {
      "cell_type": "markdown",
      "source": "# LONDON HOUSING DATASET",
      "metadata": {}
    },
    {
      "cell_type": "markdown",
      "source": "-----",
      "metadata": {}
    },
    {
      "cell_type": "markdown",
      "source": "This dataset is primarily centered around the housing market of London. It contains a lot of additional relevant data:\n\n* Monthly average house prices\n* Yearly number of houses sold\n* Monthly number of crimes committed",
      "metadata": {}
    },
    {
      "cell_type": "markdown",
      "source": "The data used here is from year 1995 to 2019 of each different area.",
      "metadata": {}
    },
    {
      "cell_type": "markdown",
      "source": "This data is available as a CSV file, downloaded from Kaggle.",
      "metadata": {}
    },
    {
      "cell_type": "markdown",
      "source": "We will analyze this data using the Pandas DataFrame.",
      "metadata": {}
    },
    {
      "cell_type": "markdown",
      "source": "Here, random sets of quesitons are given for which we have to find correct results.",
      "metadata": {}
    },
    {
      "cell_type": "markdown",
      "source": "This project is for beginners and for those who want to know how we analyze big data with Python.",
      "metadata": {}
    },
    {
      "cell_type": "markdown",
      "source": " ----",
      "metadata": {}
    },
    {
      "cell_type": "code",
      "source": "import pandas as pd",
      "metadata": {
        "trusted": true
      },
      "outputs": [],
      "execution_count": 87
    },
    {
      "cell_type": "code",
      "source": "data = pd.read_csv('csv_files/housing_data.csv')",
      "metadata": {
        "trusted": true
      },
      "outputs": [],
      "execution_count": 88
    },
    {
      "cell_type": "code",
      "source": "data",
      "metadata": {
        "trusted": true
      },
      "outputs": [
        {
          "execution_count": 89,
          "output_type": "execute_result",
          "data": {
            "text/plain": "            date            area  average_price       code  houses_sold  \\\n0       1/1/1995  city of london          91449  E09000001         17.0   \n1       2/1/1995  city of london          82203  E09000001          7.0   \n2       3/1/1995  city of london          79121  E09000001         14.0   \n3       4/1/1995  city of london          77101  E09000001          7.0   \n4       5/1/1995  city of london          84409  E09000001         10.0   \n...          ...             ...            ...        ...          ...   \n13544   9/1/2019         england         249942  E92000001      64605.0   \n13545  10/1/2019         england         249376  E92000001      68677.0   \n13546  11/1/2019         england         248515  E92000001      67814.0   \n13547  12/1/2019         england         250410  E92000001          NaN   \n13548   1/1/2020         england         247355  E92000001          NaN   \n\n       no_of_crimes  \n0               NaN  \n1               NaN  \n2               NaN  \n3               NaN  \n4               NaN  \n...             ...  \n13544           NaN  \n13545           NaN  \n13546           NaN  \n13547           NaN  \n13548           NaN  \n\n[13549 rows x 6 columns]",
            "text/html": "<div>\n<style scoped>\n    .dataframe tbody tr th:only-of-type {\n        vertical-align: middle;\n    }\n\n    .dataframe tbody tr th {\n        vertical-align: top;\n    }\n\n    .dataframe thead th {\n        text-align: right;\n    }\n</style>\n<table border=\"1\" class=\"dataframe\">\n  <thead>\n    <tr style=\"text-align: right;\">\n      <th></th>\n      <th>date</th>\n      <th>area</th>\n      <th>average_price</th>\n      <th>code</th>\n      <th>houses_sold</th>\n      <th>no_of_crimes</th>\n    </tr>\n  </thead>\n  <tbody>\n    <tr>\n      <th>0</th>\n      <td>1/1/1995</td>\n      <td>city of london</td>\n      <td>91449</td>\n      <td>E09000001</td>\n      <td>17.0</td>\n      <td>NaN</td>\n    </tr>\n    <tr>\n      <th>1</th>\n      <td>2/1/1995</td>\n      <td>city of london</td>\n      <td>82203</td>\n      <td>E09000001</td>\n      <td>7.0</td>\n      <td>NaN</td>\n    </tr>\n    <tr>\n      <th>2</th>\n      <td>3/1/1995</td>\n      <td>city of london</td>\n      <td>79121</td>\n      <td>E09000001</td>\n      <td>14.0</td>\n      <td>NaN</td>\n    </tr>\n    <tr>\n      <th>3</th>\n      <td>4/1/1995</td>\n      <td>city of london</td>\n      <td>77101</td>\n      <td>E09000001</td>\n      <td>7.0</td>\n      <td>NaN</td>\n    </tr>\n    <tr>\n      <th>4</th>\n      <td>5/1/1995</td>\n      <td>city of london</td>\n      <td>84409</td>\n      <td>E09000001</td>\n      <td>10.0</td>\n      <td>NaN</td>\n    </tr>\n    <tr>\n      <th>...</th>\n      <td>...</td>\n      <td>...</td>\n      <td>...</td>\n      <td>...</td>\n      <td>...</td>\n      <td>...</td>\n    </tr>\n    <tr>\n      <th>13544</th>\n      <td>9/1/2019</td>\n      <td>england</td>\n      <td>249942</td>\n      <td>E92000001</td>\n      <td>64605.0</td>\n      <td>NaN</td>\n    </tr>\n    <tr>\n      <th>13545</th>\n      <td>10/1/2019</td>\n      <td>england</td>\n      <td>249376</td>\n      <td>E92000001</td>\n      <td>68677.0</td>\n      <td>NaN</td>\n    </tr>\n    <tr>\n      <th>13546</th>\n      <td>11/1/2019</td>\n      <td>england</td>\n      <td>248515</td>\n      <td>E92000001</td>\n      <td>67814.0</td>\n      <td>NaN</td>\n    </tr>\n    <tr>\n      <th>13547</th>\n      <td>12/1/2019</td>\n      <td>england</td>\n      <td>250410</td>\n      <td>E92000001</td>\n      <td>NaN</td>\n      <td>NaN</td>\n    </tr>\n    <tr>\n      <th>13548</th>\n      <td>1/1/2020</td>\n      <td>england</td>\n      <td>247355</td>\n      <td>E92000001</td>\n      <td>NaN</td>\n      <td>NaN</td>\n    </tr>\n  </tbody>\n</table>\n<p>13549 rows × 6 columns</p>\n</div>"
          },
          "metadata": {}
        }
      ],
      "execution_count": 89
    },
    {
      "cell_type": "code",
      "source": "# 1. \n# df.count()\n# df.isnull().sum()",
      "metadata": {},
      "outputs": [],
      "execution_count": 4
    },
    {
      "cell_type": "code",
      "source": "%pip install seaborn",
      "metadata": {
        "trusted": true
      },
      "outputs": [],
      "execution_count": 8
    },
    {
      "cell_type": "code",
      "source": "# 2.\nimport seaborn as sns\nimport matplotlib.pyplot as plt\nsns.heatmap(data.isnull())\nplt.show()",
      "metadata": {
        "trusted": true
      },
      "outputs": [
        {
          "output_type": "display_data",
          "data": {
            "text/plain": "<Figure size 640x480 with 2 Axes>",
            "image/png": "[encoded data removed]"
          },
          "metadata": {}
        }
      ],
      "execution_count": 10
    },
    {
      "cell_type": "markdown",
      "source": "-----",
      "metadata": {}
    },
    {
      "cell_type": "markdown",
      "source": "### (A) Convert the Datatype of 'Date' column to Date-Time format.",
      "metadata": {}
    },
    {
      "cell_type": "code",
      "source": "data.date = pd.to_datetime(data.date)",
      "metadata": {
        "trusted": true
      },
      "outputs": [],
      "execution_count": 90
    },
    {
      "cell_type": "code",
      "source": "data.dtypes",
      "metadata": {
        "trusted": true
      },
      "outputs": [
        {
          "execution_count": 91,
          "output_type": "execute_result",
          "data": {
            "text/plain": "date             datetime64[ns]\narea                     object\naverage_price             int64\ncode                     object\nhouses_sold             float64\nno_of_crimes            float64\ndtype: object"
          },
          "metadata": {}
        }
      ],
      "execution_count": 91
    },
    {
      "cell_type": "markdown",
      "source": "### (B.1) Add a new column ''year'' in the dataframe, which contains years only.",
      "metadata": {}
    },
    {
      "cell_type": "code",
      "source": "data['year'] = data.date.dt.year",
      "metadata": {
        "trusted": true
      },
      "outputs": [],
      "execution_count": 92
    },
    {
      "cell_type": "code",
      "source": "data.insert(1, 'year', data.date.dt.year)",
      "metadata": {
        "trusted": true
      },
      "outputs": [],
      "execution_count": 97
    },
    {
      "cell_type": "markdown",
      "source": "### (B.2) Add a new column ''month'' as 2nd column in the dataframe, which contains month only.",
      "metadata": {}
    },
    {
      "cell_type": "code",
      "source": "data.insert(1, 'month', data.date.dt.month)",
      "metadata": {
        "trusted": true
      },
      "outputs": [],
      "execution_count": 93
    },
    {
      "cell_type": "code",
      "source": "data.head(3)",
      "metadata": {
        "trusted": true
      },
      "outputs": [
        {
          "execution_count": 94,
          "output_type": "execute_result",
          "data": {
            "text/plain": "        date  month            area  average_price       code  houses_sold  \\\n0 1995-01-01      1  city of london          91449  E09000001         17.0   \n1 1995-02-01      2  city of london          82203  E09000001          7.0   \n2 1995-03-01      3  city of london          79121  E09000001         14.0   \n\n   no_of_crimes  year  \n0           NaN  1995  \n1           NaN  1995  \n2           NaN  1995  ",
            "text/html": "<div>\n<style scoped>\n    .dataframe tbody tr th:only-of-type {\n        vertical-align: middle;\n    }\n\n    .dataframe tbody tr th {\n        vertical-align: top;\n    }\n\n    .dataframe thead th {\n        text-align: right;\n    }\n</style>\n<table border=\"1\" class=\"dataframe\">\n  <thead>\n    <tr style=\"text-align: right;\">\n      <th></th>\n      <th>date</th>\n      <th>month</th>\n      <th>area</th>\n      <th>average_price</th>\n      <th>code</th>\n      <th>houses_sold</th>\n      <th>no_of_crimes</th>\n      <th>year</th>\n    </tr>\n  </thead>\n  <tbody>\n    <tr>\n      <th>0</th>\n      <td>1995-01-01</td>\n      <td>1</td>\n      <td>city of london</td>\n      <td>91449</td>\n      <td>E09000001</td>\n      <td>17.0</td>\n      <td>NaN</td>\n      <td>1995</td>\n    </tr>\n    <tr>\n      <th>1</th>\n      <td>1995-02-01</td>\n      <td>2</td>\n      <td>city of london</td>\n      <td>82203</td>\n      <td>E09000001</td>\n      <td>7.0</td>\n      <td>NaN</td>\n      <td>1995</td>\n    </tr>\n    <tr>\n      <th>2</th>\n      <td>1995-03-01</td>\n      <td>3</td>\n      <td>city of london</td>\n      <td>79121</td>\n      <td>E09000001</td>\n      <td>14.0</td>\n      <td>NaN</td>\n      <td>1995</td>\n    </tr>\n  </tbody>\n</table>\n</div>"
          },
          "metadata": {}
        }
      ],
      "execution_count": 94
    },
    {
      "cell_type": "markdown",
      "source": "### (C) Remove the columns 'year' and 'month' from the dataframe.",
      "metadata": {}
    },
    {
      "cell_type": "code",
      "source": "data.drop(['year', 'month'], axis = 1, inplace = True)",
      "metadata": {
        "trusted": true
      },
      "outputs": [],
      "execution_count": 95
    },
    {
      "cell_type": "code",
      "source": "data.head(3)",
      "metadata": {
        "trusted": true
      },
      "outputs": [
        {
          "execution_count": 96,
          "output_type": "execute_result",
          "data": {
            "text/plain": "        date            area  average_price       code  houses_sold  \\\n0 1995-01-01  city of london          91449  E09000001         17.0   \n1 1995-02-01  city of london          82203  E09000001          7.0   \n2 1995-03-01  city of london          79121  E09000001         14.0   \n\n   no_of_crimes  \n0           NaN  \n1           NaN  \n2           NaN  ",
            "text/html": "<div>\n<style scoped>\n    .dataframe tbody tr th:only-of-type {\n        vertical-align: middle;\n    }\n\n    .dataframe tbody tr th {\n        vertical-align: top;\n    }\n\n    .dataframe thead th {\n        text-align: right;\n    }\n</style>\n<table border=\"1\" class=\"dataframe\">\n  <thead>\n    <tr style=\"text-align: right;\">\n      <th></th>\n      <th>date</th>\n      <th>area</th>\n      <th>average_price</th>\n      <th>code</th>\n      <th>houses_sold</th>\n      <th>no_of_crimes</th>\n    </tr>\n  </thead>\n  <tbody>\n    <tr>\n      <th>0</th>\n      <td>1995-01-01</td>\n      <td>city of london</td>\n      <td>91449</td>\n      <td>E09000001</td>\n      <td>17.0</td>\n      <td>NaN</td>\n    </tr>\n    <tr>\n      <th>1</th>\n      <td>1995-02-01</td>\n      <td>city of london</td>\n      <td>82203</td>\n      <td>E09000001</td>\n      <td>7.0</td>\n      <td>NaN</td>\n    </tr>\n    <tr>\n      <th>2</th>\n      <td>1995-03-01</td>\n      <td>city of london</td>\n      <td>79121</td>\n      <td>E09000001</td>\n      <td>14.0</td>\n      <td>NaN</td>\n    </tr>\n  </tbody>\n</table>\n</div>"
          },
          "metadata": {}
        }
      ],
      "execution_count": 96
    },
    {
      "cell_type": "markdown",
      "source": "### (D) Show all the records where 'No. of Crimes' is 0. And, how many such records are there ?",
      "metadata": {}
    },
    {
      "cell_type": "code",
      "source": "data.head(3)",
      "metadata": {
        "trusted": true
      },
      "outputs": [
        {
          "execution_count": 98,
          "output_type": "execute_result",
          "data": {
            "text/plain": "        date  year            area  average_price       code  houses_sold  \\\n0 1995-01-01  1995  city of london          91449  E09000001         17.0   \n1 1995-02-01  1995  city of london          82203  E09000001          7.0   \n2 1995-03-01  1995  city of london          79121  E09000001         14.0   \n\n   no_of_crimes  \n0           NaN  \n1           NaN  \n2           NaN  ",
            "text/html": "<div>\n<style scoped>\n    .dataframe tbody tr th:only-of-type {\n        vertical-align: middle;\n    }\n\n    .dataframe tbody tr th {\n        vertical-align: top;\n    }\n\n    .dataframe thead th {\n        text-align: right;\n    }\n</style>\n<table border=\"1\" class=\"dataframe\">\n  <thead>\n    <tr style=\"text-align: right;\">\n      <th></th>\n      <th>date</th>\n      <th>year</th>\n      <th>area</th>\n      <th>average_price</th>\n      <th>code</th>\n      <th>houses_sold</th>\n      <th>no_of_crimes</th>\n    </tr>\n  </thead>\n  <tbody>\n    <tr>\n      <th>0</th>\n      <td>1995-01-01</td>\n      <td>1995</td>\n      <td>city of london</td>\n      <td>91449</td>\n      <td>E09000001</td>\n      <td>17.0</td>\n      <td>NaN</td>\n    </tr>\n    <tr>\n      <th>1</th>\n      <td>1995-02-01</td>\n      <td>1995</td>\n      <td>city of london</td>\n      <td>82203</td>\n      <td>E09000001</td>\n      <td>7.0</td>\n      <td>NaN</td>\n    </tr>\n    <tr>\n      <th>2</th>\n      <td>1995-03-01</td>\n      <td>1995</td>\n      <td>city of london</td>\n      <td>79121</td>\n      <td>E09000001</td>\n      <td>14.0</td>\n      <td>NaN</td>\n    </tr>\n  </tbody>\n</table>\n</div>"
          },
          "metadata": {}
        }
      ],
      "execution_count": 98
    },
    {
      "cell_type": "code",
      "source": "(data.no_of_crimes == 0).sum()",
      "metadata": {
        "trusted": true
      },
      "outputs": [
        {
          "execution_count": 99,
          "output_type": "execute_result",
          "data": {
            "text/plain": "104"
          },
          "metadata": {}
        }
      ],
      "execution_count": 99
    },
    {
      "cell_type": "markdown",
      "source": "### (E) What is the maximum & minimum 'average_price' per year in england ?",
      "metadata": {}
    },
    {
      "cell_type": "code",
      "source": "data.query(\"area == 'england'\").agg({'average_price' : ['max', 'min']})",
      "metadata": {
        "trusted": true
      },
      "outputs": [
        {
          "execution_count": 100,
          "output_type": "execute_result",
          "data": {
            "text/plain": "     average_price\nmax         250410\nmin          52333",
            "text/html": "<div>\n<style scoped>\n    .dataframe tbody tr th:only-of-type {\n        vertical-align: middle;\n    }\n\n    .dataframe tbody tr th {\n        vertical-align: top;\n    }\n\n    .dataframe thead th {\n        text-align: right;\n    }\n</style>\n<table border=\"1\" class=\"dataframe\">\n  <thead>\n    <tr style=\"text-align: right;\">\n      <th></th>\n      <th>average_price</th>\n    </tr>\n  </thead>\n  <tbody>\n    <tr>\n      <th>max</th>\n      <td>250410</td>\n    </tr>\n    <tr>\n      <th>min</th>\n      <td>52333</td>\n    </tr>\n  </tbody>\n</table>\n</div>"
          },
          "metadata": {}
        }
      ],
      "execution_count": 100
    },
    {
      "cell_type": "code",
      "source": "data.query(\"area == 'england'\").groupby('area').agg({'average_price' : ['max', 'min']})",
      "metadata": {
        "trusted": true
      },
      "outputs": [
        {
          "execution_count": 101,
          "output_type": "execute_result",
          "data": {
            "text/plain": "        average_price       \n                  max    min\narea                        \nengland        250410  52333",
            "text/html": "<div>\n<style scoped>\n    .dataframe tbody tr th:only-of-type {\n        vertical-align: middle;\n    }\n\n    .dataframe tbody tr th {\n        vertical-align: top;\n    }\n\n    .dataframe thead tr th {\n        text-align: left;\n    }\n\n    .dataframe thead tr:last-of-type th {\n        text-align: right;\n    }\n</style>\n<table border=\"1\" class=\"dataframe\">\n  <thead>\n    <tr>\n      <th></th>\n      <th colspan=\"2\" halign=\"left\">average_price</th>\n    </tr>\n    <tr>\n      <th></th>\n      <th>max</th>\n      <th>min</th>\n    </tr>\n    <tr>\n      <th>area</th>\n      <th></th>\n      <th></th>\n    </tr>\n  </thead>\n  <tbody>\n    <tr>\n      <th>england</th>\n      <td>250410</td>\n      <td>52333</td>\n    </tr>\n  </tbody>\n</table>\n</div>"
          },
          "metadata": {}
        }
      ],
      "execution_count": 101
    },
    {
      "cell_type": "markdown",
      "source": "### (F) What is the Maximum & Minimum No. of Crimes recorded per area ?",
      "metadata": {}
    },
    {
      "cell_type": "code",
      "source": "data.groupby('area').agg({'no_of_crimes': ['max', 'min']})",
      "metadata": {
        "trusted": true
      },
      "outputs": [
        {
          "execution_count": 102,
          "output_type": "execute_result",
          "data": {
            "text/plain": "                       no_of_crimes        \n                                max     min\narea                                       \nbarking and dagenham         2049.0  1217.0\nbarnet                       2893.0  1703.0\nbexley                       1914.0   860.0\nbrent                        2937.0  1850.0\nbromley                      2637.0  1441.0\ncamden                       4558.0  2079.0\ncity of london                 10.0     0.0\ncroydon                      3263.0  2031.0\nealing                       3401.0  1871.0\neast midlands                   NaN     NaN\neast of england                 NaN     NaN\nenfield                      2798.0  1635.0\nengland                         NaN     NaN\ngreenwich                    2853.0  1513.0\nhackney                      3466.0  1870.0\nhammersmith and fulham       2645.0  1323.0\nharingey                     3199.0  1536.0\nharrow                       1763.0   937.0\nhavering                     1956.0  1130.0\nhillingdon                   2819.0  1445.0\nhounslow                     2817.0  1529.0\ninner london                    NaN     NaN\nislington                    3384.0  1871.0\nkensington and chelsea       2778.0  1347.0\nkingston upon thames         1379.0   692.0\nlambeth                      4701.0  2381.0\nlewisham                     2813.0  1675.0\nlondon                          NaN     NaN\nmerton                       1623.0   819.0\nnewham                       3668.0  2130.0\nnorth east                      NaN     NaN\nnorth west                      NaN     NaN\nouter london                    NaN     NaN\nredbridge                    2560.0  1487.0\nrichmond upon thames         1551.0   700.0\nsouth east                      NaN     NaN\nsouth west                      NaN     NaN\nsouthwark                    3821.0  2267.0\nsutton                       1425.0   787.0\ntower hamlets                3316.0  1646.0\nwaltham forest               2941.0  1575.0\nwandsworth                   3051.0  1582.0\nwest midlands                   NaN     NaN\nwestminster                  7461.0  3504.0\nyorks and the humber            NaN     NaN",
            "text/html": "<div>\n<style scoped>\n    .dataframe tbody tr th:only-of-type {\n        vertical-align: middle;\n    }\n\n    .dataframe tbody tr th {\n        vertical-align: top;\n    }\n\n    .dataframe thead tr th {\n        text-align: left;\n    }\n\n    .dataframe thead tr:last-of-type th {\n        text-align: right;\n    }\n</style>\n<table border=\"1\" class=\"dataframe\">\n  <thead>\n    <tr>\n      <th></th>\n      <th colspan=\"2\" halign=\"left\">no_of_crimes</th>\n    </tr>\n    <tr>\n      <th></th>\n      <th>max</th>\n      <th>min</th>\n    </tr>\n    <tr>\n      <th>area</th>\n      <th></th>\n      <th></th>\n    </tr>\n  </thead>\n  <tbody>\n    <tr>\n      <th>barking and dagenham</th>\n      <td>2049.0</td>\n      <td>1217.0</td>\n    </tr>\n    <tr>\n      <th>barnet</th>\n      <td>2893.0</td>\n      <td>1703.0</td>\n    </tr>\n    <tr>\n      <th>bexley</th>\n      <td>1914.0</td>\n      <td>860.0</td>\n    </tr>\n    <tr>\n      <th>brent</th>\n      <td>2937.0</td>\n      <td>1850.0</td>\n    </tr>\n    <tr>\n      <th>bromley</th>\n      <td>2637.0</td>\n      <td>1441.0</td>\n    </tr>\n    <tr>\n      <th>camden</th>\n      <td>4558.0</td>\n      <td>2079.0</td>\n    </tr>\n    <tr>\n      <th>city of london</th>\n      <td>10.0</td>\n      <td>0.0</td>\n    </tr>\n    <tr>\n      <th>croydon</th>\n      <td>3263.0</td>\n      <td>2031.0</td>\n    </tr>\n    <tr>\n      <th>ealing</th>\n      <td>3401.0</td>\n      <td>1871.0</td>\n    </tr>\n    <tr>\n      <th>east midlands</th>\n      <td>NaN</td>\n      <td>NaN</td>\n    </tr>\n    <tr>\n      <th>east of england</th>\n      <td>NaN</td>\n      <td>NaN</td>\n    </tr>\n    <tr>\n      <th>enfield</th>\n      <td>2798.0</td>\n      <td>1635.0</td>\n    </tr>\n    <tr>\n      <th>england</th>\n      <td>NaN</td>\n      <td>NaN</td>\n    </tr>\n    <tr>\n      <th>greenwich</th>\n      <td>2853.0</td>\n      <td>1513.0</td>\n    </tr>\n    <tr>\n      <th>hackney</th>\n      <td>3466.0</td>\n      <td>1870.0</td>\n    </tr>\n    <tr>\n      <th>hammersmith and fulham</th>\n      <td>2645.0</td>\n      <td>1323.0</td>\n    </tr>\n    <tr>\n      <th>haringey</th>\n      <td>3199.0</td>\n      <td>1536.0</td>\n    </tr>\n    <tr>\n      <th>harrow</th>\n      <td>1763.0</td>\n      <td>937.0</td>\n    </tr>\n    <tr>\n      <th>havering</th>\n      <td>1956.0</td>\n      <td>1130.0</td>\n    </tr>\n    <tr>\n      <th>hillingdon</th>\n      <td>2819.0</td>\n      <td>1445.0</td>\n    </tr>\n    <tr>\n      <th>hounslow</th>\n      <td>2817.0</td>\n      <td>1529.0</td>\n    </tr>\n    <tr>\n      <th>inner london</th>\n      <td>NaN</td>\n      <td>NaN</td>\n    </tr>\n    <tr>\n      <th>islington</th>\n      <td>3384.0</td>\n      <td>1871.0</td>\n    </tr>\n    <tr>\n      <th>kensington and chelsea</th>\n      <td>2778.0</td>\n      <td>1347.0</td>\n    </tr>\n    <tr>\n      <th>kingston upon thames</th>\n      <td>1379.0</td>\n      <td>692.0</td>\n    </tr>\n    <tr>\n      <th>lambeth</th>\n      <td>4701.0</td>\n      <td>2381.0</td>\n    </tr>\n    <tr>\n      <th>lewisham</th>\n      <td>2813.0</td>\n      <td>1675.0</td>\n    </tr>\n    <tr>\n      <th>london</th>\n      <td>NaN</td>\n      <td>NaN</td>\n    </tr>\n    <tr>\n      <th>merton</th>\n      <td>1623.0</td>\n      <td>819.0</td>\n    </tr>\n    <tr>\n      <th>newham</th>\n      <td>3668.0</td>\n      <td>2130.0</td>\n    </tr>\n    <tr>\n      <th>north east</th>\n      <td>NaN</td>\n      <td>NaN</td>\n    </tr>\n    <tr>\n      <th>north west</th>\n      <td>NaN</td>\n      <td>NaN</td>\n    </tr>\n    <tr>\n      <th>outer london</th>\n      <td>NaN</td>\n      <td>NaN</td>\n    </tr>\n    <tr>\n      <th>redbridge</th>\n      <td>2560.0</td>\n      <td>1487.0</td>\n    </tr>\n    <tr>\n      <th>richmond upon thames</th>\n      <td>1551.0</td>\n      <td>700.0</td>\n    </tr>\n    <tr>\n      <th>south east</th>\n      <td>NaN</td>\n      <td>NaN</td>\n    </tr>\n    <tr>\n      <th>south west</th>\n      <td>NaN</td>\n      <td>NaN</td>\n    </tr>\n    <tr>\n      <th>southwark</th>\n      <td>3821.0</td>\n      <td>2267.0</td>\n    </tr>\n    <tr>\n      <th>sutton</th>\n      <td>1425.0</td>\n      <td>787.0</td>\n    </tr>\n    <tr>\n      <th>tower hamlets</th>\n      <td>3316.0</td>\n      <td>1646.0</td>\n    </tr>\n    <tr>\n      <th>waltham forest</th>\n      <td>2941.0</td>\n      <td>1575.0</td>\n    </tr>\n    <tr>\n      <th>wandsworth</th>\n      <td>3051.0</td>\n      <td>1582.0</td>\n    </tr>\n    <tr>\n      <th>west midlands</th>\n      <td>NaN</td>\n      <td>NaN</td>\n    </tr>\n    <tr>\n      <th>westminster</th>\n      <td>7461.0</td>\n      <td>3504.0</td>\n    </tr>\n    <tr>\n      <th>yorks and the humber</th>\n      <td>NaN</td>\n      <td>NaN</td>\n    </tr>\n  </tbody>\n</table>\n</div>"
          },
          "metadata": {}
        }
      ],
      "execution_count": 102
    },
    {
      "cell_type": "markdown",
      "source": "### (G) Show the total count of records of each area, where average price is less than 100000.",
      "metadata": {}
    },
    {
      "cell_type": "code",
      "source": "data.query(\"average_price < 100000\").groupby('area').area.count()",
      "metadata": {
        "trusted": true
      },
      "outputs": [
        {
          "execution_count": 104,
          "output_type": "execute_result",
          "data": {
            "text/plain": "area\nbarking and dagenham     85\nbarnet                   25\nbexley                   64\nbrent                    40\nbromley                  33\ncity of london           11\ncroydon                  57\nealing                   31\neast midlands            96\neast of england          76\nenfield                  54\nengland                  87\ngreenwich                59\nhackney                  53\nharingey                 33\nharrow                   30\nhavering                 60\nhillingdon               44\nhounslow                 41\ninner london             31\nislington                19\nkingston upon thames     30\nlambeth                  41\nlewisham                 62\nlondon                   39\nmerton                   35\nnewham                   72\nnorth east              112\nnorth west              111\nouter london             46\nredbridge                52\nsouth east               59\nsouth west               78\nsouthwark                48\nsutton                   54\ntower hamlets            47\nwaltham forest           64\nwandsworth               26\nwest midlands            94\nyorks and the humber    110\nName: area, dtype: int64"
          },
          "metadata": {}
        }
      ],
      "execution_count": 104
    },
    {
      "cell_type": "markdown",
      "source": "---",
      "metadata": {}
    },
    {
      "cell_type": "markdown",
      "source": "---",
      "metadata": {}
    },
    {
      "cell_type": "markdown",
      "source": "---",
      "metadata": {}
    },
    {
      "cell_type": "markdown",
      "source": "### Solved by Dias Onaibaev",
      "metadata": {}
    },
    {
      "cell_type": "markdown",
      "source": "## By - Rohit Grewal",
      "metadata": {}
    }
  ]
}