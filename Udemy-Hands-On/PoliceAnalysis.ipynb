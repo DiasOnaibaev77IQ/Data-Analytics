{
  "metadata": {
    "kernelspec": {
      "name": "python",
      "display_name": "Python (Pyodide)",
      "language": "python"
    },
    "language_info": {
      "codemirror_mode": {
        "name": "python",
        "version": 3
      },
      "file_extension": ".py",
      "mimetype": "text/x-python",
      "name": "python",
      "nbconvert_exporter": "python",
      "pygments_lexer": "ipython3",
      "version": "3.8"
    }
  },
  "nbformat_minor": 4,
  "nbformat": 4,
  "cells": [
    {
      "cell_type": "markdown",
      "source": "# Working on Real Project with Python ",
      "metadata": {}
    },
    {
      "cell_type": "markdown",
      "source": "## (A part of Big Data Analysis)",
      "metadata": {}
    },
    {
      "cell_type": "markdown",
      "source": "***",
      "metadata": {}
    },
    {
      "cell_type": "markdown",
      "source": "# Police Dataset\n***\nHere, \n\nThe data from a Police Check Post is given.\n\nThis data is available as a CSV file. We are going to analyze this data set using the Pandas DataFrame.",
      "metadata": {}
    },
    {
      "cell_type": "code",
      "source": "import pandas as pd",
      "metadata": {
        "trusted": true
      },
      "outputs": [],
      "execution_count": 29
    },
    {
      "cell_type": "code",
      "source": "data = pd.read_csv('csv_files/police_data.csv')",
      "metadata": {
        "trusted": true
      },
      "outputs": [],
      "execution_count": 30
    },
    {
      "cell_type": "code",
      "source": "data",
      "metadata": {
        "trusted": true
      },
      "outputs": [
        {
          "execution_count": 31,
          "output_type": "execute_result",
          "data": {
            "text/plain": "       stop_date stop_time  country_name driver_gender  driver_age_raw  \\\n0       1/2/2005      1:55           NaN             M          1985.0   \n1      1/18/2005      8:15           NaN             M          1965.0   \n2      1/23/2005     23:15           NaN             M          1972.0   \n3      2/20/2005     17:15           NaN             M          1986.0   \n4      3/14/2005     10:00           NaN             F          1984.0   \n...          ...       ...           ...           ...             ...   \n65530  12/6/2012     17:54           NaN             F          1987.0   \n65531  12/6/2012     22:22           NaN             M          1954.0   \n65532  12/6/2012     23:20           NaN             M          1985.0   \n65533  12/7/2012      0:23           NaN           NaN             NaN   \n65534  12/7/2012      0:30           NaN             F          1985.0   \n\n       driver_age driver_race                   violation_raw  violation  \\\n0            20.0       White                        Speeding   Speeding   \n1            40.0       White                        Speeding   Speeding   \n2            33.0       White                        Speeding   Speeding   \n3            19.0       White                Call for Service      Other   \n4            21.0       White                        Speeding   Speeding   \n...           ...         ...                             ...        ...   \n65530        25.0       White                        Speeding   Speeding   \n65531        58.0       White                        Speeding   Speeding   \n65532        27.0       Black  Equipment/Inspection Violation  Equipment   \n65533         NaN         NaN                             NaN        NaN   \n65534        27.0       White                        Speeding   Speeding   \n\n       search_conducted search_type   stop_outcome is_arrested stop_duration  \\\n0                 False         NaN       Citation       False      0-15 Min   \n1                 False         NaN       Citation       False      0-15 Min   \n2                 False         NaN       Citation       False      0-15 Min   \n3                 False         NaN  Arrest Driver        True     16-30 Min   \n4                 False         NaN       Citation       False      0-15 Min   \n...                 ...         ...            ...         ...           ...   \n65530             False         NaN       Citation       False      0-15 Min   \n65531             False         NaN        Warning       False      0-15 Min   \n65532             False         NaN       Citation       False      0-15 Min   \n65533             False         NaN            NaN         NaN           NaN   \n65534             False         NaN       Citation       False      0-15 Min   \n\n       drugs_related_stop  \n0                   False  \n1                   False  \n2                   False  \n3                   False  \n4                   False  \n...                   ...  \n65530               False  \n65531               False  \n65532               False  \n65533               False  \n65534               False  \n\n[65535 rows x 15 columns]",
            "text/html": "<div>\n<style scoped>\n    .dataframe tbody tr th:only-of-type {\n        vertical-align: middle;\n    }\n\n    .dataframe tbody tr th {\n        vertical-align: top;\n    }\n\n    .dataframe thead th {\n        text-align: right;\n    }\n</style>\n<table border=\"1\" class=\"dataframe\">\n  <thead>\n    <tr style=\"text-align: right;\">\n      <th></th>\n      <th>stop_date</th>\n      <th>stop_time</th>\n      <th>country_name</th>\n      <th>driver_gender</th>\n      <th>driver_age_raw</th>\n      <th>driver_age</th>\n      <th>driver_race</th>\n      <th>violation_raw</th>\n      <th>violation</th>\n      <th>search_conducted</th>\n      <th>search_type</th>\n      <th>stop_outcome</th>\n      <th>is_arrested</th>\n      <th>stop_duration</th>\n      <th>drugs_related_stop</th>\n    </tr>\n  </thead>\n  <tbody>\n    <tr>\n      <th>0</th>\n      <td>1/2/2005</td>\n      <td>1:55</td>\n      <td>NaN</td>\n      <td>M</td>\n      <td>1985.0</td>\n      <td>20.0</td>\n      <td>White</td>\n      <td>Speeding</td>\n      <td>Speeding</td>\n      <td>False</td>\n      <td>NaN</td>\n      <td>Citation</td>\n      <td>False</td>\n      <td>0-15 Min</td>\n      <td>False</td>\n    </tr>\n    <tr>\n      <th>1</th>\n      <td>1/18/2005</td>\n      <td>8:15</td>\n      <td>NaN</td>\n      <td>M</td>\n      <td>1965.0</td>\n      <td>40.0</td>\n      <td>White</td>\n      <td>Speeding</td>\n      <td>Speeding</td>\n      <td>False</td>\n      <td>NaN</td>\n      <td>Citation</td>\n      <td>False</td>\n      <td>0-15 Min</td>\n      <td>False</td>\n    </tr>\n    <tr>\n      <th>2</th>\n      <td>1/23/2005</td>\n      <td>23:15</td>\n      <td>NaN</td>\n      <td>M</td>\n      <td>1972.0</td>\n      <td>33.0</td>\n      <td>White</td>\n      <td>Speeding</td>\n      <td>Speeding</td>\n      <td>False</td>\n      <td>NaN</td>\n      <td>Citation</td>\n      <td>False</td>\n      <td>0-15 Min</td>\n      <td>False</td>\n    </tr>\n    <tr>\n      <th>3</th>\n      <td>2/20/2005</td>\n      <td>17:15</td>\n      <td>NaN</td>\n      <td>M</td>\n      <td>1986.0</td>\n      <td>19.0</td>\n      <td>White</td>\n      <td>Call for Service</td>\n      <td>Other</td>\n      <td>False</td>\n      <td>NaN</td>\n      <td>Arrest Driver</td>\n      <td>True</td>\n      <td>16-30 Min</td>\n      <td>False</td>\n    </tr>\n    <tr>\n      <th>4</th>\n      <td>3/14/2005</td>\n      <td>10:00</td>\n      <td>NaN</td>\n      <td>F</td>\n      <td>1984.0</td>\n      <td>21.0</td>\n      <td>White</td>\n      <td>Speeding</td>\n      <td>Speeding</td>\n      <td>False</td>\n      <td>NaN</td>\n      <td>Citation</td>\n      <td>False</td>\n      <td>0-15 Min</td>\n      <td>False</td>\n    </tr>\n    <tr>\n      <th>...</th>\n      <td>...</td>\n      <td>...</td>\n      <td>...</td>\n      <td>...</td>\n      <td>...</td>\n      <td>...</td>\n      <td>...</td>\n      <td>...</td>\n      <td>...</td>\n      <td>...</td>\n      <td>...</td>\n      <td>...</td>\n      <td>...</td>\n      <td>...</td>\n      <td>...</td>\n    </tr>\n    <tr>\n      <th>65530</th>\n      <td>12/6/2012</td>\n      <td>17:54</td>\n      <td>NaN</td>\n      <td>F</td>\n      <td>1987.0</td>\n      <td>25.0</td>\n      <td>White</td>\n      <td>Speeding</td>\n      <td>Speeding</td>\n      <td>False</td>\n      <td>NaN</td>\n      <td>Citation</td>\n      <td>False</td>\n      <td>0-15 Min</td>\n      <td>False</td>\n    </tr>\n    <tr>\n      <th>65531</th>\n      <td>12/6/2012</td>\n      <td>22:22</td>\n      <td>NaN</td>\n      <td>M</td>\n      <td>1954.0</td>\n      <td>58.0</td>\n      <td>White</td>\n      <td>Speeding</td>\n      <td>Speeding</td>\n      <td>False</td>\n      <td>NaN</td>\n      <td>Warning</td>\n      <td>False</td>\n      <td>0-15 Min</td>\n      <td>False</td>\n    </tr>\n    <tr>\n      <th>65532</th>\n      <td>12/6/2012</td>\n      <td>23:20</td>\n      <td>NaN</td>\n      <td>M</td>\n      <td>1985.0</td>\n      <td>27.0</td>\n      <td>Black</td>\n      <td>Equipment/Inspection Violation</td>\n      <td>Equipment</td>\n      <td>False</td>\n      <td>NaN</td>\n      <td>Citation</td>\n      <td>False</td>\n      <td>0-15 Min</td>\n      <td>False</td>\n    </tr>\n    <tr>\n      <th>65533</th>\n      <td>12/7/2012</td>\n      <td>0:23</td>\n      <td>NaN</td>\n      <td>NaN</td>\n      <td>NaN</td>\n      <td>NaN</td>\n      <td>NaN</td>\n      <td>NaN</td>\n      <td>NaN</td>\n      <td>False</td>\n      <td>NaN</td>\n      <td>NaN</td>\n      <td>NaN</td>\n      <td>NaN</td>\n      <td>False</td>\n    </tr>\n    <tr>\n      <th>65534</th>\n      <td>12/7/2012</td>\n      <td>0:30</td>\n      <td>NaN</td>\n      <td>F</td>\n      <td>1985.0</td>\n      <td>27.0</td>\n      <td>White</td>\n      <td>Speeding</td>\n      <td>Speeding</td>\n      <td>False</td>\n      <td>NaN</td>\n      <td>Citation</td>\n      <td>False</td>\n      <td>0-15 Min</td>\n      <td>False</td>\n    </tr>\n  </tbody>\n</table>\n<p>65535 rows × 15 columns</p>\n</div>"
          },
          "metadata": {}
        }
      ],
      "execution_count": 31
    },
    {
      "cell_type": "markdown",
      "source": "----",
      "metadata": {}
    },
    {
      "cell_type": "markdown",
      "source": "### Instruction ( For Data Cleaning ) \n\n# 1. Remove the column that only contains missing values",
      "metadata": {}
    },
    {
      "cell_type": "code",
      "source": "data.head(3)",
      "metadata": {
        "trusted": true
      },
      "outputs": [
        {
          "execution_count": 32,
          "output_type": "execute_result",
          "data": {
            "text/plain": "   stop_date stop_time  country_name driver_gender  driver_age_raw  \\\n0   1/2/2005      1:55           NaN             M          1985.0   \n1  1/18/2005      8:15           NaN             M          1965.0   \n2  1/23/2005     23:15           NaN             M          1972.0   \n\n   driver_age driver_race violation_raw violation  search_conducted  \\\n0        20.0       White      Speeding  Speeding             False   \n1        40.0       White      Speeding  Speeding             False   \n2        33.0       White      Speeding  Speeding             False   \n\n  search_type stop_outcome is_arrested stop_duration  drugs_related_stop  \n0         NaN     Citation       False      0-15 Min               False  \n1         NaN     Citation       False      0-15 Min               False  \n2         NaN     Citation       False      0-15 Min               False  ",
            "text/html": "<div>\n<style scoped>\n    .dataframe tbody tr th:only-of-type {\n        vertical-align: middle;\n    }\n\n    .dataframe tbody tr th {\n        vertical-align: top;\n    }\n\n    .dataframe thead th {\n        text-align: right;\n    }\n</style>\n<table border=\"1\" class=\"dataframe\">\n  <thead>\n    <tr style=\"text-align: right;\">\n      <th></th>\n      <th>stop_date</th>\n      <th>stop_time</th>\n      <th>country_name</th>\n      <th>driver_gender</th>\n      <th>driver_age_raw</th>\n      <th>driver_age</th>\n      <th>driver_race</th>\n      <th>violation_raw</th>\n      <th>violation</th>\n      <th>search_conducted</th>\n      <th>search_type</th>\n      <th>stop_outcome</th>\n      <th>is_arrested</th>\n      <th>stop_duration</th>\n      <th>drugs_related_stop</th>\n    </tr>\n  </thead>\n  <tbody>\n    <tr>\n      <th>0</th>\n      <td>1/2/2005</td>\n      <td>1:55</td>\n      <td>NaN</td>\n      <td>M</td>\n      <td>1985.0</td>\n      <td>20.0</td>\n      <td>White</td>\n      <td>Speeding</td>\n      <td>Speeding</td>\n      <td>False</td>\n      <td>NaN</td>\n      <td>Citation</td>\n      <td>False</td>\n      <td>0-15 Min</td>\n      <td>False</td>\n    </tr>\n    <tr>\n      <th>1</th>\n      <td>1/18/2005</td>\n      <td>8:15</td>\n      <td>NaN</td>\n      <td>M</td>\n      <td>1965.0</td>\n      <td>40.0</td>\n      <td>White</td>\n      <td>Speeding</td>\n      <td>Speeding</td>\n      <td>False</td>\n      <td>NaN</td>\n      <td>Citation</td>\n      <td>False</td>\n      <td>0-15 Min</td>\n      <td>False</td>\n    </tr>\n    <tr>\n      <th>2</th>\n      <td>1/23/2005</td>\n      <td>23:15</td>\n      <td>NaN</td>\n      <td>M</td>\n      <td>1972.0</td>\n      <td>33.0</td>\n      <td>White</td>\n      <td>Speeding</td>\n      <td>Speeding</td>\n      <td>False</td>\n      <td>NaN</td>\n      <td>Citation</td>\n      <td>False</td>\n      <td>0-15 Min</td>\n      <td>False</td>\n    </tr>\n  </tbody>\n</table>\n</div>"
          },
          "metadata": {}
        }
      ],
      "execution_count": 32
    },
    {
      "cell_type": "code",
      "source": "data.count()",
      "metadata": {
        "trusted": true
      },
      "outputs": [
        {
          "execution_count": 35,
          "output_type": "execute_result",
          "data": {
            "text/plain": "stop_date             65535\nstop_time             65535\ndriver_gender         61474\ndriver_age_raw        61481\ndriver_age            61228\ndriver_race           61475\nviolation_raw         61475\nviolation             61475\nsearch_conducted      65535\nsearch_type            2479\nstop_outcome          61475\nis_arrested           61475\nstop_duration         61475\ndrugs_related_stop    65535\ndtype: int64"
          },
          "metadata": {}
        }
      ],
      "execution_count": 35
    },
    {
      "cell_type": "code",
      "source": "data.drop(columns = \"country_name\", inplace = True)",
      "metadata": {
        "trusted": true
      },
      "outputs": [],
      "execution_count": 34
    },
    {
      "cell_type": "markdown",
      "source": "----",
      "metadata": {}
    },
    {
      "cell_type": "markdown",
      "source": "### Question ( Based on Filtering + Value Counts )\n\n# 2. For Speeding , were Men or Women stopped more often ? ",
      "metadata": {}
    },
    {
      "cell_type": "code",
      "source": "data.head(7)",
      "metadata": {
        "trusted": true
      },
      "outputs": [
        {
          "execution_count": 36,
          "output_type": "execute_result",
          "data": {
            "text/plain": "   stop_date stop_time driver_gender  driver_age_raw  driver_age driver_race  \\\n0   1/2/2005      1:55             M          1985.0        20.0       White   \n1  1/18/2005      8:15             M          1965.0        40.0       White   \n2  1/23/2005     23:15             M          1972.0        33.0       White   \n3  2/20/2005     17:15             M          1986.0        19.0       White   \n4  3/14/2005     10:00             F          1984.0        21.0       White   \n5  3/23/2005      9:45             M          1982.0        23.0       Black   \n6   4/1/2005     17:30             M          1969.0        36.0       White   \n\n                    violation_raw  violation  search_conducted search_type  \\\n0                        Speeding   Speeding             False         NaN   \n1                        Speeding   Speeding             False         NaN   \n2                        Speeding   Speeding             False         NaN   \n3                Call for Service      Other             False         NaN   \n4                        Speeding   Speeding             False         NaN   \n5  Equipment/Inspection Violation  Equipment             False         NaN   \n6                        Speeding   Speeding             False         NaN   \n\n    stop_outcome is_arrested stop_duration  drugs_related_stop  \n0       Citation       False      0-15 Min               False  \n1       Citation       False      0-15 Min               False  \n2       Citation       False      0-15 Min               False  \n3  Arrest Driver        True     16-30 Min               False  \n4       Citation       False      0-15 Min               False  \n5       Citation       False      0-15 Min               False  \n6       Citation       False      0-15 Min               False  ",
            "text/html": "<div>\n<style scoped>\n    .dataframe tbody tr th:only-of-type {\n        vertical-align: middle;\n    }\n\n    .dataframe tbody tr th {\n        vertical-align: top;\n    }\n\n    .dataframe thead th {\n        text-align: right;\n    }\n</style>\n<table border=\"1\" class=\"dataframe\">\n  <thead>\n    <tr style=\"text-align: right;\">\n      <th></th>\n      <th>stop_date</th>\n      <th>stop_time</th>\n      <th>driver_gender</th>\n      <th>driver_age_raw</th>\n      <th>driver_age</th>\n      <th>driver_race</th>\n      <th>violation_raw</th>\n      <th>violation</th>\n      <th>search_conducted</th>\n      <th>search_type</th>\n      <th>stop_outcome</th>\n      <th>is_arrested</th>\n      <th>stop_duration</th>\n      <th>drugs_related_stop</th>\n    </tr>\n  </thead>\n  <tbody>\n    <tr>\n      <th>0</th>\n      <td>1/2/2005</td>\n      <td>1:55</td>\n      <td>M</td>\n      <td>1985.0</td>\n      <td>20.0</td>\n      <td>White</td>\n      <td>Speeding</td>\n      <td>Speeding</td>\n      <td>False</td>\n      <td>NaN</td>\n      <td>Citation</td>\n      <td>False</td>\n      <td>0-15 Min</td>\n      <td>False</td>\n    </tr>\n    <tr>\n      <th>1</th>\n      <td>1/18/2005</td>\n      <td>8:15</td>\n      <td>M</td>\n      <td>1965.0</td>\n      <td>40.0</td>\n      <td>White</td>\n      <td>Speeding</td>\n      <td>Speeding</td>\n      <td>False</td>\n      <td>NaN</td>\n      <td>Citation</td>\n      <td>False</td>\n      <td>0-15 Min</td>\n      <td>False</td>\n    </tr>\n    <tr>\n      <th>2</th>\n      <td>1/23/2005</td>\n      <td>23:15</td>\n      <td>M</td>\n      <td>1972.0</td>\n      <td>33.0</td>\n      <td>White</td>\n      <td>Speeding</td>\n      <td>Speeding</td>\n      <td>False</td>\n      <td>NaN</td>\n      <td>Citation</td>\n      <td>False</td>\n      <td>0-15 Min</td>\n      <td>False</td>\n    </tr>\n    <tr>\n      <th>3</th>\n      <td>2/20/2005</td>\n      <td>17:15</td>\n      <td>M</td>\n      <td>1986.0</td>\n      <td>19.0</td>\n      <td>White</td>\n      <td>Call for Service</td>\n      <td>Other</td>\n      <td>False</td>\n      <td>NaN</td>\n      <td>Arrest Driver</td>\n      <td>True</td>\n      <td>16-30 Min</td>\n      <td>False</td>\n    </tr>\n    <tr>\n      <th>4</th>\n      <td>3/14/2005</td>\n      <td>10:00</td>\n      <td>F</td>\n      <td>1984.0</td>\n      <td>21.0</td>\n      <td>White</td>\n      <td>Speeding</td>\n      <td>Speeding</td>\n      <td>False</td>\n      <td>NaN</td>\n      <td>Citation</td>\n      <td>False</td>\n      <td>0-15 Min</td>\n      <td>False</td>\n    </tr>\n    <tr>\n      <th>5</th>\n      <td>3/23/2005</td>\n      <td>9:45</td>\n      <td>M</td>\n      <td>1982.0</td>\n      <td>23.0</td>\n      <td>Black</td>\n      <td>Equipment/Inspection Violation</td>\n      <td>Equipment</td>\n      <td>False</td>\n      <td>NaN</td>\n      <td>Citation</td>\n      <td>False</td>\n      <td>0-15 Min</td>\n      <td>False</td>\n    </tr>\n    <tr>\n      <th>6</th>\n      <td>4/1/2005</td>\n      <td>17:30</td>\n      <td>M</td>\n      <td>1969.0</td>\n      <td>36.0</td>\n      <td>White</td>\n      <td>Speeding</td>\n      <td>Speeding</td>\n      <td>False</td>\n      <td>NaN</td>\n      <td>Citation</td>\n      <td>False</td>\n      <td>0-15 Min</td>\n      <td>False</td>\n    </tr>\n  </tbody>\n</table>\n</div>"
          },
          "metadata": {}
        }
      ],
      "execution_count": 36
    },
    {
      "cell_type": "code",
      "source": "data[data[\"violation\"] == \"Speeding\"].driver_gender.value_counts()",
      "metadata": {
        "trusted": true
      },
      "outputs": [
        {
          "execution_count": 47,
          "output_type": "execute_result",
          "data": {
            "text/plain": "driver_gender\nM    25517\nF    11686\nName: count, dtype: int64"
          },
          "metadata": {}
        }
      ],
      "execution_count": 47
    },
    {
      "cell_type": "markdown",
      "source": "----",
      "metadata": {}
    },
    {
      "cell_type": "markdown",
      "source": "### Question ( Groupby )\n# 3. Does gender affect who gets searched during a stop ?",
      "metadata": {}
    },
    {
      "cell_type": "code",
      "source": "data.head(10)",
      "metadata": {
        "trusted": true
      },
      "outputs": [
        {
          "execution_count": 48,
          "output_type": "execute_result",
          "data": {
            "text/plain": "   stop_date stop_time driver_gender  driver_age_raw  driver_age driver_race  \\\n0   1/2/2005      1:55             M          1985.0        20.0       White   \n1  1/18/2005      8:15             M          1965.0        40.0       White   \n2  1/23/2005     23:15             M          1972.0        33.0       White   \n3  2/20/2005     17:15             M          1986.0        19.0       White   \n4  3/14/2005     10:00             F          1984.0        21.0       White   \n5  3/23/2005      9:45             M          1982.0        23.0       Black   \n6   4/1/2005     17:30             M          1969.0        36.0       White   \n7   6/6/2005     13:20             F          1986.0        19.0       White   \n8  7/13/2005     10:15             M          1970.0        35.0       Black   \n9  7/13/2005     15:45             M          1970.0        35.0       White   \n\n                    violation_raw  violation  search_conducted search_type  \\\n0                        Speeding   Speeding             False         NaN   \n1                        Speeding   Speeding             False         NaN   \n2                        Speeding   Speeding             False         NaN   \n3                Call for Service      Other             False         NaN   \n4                        Speeding   Speeding             False         NaN   \n5  Equipment/Inspection Violation  Equipment             False         NaN   \n6                        Speeding   Speeding             False         NaN   \n7                        Speeding   Speeding             False         NaN   \n8                        Speeding   Speeding             False         NaN   \n9                        Speeding   Speeding             False         NaN   \n\n    stop_outcome is_arrested stop_duration  drugs_related_stop  \n0       Citation       False      0-15 Min               False  \n1       Citation       False      0-15 Min               False  \n2       Citation       False      0-15 Min               False  \n3  Arrest Driver        True     16-30 Min               False  \n4       Citation       False      0-15 Min               False  \n5       Citation       False      0-15 Min               False  \n6       Citation       False      0-15 Min               False  \n7       Citation       False      0-15 Min               False  \n8       Citation       False      0-15 Min               False  \n9       Citation       False      0-15 Min               False  ",
            "text/html": "<div>\n<style scoped>\n    .dataframe tbody tr th:only-of-type {\n        vertical-align: middle;\n    }\n\n    .dataframe tbody tr th {\n        vertical-align: top;\n    }\n\n    .dataframe thead th {\n        text-align: right;\n    }\n</style>\n<table border=\"1\" class=\"dataframe\">\n  <thead>\n    <tr style=\"text-align: right;\">\n      <th></th>\n      <th>stop_date</th>\n      <th>stop_time</th>\n      <th>driver_gender</th>\n      <th>driver_age_raw</th>\n      <th>driver_age</th>\n      <th>driver_race</th>\n      <th>violation_raw</th>\n      <th>violation</th>\n      <th>search_conducted</th>\n      <th>search_type</th>\n      <th>stop_outcome</th>\n      <th>is_arrested</th>\n      <th>stop_duration</th>\n      <th>drugs_related_stop</th>\n    </tr>\n  </thead>\n  <tbody>\n    <tr>\n      <th>0</th>\n      <td>1/2/2005</td>\n      <td>1:55</td>\n      <td>M</td>\n      <td>1985.0</td>\n      <td>20.0</td>\n      <td>White</td>\n      <td>Speeding</td>\n      <td>Speeding</td>\n      <td>False</td>\n      <td>NaN</td>\n      <td>Citation</td>\n      <td>False</td>\n      <td>0-15 Min</td>\n      <td>False</td>\n    </tr>\n    <tr>\n      <th>1</th>\n      <td>1/18/2005</td>\n      <td>8:15</td>\n      <td>M</td>\n      <td>1965.0</td>\n      <td>40.0</td>\n      <td>White</td>\n      <td>Speeding</td>\n      <td>Speeding</td>\n      <td>False</td>\n      <td>NaN</td>\n      <td>Citation</td>\n      <td>False</td>\n      <td>0-15 Min</td>\n      <td>False</td>\n    </tr>\n    <tr>\n      <th>2</th>\n      <td>1/23/2005</td>\n      <td>23:15</td>\n      <td>M</td>\n      <td>1972.0</td>\n      <td>33.0</td>\n      <td>White</td>\n      <td>Speeding</td>\n      <td>Speeding</td>\n      <td>False</td>\n      <td>NaN</td>\n      <td>Citation</td>\n      <td>False</td>\n      <td>0-15 Min</td>\n      <td>False</td>\n    </tr>\n    <tr>\n      <th>3</th>\n      <td>2/20/2005</td>\n      <td>17:15</td>\n      <td>M</td>\n      <td>1986.0</td>\n      <td>19.0</td>\n      <td>White</td>\n      <td>Call for Service</td>\n      <td>Other</td>\n      <td>False</td>\n      <td>NaN</td>\n      <td>Arrest Driver</td>\n      <td>True</td>\n      <td>16-30 Min</td>\n      <td>False</td>\n    </tr>\n    <tr>\n      <th>4</th>\n      <td>3/14/2005</td>\n      <td>10:00</td>\n      <td>F</td>\n      <td>1984.0</td>\n      <td>21.0</td>\n      <td>White</td>\n      <td>Speeding</td>\n      <td>Speeding</td>\n      <td>False</td>\n      <td>NaN</td>\n      <td>Citation</td>\n      <td>False</td>\n      <td>0-15 Min</td>\n      <td>False</td>\n    </tr>\n    <tr>\n      <th>5</th>\n      <td>3/23/2005</td>\n      <td>9:45</td>\n      <td>M</td>\n      <td>1982.0</td>\n      <td>23.0</td>\n      <td>Black</td>\n      <td>Equipment/Inspection Violation</td>\n      <td>Equipment</td>\n      <td>False</td>\n      <td>NaN</td>\n      <td>Citation</td>\n      <td>False</td>\n      <td>0-15 Min</td>\n      <td>False</td>\n    </tr>\n    <tr>\n      <th>6</th>\n      <td>4/1/2005</td>\n      <td>17:30</td>\n      <td>M</td>\n      <td>1969.0</td>\n      <td>36.0</td>\n      <td>White</td>\n      <td>Speeding</td>\n      <td>Speeding</td>\n      <td>False</td>\n      <td>NaN</td>\n      <td>Citation</td>\n      <td>False</td>\n      <td>0-15 Min</td>\n      <td>False</td>\n    </tr>\n    <tr>\n      <th>7</th>\n      <td>6/6/2005</td>\n      <td>13:20</td>\n      <td>F</td>\n      <td>1986.0</td>\n      <td>19.0</td>\n      <td>White</td>\n      <td>Speeding</td>\n      <td>Speeding</td>\n      <td>False</td>\n      <td>NaN</td>\n      <td>Citation</td>\n      <td>False</td>\n      <td>0-15 Min</td>\n      <td>False</td>\n    </tr>\n    <tr>\n      <th>8</th>\n      <td>7/13/2005</td>\n      <td>10:15</td>\n      <td>M</td>\n      <td>1970.0</td>\n      <td>35.0</td>\n      <td>Black</td>\n      <td>Speeding</td>\n      <td>Speeding</td>\n      <td>False</td>\n      <td>NaN</td>\n      <td>Citation</td>\n      <td>False</td>\n      <td>0-15 Min</td>\n      <td>False</td>\n    </tr>\n    <tr>\n      <th>9</th>\n      <td>7/13/2005</td>\n      <td>15:45</td>\n      <td>M</td>\n      <td>1970.0</td>\n      <td>35.0</td>\n      <td>White</td>\n      <td>Speeding</td>\n      <td>Speeding</td>\n      <td>False</td>\n      <td>NaN</td>\n      <td>Citation</td>\n      <td>False</td>\n      <td>0-15 Min</td>\n      <td>False</td>\n    </tr>\n  </tbody>\n</table>\n</div>"
          },
          "metadata": {}
        }
      ],
      "execution_count": 48
    },
    {
      "cell_type": "code",
      "source": "data.groupby(\"driver_gender\").search_conducted.sum()",
      "metadata": {
        "trusted": true
      },
      "outputs": [
        {
          "execution_count": 52,
          "output_type": "execute_result",
          "data": {
            "text/plain": "driver_gender\nF     366\nM    2113\nName: search_conducted, dtype: int64"
          },
          "metadata": {}
        }
      ],
      "execution_count": 52
    },
    {
      "cell_type": "code",
      "source": "data.search_conducted.value_counts()",
      "metadata": {
        "trusted": true
      },
      "outputs": [
        {
          "execution_count": 53,
          "output_type": "execute_result",
          "data": {
            "text/plain": "search_conducted\nFalse    63056\nTrue      2479\nName: count, dtype: int64"
          },
          "metadata": {}
        }
      ],
      "execution_count": 53
    },
    {
      "cell_type": "markdown",
      "source": "----",
      "metadata": {}
    },
    {
      "cell_type": "markdown",
      "source": "### Question ( mapping + data-type casting )\n\n# 4. What is the mean stop_duration ?",
      "metadata": {}
    },
    {
      "cell_type": "code",
      "source": "data.head()",
      "metadata": {
        "trusted": true
      },
      "outputs": [
        {
          "execution_count": 54,
          "output_type": "execute_result",
          "data": {
            "text/plain": "   stop_date stop_time driver_gender  driver_age_raw  driver_age driver_race  \\\n0   1/2/2005      1:55             M          1985.0        20.0       White   \n1  1/18/2005      8:15             M          1965.0        40.0       White   \n2  1/23/2005     23:15             M          1972.0        33.0       White   \n3  2/20/2005     17:15             M          1986.0        19.0       White   \n4  3/14/2005     10:00             F          1984.0        21.0       White   \n\n      violation_raw violation  search_conducted search_type   stop_outcome  \\\n0          Speeding  Speeding             False         NaN       Citation   \n1          Speeding  Speeding             False         NaN       Citation   \n2          Speeding  Speeding             False         NaN       Citation   \n3  Call for Service     Other             False         NaN  Arrest Driver   \n4          Speeding  Speeding             False         NaN       Citation   \n\n  is_arrested stop_duration  drugs_related_stop  \n0       False      0-15 Min               False  \n1       False      0-15 Min               False  \n2       False      0-15 Min               False  \n3        True     16-30 Min               False  \n4       False      0-15 Min               False  ",
            "text/html": "<div>\n<style scoped>\n    .dataframe tbody tr th:only-of-type {\n        vertical-align: middle;\n    }\n\n    .dataframe tbody tr th {\n        vertical-align: top;\n    }\n\n    .dataframe thead th {\n        text-align: right;\n    }\n</style>\n<table border=\"1\" class=\"dataframe\">\n  <thead>\n    <tr style=\"text-align: right;\">\n      <th></th>\n      <th>stop_date</th>\n      <th>stop_time</th>\n      <th>driver_gender</th>\n      <th>driver_age_raw</th>\n      <th>driver_age</th>\n      <th>driver_race</th>\n      <th>violation_raw</th>\n      <th>violation</th>\n      <th>search_conducted</th>\n      <th>search_type</th>\n      <th>stop_outcome</th>\n      <th>is_arrested</th>\n      <th>stop_duration</th>\n      <th>drugs_related_stop</th>\n    </tr>\n  </thead>\n  <tbody>\n    <tr>\n      <th>0</th>\n      <td>1/2/2005</td>\n      <td>1:55</td>\n      <td>M</td>\n      <td>1985.0</td>\n      <td>20.0</td>\n      <td>White</td>\n      <td>Speeding</td>\n      <td>Speeding</td>\n      <td>False</td>\n      <td>NaN</td>\n      <td>Citation</td>\n      <td>False</td>\n      <td>0-15 Min</td>\n      <td>False</td>\n    </tr>\n    <tr>\n      <th>1</th>\n      <td>1/18/2005</td>\n      <td>8:15</td>\n      <td>M</td>\n      <td>1965.0</td>\n      <td>40.0</td>\n      <td>White</td>\n      <td>Speeding</td>\n      <td>Speeding</td>\n      <td>False</td>\n      <td>NaN</td>\n      <td>Citation</td>\n      <td>False</td>\n      <td>0-15 Min</td>\n      <td>False</td>\n    </tr>\n    <tr>\n      <th>2</th>\n      <td>1/23/2005</td>\n      <td>23:15</td>\n      <td>M</td>\n      <td>1972.0</td>\n      <td>33.0</td>\n      <td>White</td>\n      <td>Speeding</td>\n      <td>Speeding</td>\n      <td>False</td>\n      <td>NaN</td>\n      <td>Citation</td>\n      <td>False</td>\n      <td>0-15 Min</td>\n      <td>False</td>\n    </tr>\n    <tr>\n      <th>3</th>\n      <td>2/20/2005</td>\n      <td>17:15</td>\n      <td>M</td>\n      <td>1986.0</td>\n      <td>19.0</td>\n      <td>White</td>\n      <td>Call for Service</td>\n      <td>Other</td>\n      <td>False</td>\n      <td>NaN</td>\n      <td>Arrest Driver</td>\n      <td>True</td>\n      <td>16-30 Min</td>\n      <td>False</td>\n    </tr>\n    <tr>\n      <th>4</th>\n      <td>3/14/2005</td>\n      <td>10:00</td>\n      <td>F</td>\n      <td>1984.0</td>\n      <td>21.0</td>\n      <td>White</td>\n      <td>Speeding</td>\n      <td>Speeding</td>\n      <td>False</td>\n      <td>NaN</td>\n      <td>Citation</td>\n      <td>False</td>\n      <td>0-15 Min</td>\n      <td>False</td>\n    </tr>\n  </tbody>\n</table>\n</div>"
          },
          "metadata": {}
        }
      ],
      "execution_count": 54
    },
    {
      "cell_type": "code",
      "source": "data.stop_duration.value_counts()",
      "metadata": {
        "trusted": true
      },
      "outputs": [
        {
          "execution_count": 55,
          "output_type": "execute_result",
          "data": {
            "text/plain": "stop_duration\n0-15 Min     47379\n16-30 Min    11448\n30+ Min       2647\n2                1\nName: count, dtype: int64"
          },
          "metadata": {}
        }
      ],
      "execution_count": 55
    },
    {
      "cell_type": "code",
      "source": "data[\"stop_duration\"] = data[\"stop_duration\"].map({\"0-15 Min\": 7.5, \"16-30 Min\" : 22.5, \"30+ Min\" : 45})",
      "metadata": {
        "trusted": true
      },
      "outputs": [],
      "execution_count": 60
    },
    {
      "cell_type": "code",
      "source": "data.head()",
      "metadata": {
        "trusted": true
      },
      "outputs": [
        {
          "execution_count": 61,
          "output_type": "execute_result",
          "data": {
            "text/plain": "   stop_date stop_time driver_gender  driver_age_raw  driver_age driver_race  \\\n0   1/2/2005      1:55             M          1985.0        20.0       White   \n1  1/18/2005      8:15             M          1965.0        40.0       White   \n2  1/23/2005     23:15             M          1972.0        33.0       White   \n3  2/20/2005     17:15             M          1986.0        19.0       White   \n4  3/14/2005     10:00             F          1984.0        21.0       White   \n\n      violation_raw violation  search_conducted search_type   stop_outcome  \\\n0          Speeding  Speeding             False         NaN       Citation   \n1          Speeding  Speeding             False         NaN       Citation   \n2          Speeding  Speeding             False         NaN       Citation   \n3  Call for Service     Other             False         NaN  Arrest Driver   \n4          Speeding  Speeding             False         NaN       Citation   \n\n  is_arrested  stop_duration  drugs_related_stop  \n0       False            7.5               False  \n1       False            7.5               False  \n2       False            7.5               False  \n3        True           22.5               False  \n4       False            7.5               False  ",
            "text/html": "<div>\n<style scoped>\n    .dataframe tbody tr th:only-of-type {\n        vertical-align: middle;\n    }\n\n    .dataframe tbody tr th {\n        vertical-align: top;\n    }\n\n    .dataframe thead th {\n        text-align: right;\n    }\n</style>\n<table border=\"1\" class=\"dataframe\">\n  <thead>\n    <tr style=\"text-align: right;\">\n      <th></th>\n      <th>stop_date</th>\n      <th>stop_time</th>\n      <th>driver_gender</th>\n      <th>driver_age_raw</th>\n      <th>driver_age</th>\n      <th>driver_race</th>\n      <th>violation_raw</th>\n      <th>violation</th>\n      <th>search_conducted</th>\n      <th>search_type</th>\n      <th>stop_outcome</th>\n      <th>is_arrested</th>\n      <th>stop_duration</th>\n      <th>drugs_related_stop</th>\n    </tr>\n  </thead>\n  <tbody>\n    <tr>\n      <th>0</th>\n      <td>1/2/2005</td>\n      <td>1:55</td>\n      <td>M</td>\n      <td>1985.0</td>\n      <td>20.0</td>\n      <td>White</td>\n      <td>Speeding</td>\n      <td>Speeding</td>\n      <td>False</td>\n      <td>NaN</td>\n      <td>Citation</td>\n      <td>False</td>\n      <td>7.5</td>\n      <td>False</td>\n    </tr>\n    <tr>\n      <th>1</th>\n      <td>1/18/2005</td>\n      <td>8:15</td>\n      <td>M</td>\n      <td>1965.0</td>\n      <td>40.0</td>\n      <td>White</td>\n      <td>Speeding</td>\n      <td>Speeding</td>\n      <td>False</td>\n      <td>NaN</td>\n      <td>Citation</td>\n      <td>False</td>\n      <td>7.5</td>\n      <td>False</td>\n    </tr>\n    <tr>\n      <th>2</th>\n      <td>1/23/2005</td>\n      <td>23:15</td>\n      <td>M</td>\n      <td>1972.0</td>\n      <td>33.0</td>\n      <td>White</td>\n      <td>Speeding</td>\n      <td>Speeding</td>\n      <td>False</td>\n      <td>NaN</td>\n      <td>Citation</td>\n      <td>False</td>\n      <td>7.5</td>\n      <td>False</td>\n    </tr>\n    <tr>\n      <th>3</th>\n      <td>2/20/2005</td>\n      <td>17:15</td>\n      <td>M</td>\n      <td>1986.0</td>\n      <td>19.0</td>\n      <td>White</td>\n      <td>Call for Service</td>\n      <td>Other</td>\n      <td>False</td>\n      <td>NaN</td>\n      <td>Arrest Driver</td>\n      <td>True</td>\n      <td>22.5</td>\n      <td>False</td>\n    </tr>\n    <tr>\n      <th>4</th>\n      <td>3/14/2005</td>\n      <td>10:00</td>\n      <td>F</td>\n      <td>1984.0</td>\n      <td>21.0</td>\n      <td>White</td>\n      <td>Speeding</td>\n      <td>Speeding</td>\n      <td>False</td>\n      <td>NaN</td>\n      <td>Citation</td>\n      <td>False</td>\n      <td>7.5</td>\n      <td>False</td>\n    </tr>\n  </tbody>\n</table>\n</div>"
          },
          "metadata": {}
        }
      ],
      "execution_count": 61
    },
    {
      "cell_type": "code",
      "source": "data[\"stop_duration\"].mean()",
      "metadata": {
        "trusted": true
      },
      "outputs": [
        {
          "execution_count": 62,
          "output_type": "execute_result",
          "data": {
            "text/plain": "11.908083092038911"
          },
          "metadata": {}
        }
      ],
      "execution_count": 62
    },
    {
      "cell_type": "markdown",
      "source": "-----",
      "metadata": {}
    },
    {
      "cell_type": "markdown",
      "source": "### Question ( Groupby , Describe )\n# 5. Compare the age distributions for each violation",
      "metadata": {}
    },
    {
      "cell_type": "code",
      "source": "data.groupby(\"violation\").describe()",
      "metadata": {
        "trusted": true
      },
      "outputs": [
        {
          "execution_count": 63,
          "output_type": "execute_result",
          "data": {
            "text/plain": "                    driver_age_raw                                           \\\n                             count         mean         std     min     25%   \nviolation                                                                     \nEquipment                   6515.0  1975.935380   65.818854     0.0  1971.0   \nMoving violation           11926.0  1965.462770  120.359733     0.0  1963.0   \nOther                       3583.0  1912.442088  329.302162     0.0  1959.0   \nRegistration/plates         2243.0  1973.686135   73.103745     0.0  1969.0   \nSeat belt                      3.0  1981.666667   10.214369  1970.0  1978.0   \nSpeeding                   37204.0  1972.189711   86.672468     0.0  1966.0   \n\n                                            driver_age             ...        \\\n                        50%     75%     max      count       mean  ...   75%   \nviolation                                                          ...         \nEquipment            1981.0  1987.0  2005.0     6507.0  31.682957  ...  39.0   \nMoving violation     1974.0  1984.0  2006.0    11876.0  36.736443  ...  47.0   \nOther                1968.0  1979.0  2011.0     3477.0  40.362381  ...  50.0   \nRegistration/plates  1979.0  1985.0  1996.0     2240.0  32.656696  ...  40.0   \nSeat belt            1986.0  1987.5  1989.0        3.0  30.333333  ...  34.0   \nSpeeding             1979.0  1985.0  8801.0    37120.0  33.262581  ...  42.0   \n\n                          stop_duration                                       \\\n                      max         count       mean        std  min  25%  50%   \nviolation                                                                      \nEquipment            81.0        6516.0  12.081031   9.647022  7.5  7.5  7.5   \nMoving violation     86.0       11925.0  14.510063  11.660797  7.5  7.5  7.5   \nOther                86.0        3583.0  16.800167  12.969560  7.5  7.5  7.5   \nRegistration/plates  74.0        2243.0  15.274186  11.115952  7.5  7.5  7.5   \nSeat belt            42.0           3.0   7.500000   0.000000  7.5  7.5  7.5   \nSpeeding             88.0       37204.0  10.370054   6.792030  7.5  7.5  7.5   \n\n                                 \n                      75%   max  \nviolation                        \nEquipment             7.5  45.0  \nMoving violation     22.5  45.0  \nOther                22.5  45.0  \nRegistration/plates  22.5  45.0  \nSeat belt             7.5   7.5  \nSpeeding              7.5  45.0  \n\n[6 rows x 24 columns]",
            "text/html": "<div>\n<style scoped>\n    .dataframe tbody tr th:only-of-type {\n        vertical-align: middle;\n    }\n\n    .dataframe tbody tr th {\n        vertical-align: top;\n    }\n\n    .dataframe thead tr th {\n        text-align: left;\n    }\n\n    .dataframe thead tr:last-of-type th {\n        text-align: right;\n    }\n</style>\n<table border=\"1\" class=\"dataframe\">\n  <thead>\n    <tr>\n      <th></th>\n      <th colspan=\"8\" halign=\"left\">driver_age_raw</th>\n      <th colspan=\"5\" halign=\"left\">driver_age</th>\n      <th colspan=\"8\" halign=\"left\">stop_duration</th>\n    </tr>\n    <tr>\n      <th></th>\n      <th>count</th>\n      <th>mean</th>\n      <th>std</th>\n      <th>min</th>\n      <th>25%</th>\n      <th>50%</th>\n      <th>75%</th>\n      <th>max</th>\n      <th>count</th>\n      <th>mean</th>\n      <th>...</th>\n      <th>75%</th>\n      <th>max</th>\n      <th>count</th>\n      <th>mean</th>\n      <th>std</th>\n      <th>min</th>\n      <th>25%</th>\n      <th>50%</th>\n      <th>75%</th>\n      <th>max</th>\n    </tr>\n    <tr>\n      <th>violation</th>\n      <th></th>\n      <th></th>\n      <th></th>\n      <th></th>\n      <th></th>\n      <th></th>\n      <th></th>\n      <th></th>\n      <th></th>\n      <th></th>\n      <th></th>\n      <th></th>\n      <th></th>\n      <th></th>\n      <th></th>\n      <th></th>\n      <th></th>\n      <th></th>\n      <th></th>\n      <th></th>\n      <th></th>\n    </tr>\n  </thead>\n  <tbody>\n    <tr>\n      <th>Equipment</th>\n      <td>6515.0</td>\n      <td>1975.935380</td>\n      <td>65.818854</td>\n      <td>0.0</td>\n      <td>1971.0</td>\n      <td>1981.0</td>\n      <td>1987.0</td>\n      <td>2005.0</td>\n      <td>6507.0</td>\n      <td>31.682957</td>\n      <td>...</td>\n      <td>39.0</td>\n      <td>81.0</td>\n      <td>6516.0</td>\n      <td>12.081031</td>\n      <td>9.647022</td>\n      <td>7.5</td>\n      <td>7.5</td>\n      <td>7.5</td>\n      <td>7.5</td>\n      <td>45.0</td>\n    </tr>\n    <tr>\n      <th>Moving violation</th>\n      <td>11926.0</td>\n      <td>1965.462770</td>\n      <td>120.359733</td>\n      <td>0.0</td>\n      <td>1963.0</td>\n      <td>1974.0</td>\n      <td>1984.0</td>\n      <td>2006.0</td>\n      <td>11876.0</td>\n      <td>36.736443</td>\n      <td>...</td>\n      <td>47.0</td>\n      <td>86.0</td>\n      <td>11925.0</td>\n      <td>14.510063</td>\n      <td>11.660797</td>\n      <td>7.5</td>\n      <td>7.5</td>\n      <td>7.5</td>\n      <td>22.5</td>\n      <td>45.0</td>\n    </tr>\n    <tr>\n      <th>Other</th>\n      <td>3583.0</td>\n      <td>1912.442088</td>\n      <td>329.302162</td>\n      <td>0.0</td>\n      <td>1959.0</td>\n      <td>1968.0</td>\n      <td>1979.0</td>\n      <td>2011.0</td>\n      <td>3477.0</td>\n      <td>40.362381</td>\n      <td>...</td>\n      <td>50.0</td>\n      <td>86.0</td>\n      <td>3583.0</td>\n      <td>16.800167</td>\n      <td>12.969560</td>\n      <td>7.5</td>\n      <td>7.5</td>\n      <td>7.5</td>\n      <td>22.5</td>\n      <td>45.0</td>\n    </tr>\n    <tr>\n      <th>Registration/plates</th>\n      <td>2243.0</td>\n      <td>1973.686135</td>\n      <td>73.103745</td>\n      <td>0.0</td>\n      <td>1969.0</td>\n      <td>1979.0</td>\n      <td>1985.0</td>\n      <td>1996.0</td>\n      <td>2240.0</td>\n      <td>32.656696</td>\n      <td>...</td>\n      <td>40.0</td>\n      <td>74.0</td>\n      <td>2243.0</td>\n      <td>15.274186</td>\n      <td>11.115952</td>\n      <td>7.5</td>\n      <td>7.5</td>\n      <td>7.5</td>\n      <td>22.5</td>\n      <td>45.0</td>\n    </tr>\n    <tr>\n      <th>Seat belt</th>\n      <td>3.0</td>\n      <td>1981.666667</td>\n      <td>10.214369</td>\n      <td>1970.0</td>\n      <td>1978.0</td>\n      <td>1986.0</td>\n      <td>1987.5</td>\n      <td>1989.0</td>\n      <td>3.0</td>\n      <td>30.333333</td>\n      <td>...</td>\n      <td>34.0</td>\n      <td>42.0</td>\n      <td>3.0</td>\n      <td>7.500000</td>\n      <td>0.000000</td>\n      <td>7.5</td>\n      <td>7.5</td>\n      <td>7.5</td>\n      <td>7.5</td>\n      <td>7.5</td>\n    </tr>\n    <tr>\n      <th>Speeding</th>\n      <td>37204.0</td>\n      <td>1972.189711</td>\n      <td>86.672468</td>\n      <td>0.0</td>\n      <td>1966.0</td>\n      <td>1979.0</td>\n      <td>1985.0</td>\n      <td>8801.0</td>\n      <td>37120.0</td>\n      <td>33.262581</td>\n      <td>...</td>\n      <td>42.0</td>\n      <td>88.0</td>\n      <td>37204.0</td>\n      <td>10.370054</td>\n      <td>6.792030</td>\n      <td>7.5</td>\n      <td>7.5</td>\n      <td>7.5</td>\n      <td>7.5</td>\n      <td>45.0</td>\n    </tr>\n  </tbody>\n</table>\n<p>6 rows × 24 columns</p>\n</div>"
          },
          "metadata": {}
        }
      ],
      "execution_count": 63
    },
    {
      "cell_type": "markdown",
      "source": "----",
      "metadata": {}
    },
    {
      "cell_type": "markdown",
      "source": "----",
      "metadata": {}
    },
    {
      "cell_type": "markdown",
      "source": "-----",
      "metadata": {}
    },
    {
      "cell_type": "markdown",
      "source": "### Solved by Dias Onaibaev",
      "metadata": {}
    },
    {
      "cell_type": "markdown",
      "source": "## By - Rohit Grewal",
      "metadata": {}
    }
  ]
}